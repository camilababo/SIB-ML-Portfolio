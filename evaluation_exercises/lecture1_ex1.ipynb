{
 "cells": [
  {
   "cell_type": "markdown",
   "source": [
    "# Exercise 1: NumPy array Indexing/Slicing"
   ],
   "metadata": {
    "collapsed": false
   }
  },
  {
   "cell_type": "markdown",
   "source": [
    "## Exercice 1.1:\n",
    "Load the dataset."
   ],
   "metadata": {
    "collapsed": false
   }
  },
  {
   "cell_type": "code",
   "execution_count": 115,
   "outputs": [],
   "source": [
    "# import numpy as np\n",
    "#\n",
    "# file_path = 'C:/Users/anaca/Documents/GitHub/SIB-ML-Portfolio/datasets/iris.csv'\n",
    "#\n",
    "# iris_df = np.genfromtxt(file_path, delimiter=\",\", names=True, dtype=None, encoding='UTF-8')\n",
    "# iris_df\n",
    "# iris_df.shape\n",
    "# dataset = np.reshape(iris_df, (1, iris_df.size))\n",
    "# abc = dataset.reshape(dataset, (150,5))"
   ],
   "metadata": {
    "collapsed": false
   }
  },
  {
   "cell_type": "code",
   "execution_count": 3,
   "outputs": [],
   "source": [
    "import pandas as pd\n",
    "import pathlib\n",
    "\n",
    "datasets_dir = pathlib.Path('../datasets')\n",
    "iris_df = pd.read_csv(f'{datasets_dir}/iris.csv')\n",
    "# print(iris_df)"
   ],
   "metadata": {
    "collapsed": false
   }
  },
  {
   "cell_type": "markdown",
   "source": [
    "## Exercise 1.2:\n",
    "Select first variable and determine its dimension."
   ],
   "metadata": {
    "collapsed": false
   }
  },
  {
   "cell_type": "code",
   "execution_count": 4,
   "outputs": [
    {
     "name": "stdout",
     "output_type": "stream",
     "text": [
      " The dimension of the first independet variable is 150.\n"
     ]
    }
   ],
   "source": [
    "first_var = iris_df.iloc[:, 0]\n",
    "dim = len(first_var)\n",
    "print(f\" The dimension of the first independet variable is %d.\" % dim)"
   ],
   "metadata": {
    "collapsed": false
   }
  },
  {
   "cell_type": "markdown",
   "source": [
    "## Exercise 1.3:\n",
    "Select last five samples and calculate mean."
   ],
   "metadata": {
    "collapsed": false
   }
  },
  {
   "cell_type": "code",
   "execution_count": 6,
   "outputs": [
    {
     "name": "stdout",
     "output_type": "stream",
     "text": [
      " The last 5 samples of the dataset are: \n",
      "      sepal_length  sepal_width  petal_length  petal_width           class\n",
      "145           6.7          3.0           5.2          2.3  Iris-virginica\n",
      "146           6.3          2.5           5.0          1.9  Iris-virginica\n",
      "147           6.5          3.0           5.2          2.0  Iris-virginica\n",
      "148           6.2          3.4           5.4          2.3  Iris-virginica\n",
      "149           5.9          3.0           5.1          1.8  Iris-virginica\n"
     ]
    }
   ],
   "source": [
    "last_five = iris_df.iloc[-5:, :]\n",
    "print(f\" The last 5 samples of the dataset are: \\n %s\" %last_five)"
   ],
   "metadata": {
    "collapsed": false
   }
  },
  {
   "cell_type": "code",
   "execution_count": 7,
   "outputs": [
    {
     "name": "stdout",
     "output_type": "stream",
     "text": [
      " The mean of each variable of the last 5 samples is: \n",
      " sepal_length    6.32\n",
      "sepal_width     2.98\n",
      "petal_length    5.18\n",
      "petal_width     2.06\n",
      "dtype: float64\n"
     ]
    }
   ],
   "source": [
    "last_five_mean = last_five.mean(numeric_only=True)\n",
    "print(f\" The mean of each variable of the last 5 samples is: \\n %s\" %last_five_mean)"
   ],
   "metadata": {
    "collapsed": false
   }
  },
  {
   "cell_type": "markdown",
   "source": [
    "## Exercise 1.4:\n",
    "Select samples with variable values equal or above 1."
   ],
   "metadata": {
    "collapsed": false
   }
  },
  {
   "cell_type": "code",
   "execution_count": 8,
   "outputs": [
    {
     "name": "stdout",
     "output_type": "stream",
     "text": [
      " The samples with variables values equal or above 1 are: \n",
      "      sepal_length  sepal_width  petal_length  petal_width            class\n",
      "50            7.0          3.2           4.7          1.4  Iris-versicolor\n",
      "51            6.4          3.2           4.5          1.5  Iris-versicolor\n",
      "52            6.9          3.1           4.9          1.5  Iris-versicolor\n",
      "53            5.5          2.3           4.0          1.3  Iris-versicolor\n",
      "54            6.5          2.8           4.6          1.5  Iris-versicolor\n",
      "..            ...          ...           ...          ...              ...\n",
      "145           6.7          3.0           5.2          2.3   Iris-virginica\n",
      "146           6.3          2.5           5.0          1.9   Iris-virginica\n",
      "147           6.5          3.0           5.2          2.0   Iris-virginica\n",
      "148           6.2          3.4           5.4          2.3   Iris-virginica\n",
      "149           5.9          3.0           5.1          1.8   Iris-virginica\n",
      "\n",
      "[100 rows x 5 columns]\n"
     ]
    }
   ],
   "source": [
    "above1 = iris_df.loc[(iris_df['sepal_length'] >= 1) & (iris_df['sepal_width'] >= 1) & (iris_df['petal_length'] >= 1)\n",
    "\n",
    "                     & (iris_df['petal_width'] >= 1)]\n",
    "print(f\" The samples with variables values equal or above 1 are: \\n %s\" %above1)"
   ],
   "metadata": {
    "collapsed": false
   }
  },
  {
   "cell_type": "markdown",
   "source": [
    "## Exercise 1.5:\n",
    "Select and quantify samples with label 'Iris-setosa'."
   ],
   "metadata": {
    "collapsed": false
   }
  },
  {
   "cell_type": "code",
   "execution_count": 9,
   "outputs": [
    {
     "name": "stdout",
     "output_type": "stream",
     "text": [
      " The number of samples classified as Iris setosa is 50.\n"
     ]
    }
   ],
   "source": [
    "setosa_samples = iris_df.loc[iris_df['class'] == 'Iris-setosa']\n",
    "setosa_n = len(setosa_samples)\n",
    "#print(setosa_samples)\n",
    "\n",
    "print(f\" The number of samples classified as Iris setosa is %s.\" %setosa_n)"
   ],
   "metadata": {
    "collapsed": false
   }
  }
 ],
 "metadata": {
  "kernelspec": {
   "display_name": "Python 3",
   "language": "python",
   "name": "python3"
  },
  "language_info": {
   "codemirror_mode": {
    "name": "ipython",
    "version": 2
   },
   "file_extension": ".py",
   "mimetype": "text/x-python",
   "name": "python",
   "nbconvert_exporter": "python",
   "pygments_lexer": "ipython2",
   "version": "2.7.6"
  }
 },
 "nbformat": 4,
 "nbformat_minor": 0
}
