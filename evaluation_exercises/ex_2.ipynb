{
 "cells": [
  {
   "cell_type": "markdown",
   "source": [
    "# Exercise 2: NumPy array Indexing/Slicing"
   ],
   "metadata": {
    "collapsed": false
   },
   "execution_count": 1
  },
  {
   "cell_type": "code",
   "execution_count": null,
   "outputs": [],
   "source": [
    "import pandas as pd"
   ],
   "metadata": {
    "collapsed": false
   }
  },
  {
   "cell_type": "markdown",
   "source": [
    "## Exercise 2.1:\n",
    "Method that removes samples with at least one null value (NaN).\n",
    "This method will be given as an example here but will be added to the class Dataset in the dataset.py file."
   ],
   "metadata": {
    "collapsed": false
   }
  },
  {
   "cell_type": "code",
   "execution_count": null,
   "outputs": [],
   "source": [
    "def remove_nan(self):\n",
    "    \"\"\"\n",
    "    Removes rows with nan values.\n",
    "\n",
    "    :return: Dataset\n",
    "    \"\"\"\n",
    "\n",
    "    if self.x is None:\n",
    "        return\n",
    "\n",
    "    return pd.DataFrame(self.x).dropna(axis=0)"
   ],
   "metadata": {
    "collapsed": false
   }
  },
  {
   "cell_type": "markdown",
   "source": [
    "## Exercise 2.2:\n",
    "Method that replaces all null values (NaN) with a desired value.\n",
    "This method will be given as an example here but will be added to the class Dataset in the dataset.py file."
   ],
   "metadata": {
    "collapsed": false
   }
  },
  {
   "cell_type": "code",
   "execution_count": null,
   "outputs": [],
   "source": [
    "def replace_nan(self, value):\n",
    "    \"\"\"\n",
    "    Replaces nan values with a given value.\n",
    "\n",
    "    :param value: Value that is going to replace the nan values.\n",
    "    :return: Dataset\n",
    "    \"\"\"\n",
    "\n",
    "    if self.x is None:\n",
    "        return\n",
    "\n",
    "    return pd.DataFrame(self.x).fillna(value)"
   ],
   "metadata": {
    "collapsed": false
   }
  }
 ],
 "metadata": {
  "kernelspec": {
   "display_name": "Python 3",
   "language": "python",
   "name": "python3"
  },
  "language_info": {
   "codemirror_mode": {
    "name": "ipython",
    "version": 2
   },
   "file_extension": ".py",
   "mimetype": "text/x-python",
   "name": "python",
   "nbconvert_exporter": "python",
   "pygments_lexer": "ipython2",
   "version": "2.7.6"
  }
 },
 "nbformat": 4,
 "nbformat_minor": 0
}
