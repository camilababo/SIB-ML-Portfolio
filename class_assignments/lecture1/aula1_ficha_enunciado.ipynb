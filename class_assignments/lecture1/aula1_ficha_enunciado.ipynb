{
 "cells": [
  {
   "cell_type": "markdown",
   "metadata": {},
   "source": [
    "# Ficha de trabalho 1\n",
    "1 - Considera o ficheiro **notas.csv** com a classificação de algumas disciplinas do curso de bioinformática.\n",
    "Importa os dados para um objeto do tipo pandas.DataFrame"
   ]
  },
  {
   "cell_type": "code",
   "execution_count": 4,
   "metadata": {},
   "outputs": [
    {
     "data": {
      "text/plain": "      Nome  Laboratórios   Alg. Avançados   Biologia Sistemas\n0     João          12.0             16.0                17.0\n1    Carla          17.0             16.0                 NaN\n2    Sónia           NaN             18.0                18.0\n3    Pedro          16.0              NaN                18.0\n4     José          14.0             17.0                12.0\n5   Carina          19.0             18.0                20.0\n6    Telma          16.0             14.0                12.0\n7  Joaquim           NaN             15.0                12.0\n8  Ricardo          15.0             15.0                14.0\n9    Vanda          16.0             15.0                18.0",
      "text/html": "<div>\n<style scoped>\n    .dataframe tbody tr th:only-of-type {\n        vertical-align: middle;\n    }\n\n    .dataframe tbody tr th {\n        vertical-align: top;\n    }\n\n    .dataframe thead th {\n        text-align: right;\n    }\n</style>\n<table border=\"1\" class=\"dataframe\">\n  <thead>\n    <tr style=\"text-align: right;\">\n      <th></th>\n      <th>Nome</th>\n      <th>Laboratórios</th>\n      <th>Alg. Avançados</th>\n      <th>Biologia Sistemas</th>\n    </tr>\n  </thead>\n  <tbody>\n    <tr>\n      <th>0</th>\n      <td>João</td>\n      <td>12.0</td>\n      <td>16.0</td>\n      <td>17.0</td>\n    </tr>\n    <tr>\n      <th>1</th>\n      <td>Carla</td>\n      <td>17.0</td>\n      <td>16.0</td>\n      <td>NaN</td>\n    </tr>\n    <tr>\n      <th>2</th>\n      <td>Sónia</td>\n      <td>NaN</td>\n      <td>18.0</td>\n      <td>18.0</td>\n    </tr>\n    <tr>\n      <th>3</th>\n      <td>Pedro</td>\n      <td>16.0</td>\n      <td>NaN</td>\n      <td>18.0</td>\n    </tr>\n    <tr>\n      <th>4</th>\n      <td>José</td>\n      <td>14.0</td>\n      <td>17.0</td>\n      <td>12.0</td>\n    </tr>\n    <tr>\n      <th>5</th>\n      <td>Carina</td>\n      <td>19.0</td>\n      <td>18.0</td>\n      <td>20.0</td>\n    </tr>\n    <tr>\n      <th>6</th>\n      <td>Telma</td>\n      <td>16.0</td>\n      <td>14.0</td>\n      <td>12.0</td>\n    </tr>\n    <tr>\n      <th>7</th>\n      <td>Joaquim</td>\n      <td>NaN</td>\n      <td>15.0</td>\n      <td>12.0</td>\n    </tr>\n    <tr>\n      <th>8</th>\n      <td>Ricardo</td>\n      <td>15.0</td>\n      <td>15.0</td>\n      <td>14.0</td>\n    </tr>\n    <tr>\n      <th>9</th>\n      <td>Vanda</td>\n      <td>16.0</td>\n      <td>15.0</td>\n      <td>18.0</td>\n    </tr>\n  </tbody>\n</table>\n</div>"
     },
     "execution_count": 4,
     "metadata": {},
     "output_type": "execute_result"
    }
   ],
   "source": [
    "import numpy as np\n",
    "import pandas as pd\n",
    "df = pd.read_csv(\"notas.xls\")\n",
    "df"
   ]
  },
  {
   "cell_type": "markdown",
   "metadata": {},
   "source": [
    "2 - Ordena a informação pela ordem alfabética dos nomes."
   ]
  },
  {
   "cell_type": "code",
   "execution_count": 5,
   "metadata": {},
   "outputs": [
    {
     "data": {
      "text/plain": "      Nome  Laboratórios   Alg. Avançados   Biologia Sistemas\n5   Carina          19.0             18.0                20.0\n1    Carla          17.0             16.0                 NaN\n7  Joaquim           NaN             15.0                12.0\n4     José          14.0             17.0                12.0\n0     João          12.0             16.0                17.0\n3    Pedro          16.0              NaN                18.0\n8  Ricardo          15.0             15.0                14.0\n2    Sónia           NaN             18.0                18.0\n6    Telma          16.0             14.0                12.0\n9    Vanda          16.0             15.0                18.0",
      "text/html": "<div>\n<style scoped>\n    .dataframe tbody tr th:only-of-type {\n        vertical-align: middle;\n    }\n\n    .dataframe tbody tr th {\n        vertical-align: top;\n    }\n\n    .dataframe thead th {\n        text-align: right;\n    }\n</style>\n<table border=\"1\" class=\"dataframe\">\n  <thead>\n    <tr style=\"text-align: right;\">\n      <th></th>\n      <th>Nome</th>\n      <th>Laboratórios</th>\n      <th>Alg. Avançados</th>\n      <th>Biologia Sistemas</th>\n    </tr>\n  </thead>\n  <tbody>\n    <tr>\n      <th>5</th>\n      <td>Carina</td>\n      <td>19.0</td>\n      <td>18.0</td>\n      <td>20.0</td>\n    </tr>\n    <tr>\n      <th>1</th>\n      <td>Carla</td>\n      <td>17.0</td>\n      <td>16.0</td>\n      <td>NaN</td>\n    </tr>\n    <tr>\n      <th>7</th>\n      <td>Joaquim</td>\n      <td>NaN</td>\n      <td>15.0</td>\n      <td>12.0</td>\n    </tr>\n    <tr>\n      <th>4</th>\n      <td>José</td>\n      <td>14.0</td>\n      <td>17.0</td>\n      <td>12.0</td>\n    </tr>\n    <tr>\n      <th>0</th>\n      <td>João</td>\n      <td>12.0</td>\n      <td>16.0</td>\n      <td>17.0</td>\n    </tr>\n    <tr>\n      <th>3</th>\n      <td>Pedro</td>\n      <td>16.0</td>\n      <td>NaN</td>\n      <td>18.0</td>\n    </tr>\n    <tr>\n      <th>8</th>\n      <td>Ricardo</td>\n      <td>15.0</td>\n      <td>15.0</td>\n      <td>14.0</td>\n    </tr>\n    <tr>\n      <th>2</th>\n      <td>Sónia</td>\n      <td>NaN</td>\n      <td>18.0</td>\n      <td>18.0</td>\n    </tr>\n    <tr>\n      <th>6</th>\n      <td>Telma</td>\n      <td>16.0</td>\n      <td>14.0</td>\n      <td>12.0</td>\n    </tr>\n    <tr>\n      <th>9</th>\n      <td>Vanda</td>\n      <td>16.0</td>\n      <td>15.0</td>\n      <td>18.0</td>\n    </tr>\n  </tbody>\n</table>\n</div>"
     },
     "execution_count": 5,
     "metadata": {},
     "output_type": "execute_result"
    }
   ],
   "source": [
    "df.sort_values('Nome', ascending = True)"
   ]
  },
  {
   "cell_type": "markdown",
   "metadata": {},
   "source": [
    "3 - Calcula a média de cada uma das disciplinas. "
   ]
  },
  {
   "cell_type": "code",
   "execution_count": 6,
   "metadata": {},
   "outputs": [
    {
     "data": {
      "text/plain": "       Laboratórios   Alg. Avançados   Biologia Sistemas\ncount      8.000000         9.000000            9.000000\nmean      15.625000        16.000000           15.666667\nstd        2.065879         1.414214            3.162278\nmin       12.000000        14.000000           12.000000\n25%       14.750000        15.000000           12.000000\n50%       16.000000        16.000000           17.000000\n75%       16.250000        17.000000           18.000000\nmax       19.000000        18.000000           20.000000",
      "text/html": "<div>\n<style scoped>\n    .dataframe tbody tr th:only-of-type {\n        vertical-align: middle;\n    }\n\n    .dataframe tbody tr th {\n        vertical-align: top;\n    }\n\n    .dataframe thead th {\n        text-align: right;\n    }\n</style>\n<table border=\"1\" class=\"dataframe\">\n  <thead>\n    <tr style=\"text-align: right;\">\n      <th></th>\n      <th>Laboratórios</th>\n      <th>Alg. Avançados</th>\n      <th>Biologia Sistemas</th>\n    </tr>\n  </thead>\n  <tbody>\n    <tr>\n      <th>count</th>\n      <td>8.000000</td>\n      <td>9.000000</td>\n      <td>9.000000</td>\n    </tr>\n    <tr>\n      <th>mean</th>\n      <td>15.625000</td>\n      <td>16.000000</td>\n      <td>15.666667</td>\n    </tr>\n    <tr>\n      <th>std</th>\n      <td>2.065879</td>\n      <td>1.414214</td>\n      <td>3.162278</td>\n    </tr>\n    <tr>\n      <th>min</th>\n      <td>12.000000</td>\n      <td>14.000000</td>\n      <td>12.000000</td>\n    </tr>\n    <tr>\n      <th>25%</th>\n      <td>14.750000</td>\n      <td>15.000000</td>\n      <td>12.000000</td>\n    </tr>\n    <tr>\n      <th>50%</th>\n      <td>16.000000</td>\n      <td>16.000000</td>\n      <td>17.000000</td>\n    </tr>\n    <tr>\n      <th>75%</th>\n      <td>16.250000</td>\n      <td>17.000000</td>\n      <td>18.000000</td>\n    </tr>\n    <tr>\n      <th>max</th>\n      <td>19.000000</td>\n      <td>18.000000</td>\n      <td>20.000000</td>\n    </tr>\n  </tbody>\n</table>\n</div>"
     },
     "execution_count": 6,
     "metadata": {},
     "output_type": "execute_result"
    }
   ],
   "source": [
    "df.describe()"
   ]
  },
  {
   "cell_type": "markdown",
   "metadata": {},
   "source": [
    "4 - Seleciona o nome dos alunos com classificação igual ou superior 16 na disciplina de Laboratórios."
   ]
  },
  {
   "cell_type": "code",
   "execution_count": 7,
   "metadata": {},
   "outputs": [
    {
     "data": {
      "text/plain": "     Nome  Laboratórios   Alg. Avançados   Biologia Sistemas\n1   Carla          17.0             16.0                 NaN\n5  Carina          19.0             18.0                20.0",
      "text/html": "<div>\n<style scoped>\n    .dataframe tbody tr th:only-of-type {\n        vertical-align: middle;\n    }\n\n    .dataframe tbody tr th {\n        vertical-align: top;\n    }\n\n    .dataframe thead th {\n        text-align: right;\n    }\n</style>\n<table border=\"1\" class=\"dataframe\">\n  <thead>\n    <tr style=\"text-align: right;\">\n      <th></th>\n      <th>Nome</th>\n      <th>Laboratórios</th>\n      <th>Alg. Avançados</th>\n      <th>Biologia Sistemas</th>\n    </tr>\n  </thead>\n  <tbody>\n    <tr>\n      <th>1</th>\n      <td>Carla</td>\n      <td>17.0</td>\n      <td>16.0</td>\n      <td>NaN</td>\n    </tr>\n    <tr>\n      <th>5</th>\n      <td>Carina</td>\n      <td>19.0</td>\n      <td>18.0</td>\n      <td>20.0</td>\n    </tr>\n  </tbody>\n</table>\n</div>"
     },
     "execution_count": 7,
     "metadata": {},
     "output_type": "execute_result"
    }
   ],
   "source": [
    "df[df.iloc[:,1]>16]"
   ]
  },
  {
   "cell_type": "markdown",
   "metadata": {},
   "source": [
    "5 - Cria uma nova coluna com a média de cada um dos alunos nas 3 disciplinas."
   ]
  },
  {
   "cell_type": "code",
   "execution_count": 8,
   "metadata": {},
   "outputs": [
    {
     "data": {
      "text/plain": "      Nome  Laboratórios   Alg. Avançados   Biologia Sistemas      média\n0     João          12.0             16.0                17.0  15.000000\n1    Carla          17.0             16.0                 NaN  16.500000\n2    Sónia           NaN             18.0                18.0  18.000000\n3    Pedro          16.0              NaN                18.0  17.000000\n4     José          14.0             17.0                12.0  14.333333\n5   Carina          19.0             18.0                20.0  19.000000\n6    Telma          16.0             14.0                12.0  14.000000\n7  Joaquim           NaN             15.0                12.0  13.500000\n8  Ricardo          15.0             15.0                14.0  14.666667\n9    Vanda          16.0             15.0                18.0  16.333333",
      "text/html": "<div>\n<style scoped>\n    .dataframe tbody tr th:only-of-type {\n        vertical-align: middle;\n    }\n\n    .dataframe tbody tr th {\n        vertical-align: top;\n    }\n\n    .dataframe thead th {\n        text-align: right;\n    }\n</style>\n<table border=\"1\" class=\"dataframe\">\n  <thead>\n    <tr style=\"text-align: right;\">\n      <th></th>\n      <th>Nome</th>\n      <th>Laboratórios</th>\n      <th>Alg. Avançados</th>\n      <th>Biologia Sistemas</th>\n      <th>média</th>\n    </tr>\n  </thead>\n  <tbody>\n    <tr>\n      <th>0</th>\n      <td>João</td>\n      <td>12.0</td>\n      <td>16.0</td>\n      <td>17.0</td>\n      <td>15.000000</td>\n    </tr>\n    <tr>\n      <th>1</th>\n      <td>Carla</td>\n      <td>17.0</td>\n      <td>16.0</td>\n      <td>NaN</td>\n      <td>16.500000</td>\n    </tr>\n    <tr>\n      <th>2</th>\n      <td>Sónia</td>\n      <td>NaN</td>\n      <td>18.0</td>\n      <td>18.0</td>\n      <td>18.000000</td>\n    </tr>\n    <tr>\n      <th>3</th>\n      <td>Pedro</td>\n      <td>16.0</td>\n      <td>NaN</td>\n      <td>18.0</td>\n      <td>17.000000</td>\n    </tr>\n    <tr>\n      <th>4</th>\n      <td>José</td>\n      <td>14.0</td>\n      <td>17.0</td>\n      <td>12.0</td>\n      <td>14.333333</td>\n    </tr>\n    <tr>\n      <th>5</th>\n      <td>Carina</td>\n      <td>19.0</td>\n      <td>18.0</td>\n      <td>20.0</td>\n      <td>19.000000</td>\n    </tr>\n    <tr>\n      <th>6</th>\n      <td>Telma</td>\n      <td>16.0</td>\n      <td>14.0</td>\n      <td>12.0</td>\n      <td>14.000000</td>\n    </tr>\n    <tr>\n      <th>7</th>\n      <td>Joaquim</td>\n      <td>NaN</td>\n      <td>15.0</td>\n      <td>12.0</td>\n      <td>13.500000</td>\n    </tr>\n    <tr>\n      <th>8</th>\n      <td>Ricardo</td>\n      <td>15.0</td>\n      <td>15.0</td>\n      <td>14.0</td>\n      <td>14.666667</td>\n    </tr>\n    <tr>\n      <th>9</th>\n      <td>Vanda</td>\n      <td>16.0</td>\n      <td>15.0</td>\n      <td>18.0</td>\n      <td>16.333333</td>\n    </tr>\n  </tbody>\n</table>\n</div>"
     },
     "execution_count": 8,
     "metadata": {},
     "output_type": "execute_result"
    }
   ],
   "source": [
    "df['média'] = df.mean(numeric_only=True, axis=1)\n",
    "df"
   ]
  },
  {
   "cell_type": "markdown",
   "metadata": {},
   "source": [
    "6 - Considera a seguinte informação adicional.\n",
    "```python\n",
    "Sexo = ['M','F','F','M','M','F','F','M','M','F']\n",
    "Idade = [23,21,25,21,22,23,21,20,27,21]\n",
    "```\n",
    "Constroi um novo DataFrame (df2) com a informação adicional dos alunos."
   ]
  },
  {
   "cell_type": "code",
   "execution_count": 9,
   "metadata": {},
   "outputs": [
    {
     "data": {
      "text/plain": "      Nome  Laboratórios   Alg. Avançados   Biologia Sistemas      média Sexo  \\\n0     João          12.0             16.0                17.0  15.000000    M   \n1    Carla          17.0             16.0                 NaN  16.500000    F   \n2    Sónia           NaN             18.0                18.0  18.000000    F   \n3    Pedro          16.0              NaN                18.0  17.000000    M   \n4     José          14.0             17.0                12.0  14.333333    M   \n5   Carina          19.0             18.0                20.0  19.000000    F   \n6    Telma          16.0             14.0                12.0  14.000000    F   \n7  Joaquim           NaN             15.0                12.0  13.500000    M   \n8  Ricardo          15.0             15.0                14.0  14.666667    M   \n9    Vanda          16.0             15.0                18.0  16.333333    F   \n\n   Idade  \n0     23  \n1     21  \n2     25  \n3     21  \n4     22  \n5     23  \n6     21  \n7     20  \n8     27  \n9     21  ",
      "text/html": "<div>\n<style scoped>\n    .dataframe tbody tr th:only-of-type {\n        vertical-align: middle;\n    }\n\n    .dataframe tbody tr th {\n        vertical-align: top;\n    }\n\n    .dataframe thead th {\n        text-align: right;\n    }\n</style>\n<table border=\"1\" class=\"dataframe\">\n  <thead>\n    <tr style=\"text-align: right;\">\n      <th></th>\n      <th>Nome</th>\n      <th>Laboratórios</th>\n      <th>Alg. Avançados</th>\n      <th>Biologia Sistemas</th>\n      <th>média</th>\n      <th>Sexo</th>\n      <th>Idade</th>\n    </tr>\n  </thead>\n  <tbody>\n    <tr>\n      <th>0</th>\n      <td>João</td>\n      <td>12.0</td>\n      <td>16.0</td>\n      <td>17.0</td>\n      <td>15.000000</td>\n      <td>M</td>\n      <td>23</td>\n    </tr>\n    <tr>\n      <th>1</th>\n      <td>Carla</td>\n      <td>17.0</td>\n      <td>16.0</td>\n      <td>NaN</td>\n      <td>16.500000</td>\n      <td>F</td>\n      <td>21</td>\n    </tr>\n    <tr>\n      <th>2</th>\n      <td>Sónia</td>\n      <td>NaN</td>\n      <td>18.0</td>\n      <td>18.0</td>\n      <td>18.000000</td>\n      <td>F</td>\n      <td>25</td>\n    </tr>\n    <tr>\n      <th>3</th>\n      <td>Pedro</td>\n      <td>16.0</td>\n      <td>NaN</td>\n      <td>18.0</td>\n      <td>17.000000</td>\n      <td>M</td>\n      <td>21</td>\n    </tr>\n    <tr>\n      <th>4</th>\n      <td>José</td>\n      <td>14.0</td>\n      <td>17.0</td>\n      <td>12.0</td>\n      <td>14.333333</td>\n      <td>M</td>\n      <td>22</td>\n    </tr>\n    <tr>\n      <th>5</th>\n      <td>Carina</td>\n      <td>19.0</td>\n      <td>18.0</td>\n      <td>20.0</td>\n      <td>19.000000</td>\n      <td>F</td>\n      <td>23</td>\n    </tr>\n    <tr>\n      <th>6</th>\n      <td>Telma</td>\n      <td>16.0</td>\n      <td>14.0</td>\n      <td>12.0</td>\n      <td>14.000000</td>\n      <td>F</td>\n      <td>21</td>\n    </tr>\n    <tr>\n      <th>7</th>\n      <td>Joaquim</td>\n      <td>NaN</td>\n      <td>15.0</td>\n      <td>12.0</td>\n      <td>13.500000</td>\n      <td>M</td>\n      <td>20</td>\n    </tr>\n    <tr>\n      <th>8</th>\n      <td>Ricardo</td>\n      <td>15.0</td>\n      <td>15.0</td>\n      <td>14.0</td>\n      <td>14.666667</td>\n      <td>M</td>\n      <td>27</td>\n    </tr>\n    <tr>\n      <th>9</th>\n      <td>Vanda</td>\n      <td>16.0</td>\n      <td>15.0</td>\n      <td>18.0</td>\n      <td>16.333333</td>\n      <td>F</td>\n      <td>21</td>\n    </tr>\n  </tbody>\n</table>\n</div>"
     },
     "execution_count": 9,
     "metadata": {},
     "output_type": "execute_result"
    }
   ],
   "source": [
    "df2 = df.copy()\n",
    "df2['Sexo'] = ['M','F','F','M','M','F','F','M','M','F']\n",
    "df2['Idade'] = [23,21,25,21,22,23,21,20,27,21]\n",
    "df2"
   ]
  },
  {
   "cell_type": "markdown",
   "metadata": {},
   "source": [
    "7 - Compila a informação presente nos dois DataFrames (df e df2) num único DataFrame. "
   ]
  },
  {
   "cell_type": "code",
   "execution_count": 10,
   "metadata": {},
   "outputs": [
    {
     "data": {
      "text/plain": "      Nome  Laboratórios   Alg. Avançados   Biologia Sistemas      média Sexo  \\\n0     João          12.0             16.0                17.0  15.000000    M   \n1    Carla          17.0             16.0                 NaN  16.500000    F   \n2    Sónia           NaN             18.0                18.0  18.000000    F   \n3    Pedro          16.0              NaN                18.0  17.000000    M   \n4     José          14.0             17.0                12.0  14.333333    M   \n5   Carina          19.0             18.0                20.0  19.000000    F   \n6    Telma          16.0             14.0                12.0  14.000000    F   \n7  Joaquim           NaN             15.0                12.0  13.500000    M   \n8  Ricardo          15.0             15.0                14.0  14.666667    M   \n9    Vanda          16.0             15.0                18.0  16.333333    F   \n\n   Idade  \n0     23  \n1     21  \n2     25  \n3     21  \n4     22  \n5     23  \n6     21  \n7     20  \n8     27  \n9     21  ",
      "text/html": "<div>\n<style scoped>\n    .dataframe tbody tr th:only-of-type {\n        vertical-align: middle;\n    }\n\n    .dataframe tbody tr th {\n        vertical-align: top;\n    }\n\n    .dataframe thead th {\n        text-align: right;\n    }\n</style>\n<table border=\"1\" class=\"dataframe\">\n  <thead>\n    <tr style=\"text-align: right;\">\n      <th></th>\n      <th>Nome</th>\n      <th>Laboratórios</th>\n      <th>Alg. Avançados</th>\n      <th>Biologia Sistemas</th>\n      <th>média</th>\n      <th>Sexo</th>\n      <th>Idade</th>\n    </tr>\n  </thead>\n  <tbody>\n    <tr>\n      <th>0</th>\n      <td>João</td>\n      <td>12.0</td>\n      <td>16.0</td>\n      <td>17.0</td>\n      <td>15.000000</td>\n      <td>M</td>\n      <td>23</td>\n    </tr>\n    <tr>\n      <th>1</th>\n      <td>Carla</td>\n      <td>17.0</td>\n      <td>16.0</td>\n      <td>NaN</td>\n      <td>16.500000</td>\n      <td>F</td>\n      <td>21</td>\n    </tr>\n    <tr>\n      <th>2</th>\n      <td>Sónia</td>\n      <td>NaN</td>\n      <td>18.0</td>\n      <td>18.0</td>\n      <td>18.000000</td>\n      <td>F</td>\n      <td>25</td>\n    </tr>\n    <tr>\n      <th>3</th>\n      <td>Pedro</td>\n      <td>16.0</td>\n      <td>NaN</td>\n      <td>18.0</td>\n      <td>17.000000</td>\n      <td>M</td>\n      <td>21</td>\n    </tr>\n    <tr>\n      <th>4</th>\n      <td>José</td>\n      <td>14.0</td>\n      <td>17.0</td>\n      <td>12.0</td>\n      <td>14.333333</td>\n      <td>M</td>\n      <td>22</td>\n    </tr>\n    <tr>\n      <th>5</th>\n      <td>Carina</td>\n      <td>19.0</td>\n      <td>18.0</td>\n      <td>20.0</td>\n      <td>19.000000</td>\n      <td>F</td>\n      <td>23</td>\n    </tr>\n    <tr>\n      <th>6</th>\n      <td>Telma</td>\n      <td>16.0</td>\n      <td>14.0</td>\n      <td>12.0</td>\n      <td>14.000000</td>\n      <td>F</td>\n      <td>21</td>\n    </tr>\n    <tr>\n      <th>7</th>\n      <td>Joaquim</td>\n      <td>NaN</td>\n      <td>15.0</td>\n      <td>12.0</td>\n      <td>13.500000</td>\n      <td>M</td>\n      <td>20</td>\n    </tr>\n    <tr>\n      <th>8</th>\n      <td>Ricardo</td>\n      <td>15.0</td>\n      <td>15.0</td>\n      <td>14.0</td>\n      <td>14.666667</td>\n      <td>M</td>\n      <td>27</td>\n    </tr>\n    <tr>\n      <th>9</th>\n      <td>Vanda</td>\n      <td>16.0</td>\n      <td>15.0</td>\n      <td>18.0</td>\n      <td>16.333333</td>\n      <td>F</td>\n      <td>21</td>\n    </tr>\n  </tbody>\n</table>\n</div>"
     },
     "execution_count": 10,
     "metadata": {},
     "output_type": "execute_result"
    }
   ],
   "source": [
    "new_info = df2.iloc[:,-2:]\n",
    "df3 = df.join(new_info)\n",
    "df3"
   ]
  },
  {
   "cell_type": "markdown",
   "metadata": {},
   "source": [
    "8 - A média da notas das raparigas é mais alta, em comparação com a dos rapazes, na disciplina de Biologia Sistemas?"
   ]
  },
  {
   "cell_type": "code",
   "execution_count": 11,
   "metadata": {},
   "outputs": [
    {
     "name": "stdout",
     "output_type": "stream",
     "text": [
      "A média em BS nas raparidas é Laboratórios          17.000000\n",
      " Alg. Avançados       16.200000\n",
      " Biologia Sistemas    17.000000\n",
      "média                 16.766667\n",
      "Idade                 22.200000\n",
      "dtype: float64 e nos rapazes é Laboratórios          14.25\n",
      " Alg. Avançados       15.75\n",
      " Biologia Sistemas    14.60\n",
      "média                 14.90\n",
      "Idade                 22.60\n",
      "dtype: float64.\n"
     ]
    }
   ],
   "source": [
    "f = df3.loc[df3['Sexo'] == \"F\"]\n",
    "f_mean = f.mean(numeric_only=True, axis=0)\n",
    "m = df3.loc[df3['Sexo'] == \"M\"]\n",
    "m_mean = m.mean(numeric_only=True, axis=0)\n",
    "print(f\"A média em BS nas raparidas é %s e nos rapazes é %s.\" %(f_mean, m_mean))"
   ]
  },
  {
   "cell_type": "markdown",
   "metadata": {},
   "source": [
    "9 - Remove do DataFrame os alunos que têm disciplinas em atraso. Coloca o resultado em df3. Os alunos com disciplinas em atraso têm valor omisso nessa coluna."
   ]
  },
  {
   "cell_type": "code",
   "execution_count": 12,
   "metadata": {},
   "outputs": [
    {
     "data": {
      "text/plain": "      Nome  Laboratórios   Alg. Avançados   Biologia Sistemas      média\n0     João          12.0             16.0                17.0  15.000000\n4     José          14.0             17.0                12.0  14.333333\n5   Carina          19.0             18.0                20.0  19.000000\n6    Telma          16.0             14.0                12.0  14.000000\n8  Ricardo          15.0             15.0                14.0  14.666667\n9    Vanda          16.0             15.0                18.0  16.333333",
      "text/html": "<div>\n<style scoped>\n    .dataframe tbody tr th:only-of-type {\n        vertical-align: middle;\n    }\n\n    .dataframe tbody tr th {\n        vertical-align: top;\n    }\n\n    .dataframe thead th {\n        text-align: right;\n    }\n</style>\n<table border=\"1\" class=\"dataframe\">\n  <thead>\n    <tr style=\"text-align: right;\">\n      <th></th>\n      <th>Nome</th>\n      <th>Laboratórios</th>\n      <th>Alg. Avançados</th>\n      <th>Biologia Sistemas</th>\n      <th>média</th>\n    </tr>\n  </thead>\n  <tbody>\n    <tr>\n      <th>0</th>\n      <td>João</td>\n      <td>12.0</td>\n      <td>16.0</td>\n      <td>17.0</td>\n      <td>15.000000</td>\n    </tr>\n    <tr>\n      <th>4</th>\n      <td>José</td>\n      <td>14.0</td>\n      <td>17.0</td>\n      <td>12.0</td>\n      <td>14.333333</td>\n    </tr>\n    <tr>\n      <th>5</th>\n      <td>Carina</td>\n      <td>19.0</td>\n      <td>18.0</td>\n      <td>20.0</td>\n      <td>19.000000</td>\n    </tr>\n    <tr>\n      <th>6</th>\n      <td>Telma</td>\n      <td>16.0</td>\n      <td>14.0</td>\n      <td>12.0</td>\n      <td>14.000000</td>\n    </tr>\n    <tr>\n      <th>8</th>\n      <td>Ricardo</td>\n      <td>15.0</td>\n      <td>15.0</td>\n      <td>14.0</td>\n      <td>14.666667</td>\n    </tr>\n    <tr>\n      <th>9</th>\n      <td>Vanda</td>\n      <td>16.0</td>\n      <td>15.0</td>\n      <td>18.0</td>\n      <td>16.333333</td>\n    </tr>\n  </tbody>\n</table>\n</div>"
     },
     "execution_count": 12,
     "metadata": {},
     "output_type": "execute_result"
    }
   ],
   "source": [
    "df_aproved = df.dropna(axis=0)\n",
    "df_aproved"
   ]
  },
  {
   "cell_type": "markdown",
   "metadata": {},
   "source": [
    "10 - Cria uma tabela pivot que apresente a média das notas de Laboratórios agrupada por idades para ambos os sexos."
   ]
  },
  {
   "cell_type": "code",
   "execution_count": 13,
   "metadata": {},
   "outputs": [
    {
     "data": {
      "text/plain": "Idade    21    22    23    27\nSexo                         \nF      16.0   NaN  19.0   NaN\nM       NaN  14.0  12.0  15.0",
      "text/html": "<div>\n<style scoped>\n    .dataframe tbody tr th:only-of-type {\n        vertical-align: middle;\n    }\n\n    .dataframe tbody tr th {\n        vertical-align: top;\n    }\n\n    .dataframe thead th {\n        text-align: right;\n    }\n</style>\n<table border=\"1\" class=\"dataframe\">\n  <thead>\n    <tr style=\"text-align: right;\">\n      <th>Idade</th>\n      <th>21</th>\n      <th>22</th>\n      <th>23</th>\n      <th>27</th>\n    </tr>\n    <tr>\n      <th>Sexo</th>\n      <th></th>\n      <th></th>\n      <th></th>\n      <th></th>\n    </tr>\n  </thead>\n  <tbody>\n    <tr>\n      <th>F</th>\n      <td>16.0</td>\n      <td>NaN</td>\n      <td>19.0</td>\n      <td>NaN</td>\n    </tr>\n    <tr>\n      <th>M</th>\n      <td>NaN</td>\n      <td>14.0</td>\n      <td>12.0</td>\n      <td>15.0</td>\n    </tr>\n  </tbody>\n</table>\n</div>"
     },
     "execution_count": 13,
     "metadata": {},
     "output_type": "execute_result"
    }
   ],
   "source": [
    "df_pv = df3.dropna(axis=0)\n",
    "pd.pivot_table(df_pv, values='Laboratórios', index=['Sexo'], columns=['Idade']) "
   ]
  },
  {
   "cell_type": "markdown",
   "metadata": {},
   "source": [
    "11 - Adiciona uma nova coluna que indique se o aluno tem bolsa de Mérito ou não. Para ter bolsa de Mérito o aluno não pode ter disciplinas em atraso e média tem que ser superior a 17 valores. Explora a função **apply**."
   ]
  },
  {
   "cell_type": "code",
   "execution_count": 14,
   "metadata": {},
   "outputs": [
    {
     "name": "stderr",
     "output_type": "stream",
     "text": [
      "C:\\Users\\anaca\\AppData\\Local\\Temp\\ipykernel_2864\\2724999710.py:1: SettingWithCopyWarning: \n",
      "A value is trying to be set on a copy of a slice from a DataFrame.\n",
      "Try using .loc[row_indexer,col_indexer] = value instead\n",
      "\n",
      "See the caveats in the documentation: https://pandas.pydata.org/pandas-docs/stable/user_guide/indexing.html#returning-a-view-versus-a-copy\n",
      "  df_aproved[\"Bolsa de Mérito\"] = df_aproved['média'].apply(lambda val: \"Sim\" if val >= 17 else \"Não\")\n"
     ]
    },
    {
     "data": {
      "text/plain": "      Nome  Laboratórios   Alg. Avançados   Biologia Sistemas      média  \\\n0     João          12.0             16.0                17.0  15.000000   \n4     José          14.0             17.0                12.0  14.333333   \n5   Carina          19.0             18.0                20.0  19.000000   \n6    Telma          16.0             14.0                12.0  14.000000   \n8  Ricardo          15.0             15.0                14.0  14.666667   \n9    Vanda          16.0             15.0                18.0  16.333333   \n\n  Bolsa de Mérito  \n0             Não  \n4             Não  \n5             Sim  \n6             Não  \n8             Não  \n9             Não  ",
      "text/html": "<div>\n<style scoped>\n    .dataframe tbody tr th:only-of-type {\n        vertical-align: middle;\n    }\n\n    .dataframe tbody tr th {\n        vertical-align: top;\n    }\n\n    .dataframe thead th {\n        text-align: right;\n    }\n</style>\n<table border=\"1\" class=\"dataframe\">\n  <thead>\n    <tr style=\"text-align: right;\">\n      <th></th>\n      <th>Nome</th>\n      <th>Laboratórios</th>\n      <th>Alg. Avançados</th>\n      <th>Biologia Sistemas</th>\n      <th>média</th>\n      <th>Bolsa de Mérito</th>\n    </tr>\n  </thead>\n  <tbody>\n    <tr>\n      <th>0</th>\n      <td>João</td>\n      <td>12.0</td>\n      <td>16.0</td>\n      <td>17.0</td>\n      <td>15.000000</td>\n      <td>Não</td>\n    </tr>\n    <tr>\n      <th>4</th>\n      <td>José</td>\n      <td>14.0</td>\n      <td>17.0</td>\n      <td>12.0</td>\n      <td>14.333333</td>\n      <td>Não</td>\n    </tr>\n    <tr>\n      <th>5</th>\n      <td>Carina</td>\n      <td>19.0</td>\n      <td>18.0</td>\n      <td>20.0</td>\n      <td>19.000000</td>\n      <td>Sim</td>\n    </tr>\n    <tr>\n      <th>6</th>\n      <td>Telma</td>\n      <td>16.0</td>\n      <td>14.0</td>\n      <td>12.0</td>\n      <td>14.000000</td>\n      <td>Não</td>\n    </tr>\n    <tr>\n      <th>8</th>\n      <td>Ricardo</td>\n      <td>15.0</td>\n      <td>15.0</td>\n      <td>14.0</td>\n      <td>14.666667</td>\n      <td>Não</td>\n    </tr>\n    <tr>\n      <th>9</th>\n      <td>Vanda</td>\n      <td>16.0</td>\n      <td>15.0</td>\n      <td>18.0</td>\n      <td>16.333333</td>\n      <td>Não</td>\n    </tr>\n  </tbody>\n</table>\n</div>"
     },
     "execution_count": 14,
     "metadata": {},
     "output_type": "execute_result"
    }
   ],
   "source": [
    "df_aproved[\"Bolsa de Mérito\"] = df_aproved['média'].apply(lambda val: \"Sim\" if val >= 17 else \"Não\")\n",
    "df_aproved"
   ]
  }
 ],
 "metadata": {
  "anaconda-cloud": {},
  "kernelspec": {
   "display_name": "Python 3 (ipykernel)",
   "language": "python",
   "name": "python3"
  },
  "language_info": {
   "codemirror_mode": {
    "name": "ipython",
    "version": 3
   },
   "file_extension": ".py",
   "mimetype": "text/x-python",
   "name": "python",
   "nbconvert_exporter": "python",
   "pygments_lexer": "ipython3",
   "version": "3.8.8"
  }
 },
 "nbformat": 4,
 "nbformat_minor": 4
}
