{
 "cells": [
  {
   "cell_type": "markdown",
   "metadata": {},
   "source": [
    "# Testes estatísticos - exemplos slides"
   ]
  },
  {
   "cell_type": "code",
   "execution_count": 1,
   "metadata": {},
   "outputs": [],
   "source": [
    "import numpy as np \n",
    "import pandas as pd\n",
    "import statsmodels.api as sm\n",
    "from scipy import stats"
   ]
  },
  {
   "cell_type": "markdown",
   "metadata": {},
   "source": [
    "\n",
    "## Normalidade\n"
   ]
  },
  {
   "cell_type": "code",
   "execution_count": 2,
   "metadata": {},
   "outputs": [
    {
     "name": "stderr",
     "output_type": "stream",
     "text": [
      "/Users/miguelrocha/opt/anaconda3/lib/python3.9/site-packages/statsmodels/graphics/gofplots.py:993: UserWarning: marker is redundantly defined by the 'marker' keyword argument and the fmt string \"bo\" (-> marker='o'). The keyword argument will take precedence.\n",
      "  ax.plot(x, y, fmt, **plot_style)\n"
     ]
    },
    {
     "data": {
      "image/png": "[encoded data removed]",
      "text/plain": [
       "<Figure size 432x288 with 1 Axes>"
      ]
     },
     "execution_count": 2,
     "metadata": {},
     "output_type": "execute_result"
    },
    {
     "data": {
      "image/png": "[encoded data removed]",
      "text/plain": [
       "<Figure size 432x288 with 1 Axes>"
      ]
     },
     "metadata": {
      "needs_background": "light"
     },
     "output_type": "display_data"
    }
   ],
   "source": [
    "test =np.random.normal(0,1,1000)\n",
    "sm.qqplot(test,line='45')"
   ]
  },
  {
   "cell_type": "code",
   "execution_count": 3,
   "metadata": {},
   "outputs": [
    {
     "name": "stdout",
     "output_type": "stream",
     "text": [
      "0.4135034382343292\n",
      "1.4722756112259825e-18\n"
     ]
    }
   ],
   "source": [
    "x = np.random.normal(0,1,1000)\n",
    "w, p_value = stats.shapiro(x)\n",
    "print (p_value)\n",
    "\n",
    "x = np.random.random(1000)\n",
    "w, p_value = stats.shapiro(x)\n",
    "print(p_value)"
   ]
  },
  {
   "cell_type": "markdown",
   "metadata": {},
   "source": [
    "## Teste à média"
   ]
  },
  {
   "cell_type": "code",
   "execution_count": 4,
   "metadata": {
    "scrolled": true
   },
   "outputs": [
    {
     "name": "stdout",
     "output_type": "stream",
     "text": [
      "Ttest_indResult(statistic=-0.434093113093399, pvalue=0.6684483173666276)\n",
      "(-0.434093113093399, 0.6684483173666276, 22.0)\n"
     ]
    }
   ],
   "source": [
    "diasChuva16= [15, 10, 13, 7, 9, 8, 21, 9, 14, 8, 17, 15]\n",
    "diasChuva17 = [15, 14, 12, 8, 14, 7, 16, 10, 15, 12, 16, 15]\n",
    "\n",
    "print(stats.ttest_ind(diasChuva16, diasChuva17) )\n",
    "\n",
    "print(sm.stats.ttest_ind(diasChuva16, diasChuva17) )"
   ]
  },
  {
   "cell_type": "markdown",
   "metadata": {},
   "source": [
    "## Análise à variância"
   ]
  },
  {
   "cell_type": "code",
   "execution_count": 6,
   "metadata": {},
   "outputs": [
    {
     "data": {
      "text/plain": [
       "F_onewayResult(statistic=1180.161182252981, pvalue=2.8567766109615584e-91)"
      ]
     },
     "execution_count": 6,
     "metadata": {},
     "output_type": "execute_result"
    }
   ],
   "source": [
    "iris = pd.read_csv('iris.csv',sep=',', index_col = 0)\n",
    "iris.columns =[\"Sepal_Length\",\"Sepal_Width\",\"Petal_Length\",\"Petal_Width\",\"Species\"]\n",
    "g1 = iris[iris[\"Species\"]==\"setosa\"]\n",
    "g2 = iris[iris[\"Species\"]==\"virginica\"]\n",
    "g3 = iris[iris[\"Species\"]==\"versicolor\"]\n",
    "\n",
    "stats.f_oneway(g1.Petal_Length,g2.Petal_Length,g3.Petal_Length)\n"
   ]
  },
  {
   "cell_type": "code",
   "execution_count": 7,
   "metadata": {},
   "outputs": [
    {
     "data": {
      "text/html": [
       "<div>\n",
       "<style scoped>\n",
       "    .dataframe tbody tr th:only-of-type {\n",
       "        vertical-align: middle;\n",
       "    }\n",
       "\n",
       "    .dataframe tbody tr th {\n",
       "        vertical-align: top;\n",
       "    }\n",
       "\n",
       "    .dataframe thead th {\n",
       "        text-align: right;\n",
       "    }\n",
       "</style>\n",
       "<table border=\"1\" class=\"dataframe\">\n",
       "  <thead>\n",
       "    <tr style=\"text-align: right;\">\n",
       "      <th></th>\n",
       "      <th>df</th>\n",
       "      <th>sum_sq</th>\n",
       "      <th>mean_sq</th>\n",
       "      <th>F</th>\n",
       "      <th>PR(&gt;F)</th>\n",
       "    </tr>\n",
       "  </thead>\n",
       "  <tbody>\n",
       "    <tr>\n",
       "      <th>iris['Species']</th>\n",
       "      <td>2.0</td>\n",
       "      <td>437.1028</td>\n",
       "      <td>218.551400</td>\n",
       "      <td>1180.161182</td>\n",
       "      <td>2.856777e-91</td>\n",
       "    </tr>\n",
       "    <tr>\n",
       "      <th>Residual</th>\n",
       "      <td>147.0</td>\n",
       "      <td>27.2226</td>\n",
       "      <td>0.185188</td>\n",
       "      <td>NaN</td>\n",
       "      <td>NaN</td>\n",
       "    </tr>\n",
       "  </tbody>\n",
       "</table>\n",
       "</div>"
      ],
      "text/plain": [
       "                    df    sum_sq     mean_sq            F        PR(>F)\n",
       "iris['Species']    2.0  437.1028  218.551400  1180.161182  2.856777e-91\n",
       "Residual         147.0   27.2226    0.185188          NaN           NaN"
      ]
     },
     "execution_count": 7,
     "metadata": {},
     "output_type": "execute_result"
    }
   ],
   "source": [
    "from statsmodels.formula.api import ols\n",
    "from statsmodels.stats.anova import anova_lm\n",
    "lm = ols(\"iris.Petal_Length~iris.Species\", iris).fit()\n",
    "lm = ols(\"iris['Petal_Length']~iris['Species']\", iris).fit()\n",
    "anova_lm(lm)\n",
    "#iris.head()"
   ]
  },
  {
   "cell_type": "code",
   "execution_count": 8,
   "metadata": {},
   "outputs": [
    {
     "name": "stdout",
     "output_type": "stream",
     "text": [
      "Multiple Comparison of Means - Tukey HSD, FWER=0.05\n",
      "===================================================\n",
      "group1 group2 meandiff p-adj   lower  upper  reject\n",
      "---------------------------------------------------\n",
      "     A      B   0.2732 0.6803 -0.5367  1.083  False\n",
      "     A      C  -0.5345 0.2452 -1.3301 0.2611  False\n",
      "     B      C  -0.8076 0.0629 -1.6503  0.035  False\n",
      "---------------------------------------------------\n"
     ]
    }
   ],
   "source": [
    "import statsmodels.stats.multicomp as multi\n",
    "\n",
    "x = np.random.choice(['A','B','C'], 50)\n",
    "y = np.random.normal(0,1,50)\n",
    "mcDate = multi.MultiComparison(y,x)\n",
    "\n",
    "Results = mcDate.tukeyhsd()\n",
    "print(Results)"
   ]
  }
 ],
 "metadata": {
  "kernelspec": {
   "display_name": "Python 3 (ipykernel)",
   "language": "python",
   "name": "python3"
  },
  "language_info": {
   "codemirror_mode": {
    "name": "ipython",
    "version": 3
   },
   "file_extension": ".py",
   "mimetype": "text/x-python",
   "name": "python",
   "nbconvert_exporter": "python",
   "pygments_lexer": "ipython3",
   "version": "3.9.7"
  }
 },
 "nbformat": 4,
 "nbformat_minor": 4
}
