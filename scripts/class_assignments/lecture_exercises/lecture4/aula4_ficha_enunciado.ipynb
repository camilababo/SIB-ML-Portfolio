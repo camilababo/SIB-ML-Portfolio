{
 "cells": [
  {
   "cell_type": "markdown",
   "metadata": {},
   "source": [
    "# Ficha de trabalho 4\n",
    "\n",
    "#### Ex.1) Considera o dataset cachexia. Lê os dados usando a função read_csv do pandas (dados e metadados)."
   ]
  },
  {
   "cell_type": "code",
   "execution_count": 1,
   "metadata": {},
   "outputs": [
    {
     "name": "stdout",
     "output_type": "stream",
     "text": [
      "(77, 63)\n",
      "(77, 1)\n"
     ]
    }
   ],
   "source": [
    "from pandas import read_csv\n",
    "data_metab = read_csv(\"data_cachexia.csv\", sep = \",\", index_col =0)\n",
    "meta_metab = read_csv(\"meta_cachexia.csv\", sep = \",\", index_col=0)\n",
    "print(data_metab.shape)\n",
    "print(meta_metab.shape)"
   ]
  },
  {
   "cell_type": "markdown",
   "metadata": {},
   "source": [
    "#### Ex.2) Aplica a transformação necessária para que os dados seja escalonados para ter média 0 e desvio padrão 1. Verifica que as médias de todas as colunas é aproximadamente zero."
   ]
  },
  {
   "cell_type": "code",
   "execution_count": 2,
   "metadata": {},
   "outputs": [
    {
     "name": "stdout",
     "output_type": "stream",
     "text": [
      "Média global: -1.8675365658506033e-17\n",
      "Desvio padrão global: 1.0\n"
     ]
    }
   ],
   "source": [
    "from sklearn import preprocessing\n",
    "\n",
    "input_data = data_metab.values\n",
    "output_data = meta_metab.values[:, 0]\n",
    "\n",
    "input_data_scale = preprocessing.scale(input_data)\n",
    "\n",
    "print(\"Média global:\", input_data_scale.mean())\n",
    "print(\"Desvio padrão global:\", input_data_scale.std())"
   ]
  },
  {
   "cell_type": "markdown",
   "metadata": {},
   "source": [
    "#### Ex.3) Cria dois conjuntos de dados treino e teste para serem usados na criação e validação de modelos de aprendizagem máquina. Considera 30% das amostras para formar o conjunto de teste."
   ]
  },
  {
   "cell_type": "code",
   "execution_count": 3,
   "metadata": {},
   "outputs": [
    {
     "name": "stdout",
     "output_type": "stream",
     "text": [
      "Numero de exemplos para teste:  23\n"
     ]
    },
    {
     "data": {
      "text/plain": "((54, 63), (54,), (23, 63), (23,))"
     },
     "execution_count": 3,
     "metadata": {},
     "output_type": "execute_result"
    }
   ],
   "source": [
    "import numpy as np\n",
    "\n",
    "numtst = int(input_data_scale.data.shape[0] * 0.3)\n",
    "print(\"Numero de exemplos para teste: \", numtst)\n",
    "\n",
    "indices = np.random.permutation(len(input_data))\n",
    "\n",
    "train_in = input_data_scale[indices[:-numtst]]\n",
    "train_out = output_data[indices[:-numtst]]\n",
    "\n",
    "test_in  = input_data_scale[indices[-numtst:]]\n",
    "test_out = output_data[indices[-numtst:]]\n",
    "\n",
    "train_in.shape, train_out.shape, test_in.shape, test_out.shape"
   ]
  },
  {
   "cell_type": "markdown",
   "metadata": {},
   "source": [
    "#### Ex.4) Constroi diversos tipos de modelos de classificação treinando e testando com os conjuntos criados anteriormente. Calcula, para cada um dos modelos no test set, as métricas de erro PECC e F1-score, e calcula a matriz de confusão. Considere como classe positiva a classe \"cachexic\""
   ]
  },
  {
   "cell_type": "markdown",
   "source": [
    "##### Modelos"
   ],
   "metadata": {
    "collapsed": false
   }
  },
  {
   "cell_type": "code",
   "execution_count": 12,
   "outputs": [],
   "source": [
    "# score -> mean accuracy on the given test data and labels (the set of labels predicted for a sample must exactly match the corresponding set of labels in y_true)"
   ],
   "metadata": {
    "collapsed": false
   }
  },
  {
   "cell_type": "code",
   "execution_count": 14,
   "metadata": {},
   "outputs": [
    {
     "name": "stdout",
     "output_type": "stream",
     "text": [
      "0.6086956521739131\n"
     ]
    }
   ],
   "source": [
    "from sklearn.neighbors import KNeighborsClassifier\n",
    "\n",
    "knn_model = KNeighborsClassifier()\n",
    "knn_model.fit(train_in, train_out)\n",
    "prev_knn = knn_model.predict(test_in)\n",
    "print(knn_model.score(test_in, test_out))"
   ]
  },
  {
   "cell_type": "code",
   "execution_count": 8,
   "outputs": [
    {
     "name": "stdout",
     "output_type": "stream",
     "text": [
      "0.6086956521739131\n"
     ]
    }
   ],
   "source": [
    "from sklearn import tree\n",
    "\n",
    "tree_model = tree.DecisionTreeClassifier()\n",
    "tree_model = tree_model.fit(train_in, train_out)\n",
    "prev_tree = tree_model.predict(test_in)\n",
    "\n",
    "print(tree_model.score(test_in, test_out))"
   ],
   "metadata": {
    "collapsed": false
   }
  },
  {
   "cell_type": "code",
   "execution_count": 11,
   "outputs": [
    {
     "name": "stdout",
     "output_type": "stream",
     "text": [
      "0.6086956521739131\n"
     ]
    }
   ],
   "source": [
    "from sklearn.naive_bayes import GaussianNB\n",
    "\n",
    "gnb_model = GaussianNB()\n",
    "gnb_model = gnb_model.fit(train_in, train_out)\n",
    "prev_gnb = gnb_model.predict(test_in)\n",
    "\n",
    "print(gnb_model.score(test_in, test_out))"
   ],
   "metadata": {
    "collapsed": false
   }
  },
  {
   "cell_type": "markdown",
   "source": [
    "##### PECC Score"
   ],
   "metadata": {
    "collapsed": false
   }
  },
  {
   "cell_type": "code",
   "execution_count": 15,
   "outputs": [],
   "source": [
    "def pecc_func (prev, real):\n",
    "    return sum([ (prev[i]==real[i]) for i in range(len(prev)) ])/ len(prev)"
   ],
   "metadata": {
    "collapsed": false
   }
  },
  {
   "cell_type": "code",
   "execution_count": 16,
   "outputs": [
    {
     "name": "stdout",
     "output_type": "stream",
     "text": [
      "PECC:  0.6086956521739131\n"
     ]
    }
   ],
   "source": [
    "print (\"PECC: \", pecc_func(prev_knn, test_out))"
   ],
   "metadata": {
    "collapsed": false
   }
  },
  {
   "cell_type": "code",
   "execution_count": 17,
   "outputs": [
    {
     "name": "stdout",
     "output_type": "stream",
     "text": [
      "PECC:  0.6086956521739131\n"
     ]
    }
   ],
   "source": [
    "print (\"PECC: \", pecc_func(prev_tree, test_out))"
   ],
   "metadata": {
    "collapsed": false
   }
  },
  {
   "cell_type": "code",
   "execution_count": 18,
   "outputs": [
    {
     "name": "stdout",
     "output_type": "stream",
     "text": [
      "PECC:  0.6086956521739131\n"
     ]
    }
   ],
   "source": [
    "print (\"PECC: \", pecc_func(prev_gnb, test_out))"
   ],
   "metadata": {
    "collapsed": false
   }
  },
  {
   "cell_type": "markdown",
   "source": [
    "##### Confusion Matrix"
   ],
   "metadata": {
    "collapsed": false
   }
  },
  {
   "cell_type": "code",
   "execution_count": 37,
   "outputs": [
    {
     "data": {
      "text/plain": "array([[11,  8],\n       [ 1,  3]], dtype=int64)"
     },
     "execution_count": 37,
     "metadata": {},
     "output_type": "execute_result"
    }
   ],
   "source": [
    "from sklearn.metrics import confusion_matrix\n",
    "\n",
    "confusion_matrix(test_out, prev_knn)\n",
    "# rows -> true values (test_out)\n",
    "# cols -> predicted values (prev_knn)"
   ],
   "metadata": {
    "collapsed": false
   }
  },
  {
   "cell_type": "code",
   "execution_count": 20,
   "outputs": [
    {
     "data": {
      "text/plain": "array([[11,  8],\n       [ 1,  3]], dtype=int64)"
     },
     "execution_count": 20,
     "metadata": {},
     "output_type": "execute_result"
    }
   ],
   "source": [
    "confusion_matrix(test_out, prev_tree)"
   ],
   "metadata": {
    "collapsed": false
   }
  },
  {
   "cell_type": "code",
   "execution_count": 21,
   "outputs": [
    {
     "data": {
      "text/plain": "array([[11,  8],\n       [ 1,  3]], dtype=int64)"
     },
     "execution_count": 21,
     "metadata": {},
     "output_type": "execute_result"
    }
   ],
   "source": [
    "confusion_matrix(test_out, prev_gnb)"
   ],
   "metadata": {
    "collapsed": false
   }
  },
  {
   "cell_type": "markdown",
   "source": [
    "##### F1 Score"
   ],
   "metadata": {
    "collapsed": false
   }
  },
  {
   "cell_type": "code",
   "execution_count": 23,
   "outputs": [
    {
     "data": {
      "text/plain": "0.5548387096774193"
     },
     "execution_count": 23,
     "metadata": {},
     "output_type": "execute_result"
    }
   ],
   "source": [
    "from sklearn.metrics import f1_score\n",
    "\n",
    "f1_score(test_out, prev_knn, average='macro')"
   ],
   "metadata": {
    "collapsed": false
   }
  },
  {
   "cell_type": "code",
   "execution_count": 24,
   "outputs": [
    {
     "data": {
      "text/plain": "0.5548387096774193"
     },
     "execution_count": 24,
     "metadata": {},
     "output_type": "execute_result"
    }
   ],
   "source": [
    "f1_score(test_out, prev_tree, average='macro')"
   ],
   "metadata": {
    "collapsed": false
   }
  },
  {
   "cell_type": "code",
   "execution_count": 25,
   "outputs": [
    {
     "data": {
      "text/plain": "0.5548387096774193"
     },
     "execution_count": 25,
     "metadata": {},
     "output_type": "execute_result"
    }
   ],
   "source": [
    "f1_score(test_out, prev_gnb, average='macro')"
   ],
   "metadata": {
    "collapsed": false
   }
  },
  {
   "cell_type": "code",
   "execution_count": 27,
   "outputs": [],
   "source": [
    "# All the evaluation metrics for the different models, KNN Classifier, Decision Tree and Gaussion, have identical values. The models show a fair aptitude (scores of 0,5 and 0,6) to predict the correct value. Additionally, we can also infer that the model is more accurate at predicting true negatives."
   ],
   "metadata": {
    "collapsed": false
   }
  },
  {
   "cell_type": "markdown",
   "source": [
    "#### Ex.5) Usando apenas o melhor modelo do exercício anterior, compare o seu desempenho considerando dados com transformação logaritmica e posteriormente standardizados"
   ],
   "metadata": {
    "collapsed": false
   }
  },
  {
   "cell_type": "code",
   "execution_count": 42,
   "outputs": [],
   "source": [
    "log_data = np.log2(data_metab)"
   ],
   "metadata": {
    "collapsed": false
   }
  },
  {
   "cell_type": "code",
   "execution_count": 45,
   "outputs": [
    {
     "name": "stdout",
     "output_type": "stream",
     "text": [
      "Média global: 5.0899526010438016e-17\n",
      "Desvio padrão global: 1.0\n"
     ]
    }
   ],
   "source": [
    "log_input_data = log_data.values\n",
    "output_data = meta_metab.values[:, 0]\n",
    "\n",
    "log_input_data_scale = preprocessing.scale(log_input_data)\n",
    "\n",
    "print(\"Média global:\", log_input_data_scale.mean())\n",
    "print(\"Desvio padrão global:\", log_input_data_scale.std())"
   ],
   "metadata": {
    "collapsed": false
   }
  },
  {
   "cell_type": "code",
   "execution_count": 46,
   "outputs": [
    {
     "name": "stdout",
     "output_type": "stream",
     "text": [
      "Numero de exemplos para teste:  23\n"
     ]
    },
    {
     "data": {
      "text/plain": "((54, 63), (54, 63), (23, 63), (23, 63))"
     },
     "execution_count": 46,
     "metadata": {},
     "output_type": "execute_result"
    }
   ],
   "source": [
    "import numpy as np\n",
    "\n",
    "numtst = int(log_input_data_scale.data.shape[0] * 0.3)\n",
    "print(\"Numero de exemplos para teste: \", numtst)\n",
    "\n",
    "indices = np.random.permutation(len(log_input_data))\n",
    "\n",
    "log_train_in = log_input_data_scale[indices[:-numtst]]\n",
    "log_train_out = log_input_data_scale[indices[:-numtst]]\n",
    "\n",
    "log_test_in  = log_input_data_scale[indices[-numtst:]]\n",
    "log_test_out = log_input_data_scale[indices[-numtst:]]\n",
    "\n",
    "log_train_in.shape, log_train_out.shape, log_test_in.shape, log_test_out.shape"
   ],
   "metadata": {
    "collapsed": false
   }
  },
  {
   "cell_type": "code",
   "execution_count": null,
   "outputs": [],
   "source": [
    "# As the variables are continuous, the models need to be regression models."
   ],
   "metadata": {
    "collapsed": false
   }
  },
  {
   "cell_type": "code",
   "execution_count": 49,
   "outputs": [
    {
     "name": "stdout",
     "output_type": "stream",
     "text": [
      "0.11641166794360254\n"
     ]
    }
   ],
   "source": [
    "reg_tree_model = tree.DecisionTreeRegressor()\n",
    "reg_tree_model = reg_tree_model.fit(log_train_in, log_train_out)\n",
    "prev_tree = reg_tree_model.predict(log_test_in)\n",
    "\n",
    "print(reg_tree_model.score(log_test_in, log_test_out))"
   ],
   "metadata": {
    "collapsed": false
   }
  },
  {
   "cell_type": "code",
   "execution_count": 51,
   "outputs": [],
   "source": [
    "# The best possible outcome is 1.0 and as such this is a low score. Therefore, the model does not have a good capability to accurately predict the values."
   ],
   "metadata": {
    "collapsed": false
   }
  }
 ],
 "metadata": {
  "kernelspec": {
   "display_name": "Python 3 (ipykernel)",
   "language": "python",
   "name": "python3"
  },
  "language_info": {
   "codemirror_mode": {
    "name": "ipython",
    "version": 3
   },
   "file_extension": ".py",
   "mimetype": "text/x-python",
   "name": "python",
   "nbconvert_exporter": "python",
   "pygments_lexer": "ipython3",
   "version": "3.9.7"
  }
 },
 "nbformat": 4,
 "nbformat_minor": 2
}
