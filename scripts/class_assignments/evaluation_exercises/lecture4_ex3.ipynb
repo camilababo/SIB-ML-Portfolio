{
 "cells": [
  {
   "cell_type": "markdown",
   "source": [
    "# Exercise 3: Implement KNN Regressor"
   ],
   "metadata": {
    "collapsed": false
   }
  },
  {
   "cell_type": "code",
   "execution_count": 20,
   "outputs": [],
   "source": [
    "from si.neighbors.knn_regressor import KNNRegressor\n",
    "from si.model_selection.split import train_test_split\n",
    "from si.io.csv import read_csv"
   ],
   "metadata": {
    "collapsed": false
   }
  },
  {
   "cell_type": "markdown",
   "source": [
    "## Exercise 3.3:\n",
    "Test the object KNNRegressor in a jupyter notebook using the cpu.csv dataset. (regression)"
   ],
   "metadata": {
    "collapsed": false
   }
  },
  {
   "cell_type": "code",
   "execution_count": 21,
   "outputs": [],
   "source": [
    "df_path = r\"C:\\Users\\anaca\\Documents\\GitHub\\SIB-ML-Portfolio\\datasets\\cpu.csv\"\n",
    "df = read_csv(df_path, sep=\",\", label=True, features=True)"
   ],
   "metadata": {
    "collapsed": false
   }
  },
  {
   "cell_type": "code",
   "execution_count": 23,
   "outputs": [],
   "source": [
    "train, test = train_test_split(df)\n",
    "# train.print_dataframe()\n",
    "# test.print_dataframe()"
   ],
   "metadata": {
    "collapsed": false
   }
  },
  {
   "cell_type": "code",
   "execution_count": 24,
   "outputs": [
    {
     "data": {
      "text/plain": "<si.neighbors.knn_regressor.KNNRegressor at 0x2a18982f7f0>"
     },
     "execution_count": 24,
     "metadata": {},
     "output_type": "execute_result"
    }
   ],
   "source": [
    "from si.statistics.euclidean_distance import euclidean_distance\n",
    "\n",
    "k = 2\n",
    "distance = euclidean_distance\n",
    "kmeans = KNNRegressor(k, distance)\n",
    "kmeans.fit(train)"
   ],
   "metadata": {
    "collapsed": false
   }
  },
  {
   "cell_type": "code",
   "execution_count": 25,
   "outputs": [
    {
     "data": {
      "text/plain": "(1329.681540820959+0j)"
     },
     "execution_count": 25,
     "metadata": {},
     "output_type": "execute_result"
    }
   ],
   "source": [
    "kmeans.score(test)"
   ],
   "metadata": {
    "collapsed": false
   }
  },
  {
   "cell_type": "markdown",
   "source": [
    "## Test the object KNNClassifier"
   ],
   "metadata": {
    "collapsed": false
   }
  },
  {
   "cell_type": "code",
   "execution_count": 26,
   "outputs": [],
   "source": [
    "df_path = r\"C:\\Users\\anaca\\Documents\\GitHub\\SIB-ML-Portfolio\\datasets\\iris.csv\"\n",
    "df = read_csv(df_path, sep=\",\", label=True, features=True)"
   ],
   "metadata": {
    "collapsed": false
   }
  },
  {
   "cell_type": "code",
   "execution_count": 27,
   "outputs": [],
   "source": [
    "train, test = train_test_split(df)\n",
    "# train.print_dataframe()\n",
    "#test.print_dataframe()"
   ],
   "metadata": {
    "collapsed": false
   }
  },
  {
   "cell_type": "code",
   "execution_count": 29,
   "outputs": [
    {
     "data": {
      "text/plain": "<si.neighbors.knn_classifier.KNNClassifier at 0x2a18982faf0>"
     },
     "execution_count": 29,
     "metadata": {},
     "output_type": "execute_result"
    }
   ],
   "source": [
    "from si.neighbors.knn_classifier import KNNClassifier\n",
    "\n",
    "k = 2\n",
    "distance = euclidean_distance\n",
    "kmeans = KNNClassifier(k, distance)\n",
    "kmeans.fit(train)"
   ],
   "metadata": {
    "collapsed": false
   }
  },
  {
   "cell_type": "code",
   "execution_count": 13,
   "outputs": [
    {
     "data": {
      "text/plain": "0.6"
     },
     "execution_count": 13,
     "metadata": {},
     "output_type": "execute_result"
    }
   ],
   "source": [
    "kmeans.score(test)"
   ],
   "metadata": {
    "collapsed": false
   }
  }
 ],
 "metadata": {
  "kernelspec": {
   "display_name": "Python 3",
   "language": "python",
   "name": "python3"
  },
  "language_info": {
   "codemirror_mode": {
    "name": "ipython",
    "version": 2
   },
   "file_extension": ".py",
   "mimetype": "text/x-python",
   "name": "python",
   "nbconvert_exporter": "python",
   "pygments_lexer": "ipython2",
   "version": "2.7.6"
  }
 },
 "nbformat": 4,
 "nbformat_minor": 0
}
