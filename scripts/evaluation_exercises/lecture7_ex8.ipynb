{
 "cells": [
  {
   "cell_type": "markdown",
   "source": [
    " # Evaluation Exercise"
   ],
   "metadata": {
    "collapsed": false
   }
  },
  {
   "cell_type": "code",
   "execution_count": 1,
   "outputs": [],
   "source": [
    "from si.io.data_file import read_data_file\n",
    "from sklearn.preprocessing import StandardScaler\n",
    "from si.model_selection.cross_validate import cross_validate\n",
    "from si.model_selection.grid_search import grid_search_cv\n",
    "from si.model_selection.randomize_search_cv import randomized_search_cv\n",
    "from si.linear_module.logistic_regression import LogisticRegression\n",
    "import numpy as np"
   ],
   "metadata": {
    "collapsed": false
   }
  },
  {
   "cell_type": "markdown",
   "source": [
    "## Cross Validate Test"
   ],
   "metadata": {
    "collapsed": false
   }
  },
  {
   "cell_type": "code",
   "execution_count": 2,
   "outputs": [],
   "source": [
    "breast_bin_dataset = r\"C:\\Users\\anaca\\Documents\\GitHub\\SIB-ML-Portfolio\\datasets\\breast-bin.data\"\n",
    "dataset = read_data_file(breast_bin_dataset, sep=\",\", label=True)"
   ],
   "metadata": {
    "collapsed": false
   }
  },
  {
   "cell_type": "code",
   "execution_count": 3,
   "outputs": [],
   "source": [
    "dataset.x = StandardScaler().fit_transform(dataset.x)"
   ],
   "metadata": {
    "collapsed": false
   }
  },
  {
   "cell_type": "code",
   "execution_count": 4,
   "outputs": [
    {
     "data": {
      "text/plain": "{'seed': [647, 725, 935, 497, 304],\n 'train': [0.9714285714285714,\n  0.9653061224489796,\n  0.9673469387755103,\n  0.9734693877551021,\n  0.9673469387755103],\n 'test': [0.9569377990430622,\n  0.9712918660287081,\n  0.9665071770334929,\n  0.9521531100478469,\n  0.9712918660287081],\n 'parameters': []}"
     },
     "execution_count": 4,
     "metadata": {},
     "output_type": "execute_result"
    }
   ],
   "source": [
    "lg = LogisticRegression()\n",
    "scores = cross_validate(lg, dataset, cv=5)\n",
    "scores"
   ],
   "metadata": {
    "collapsed": false
   }
  },
  {
   "cell_type": "markdown",
   "source": [
    "## Grid Search Test"
   ],
   "metadata": {
    "collapsed": false
   }
  },
  {
   "cell_type": "code",
   "execution_count": 5,
   "outputs": [
    {
     "data": {
      "text/plain": "[{'seed': [966, 858, 57],\n  'train': [0.9612244897959183, 0.9693877551020408, 0.9775510204081632],\n  'test': [0.9808612440191388, 0.9617224880382775, 0.9425837320574163],\n  'parameters': [{'l2_penalty': 1, 'alpha': 0.001, 'max_iter': 1000}]},\n {'seed': [568, 561, 27],\n  'train': [0.9714285714285714, 0.9612244897959183, 0.9653061224489796],\n  'test': [0.9569377990430622, 0.9808612440191388, 0.9712918660287081],\n  'parameters': [{'l2_penalty': 1, 'alpha': 0.001, 'max_iter': 2000}]},\n {'seed': [779, 898, 672],\n  'train': [0.9693877551020408, 0.963265306122449, 0.9673469387755103],\n  'test': [0.9617224880382775, 0.9760765550239234, 0.9665071770334929],\n  'parameters': [{'l2_penalty': 1, 'alpha': 0.0001, 'max_iter': 1000}]},\n {'seed': [232, 480, 731],\n  'train': [0.9673469387755103, 0.963265306122449, 0.9714285714285714],\n  'test': [0.9665071770334929, 0.9760765550239234, 0.9569377990430622],\n  'parameters': [{'l2_penalty': 1, 'alpha': 0.0001, 'max_iter': 2000}]},\n {'seed': [213, 491, 538],\n  'train': [0.9673469387755103, 0.9755102040816327, 0.9714285714285714],\n  'test': [0.9665071770334929, 0.9473684210526315, 0.9569377990430622],\n  'parameters': [{'l2_penalty': 10, 'alpha': 0.001, 'max_iter': 1000}]},\n {'seed': [254, 154, 948],\n  'train': [0.9673469387755103, 0.9653061224489796, 0.9693877551020408],\n  'test': [0.9712918660287081, 0.9712918660287081, 0.9617224880382775],\n  'parameters': [{'l2_penalty': 10, 'alpha': 0.001, 'max_iter': 2000}]},\n {'seed': [245, 27, 779],\n  'train': [0.963265306122449, 0.9653061224489796, 0.9693877551020408],\n  'test': [0.9760765550239234, 0.9712918660287081, 0.9617224880382775],\n  'parameters': [{'l2_penalty': 10, 'alpha': 0.0001, 'max_iter': 1000}]},\n {'seed': [898, 672, 232],\n  'train': [0.963265306122449, 0.9673469387755103, 0.9673469387755103],\n  'test': [0.9760765550239234, 0.9665071770334929, 0.9665071770334929],\n  'parameters': [{'l2_penalty': 10, 'alpha': 0.0001, 'max_iter': 2000}]}]"
     },
     "execution_count": 5,
     "metadata": {},
     "output_type": "execute_result"
    }
   ],
   "source": [
    "lg2 = LogisticRegression()\n",
    "\n",
    "lg2_param = {'l2_penalty': [1, 10],\n",
    "             'alpha': [0.001, 0.0001],\n",
    "            'max_iter': [1000, 2000]}\n",
    "\n",
    "scores = grid_search_cv(lg2, dataset, lg2_param, cv=3)\n",
    "scores"
   ],
   "metadata": {
    "collapsed": false
   }
  },
  {
   "cell_type": "markdown",
   "source": [
    "## Randomize Search"
   ],
   "metadata": {
    "collapsed": false
   }
  },
  {
   "cell_type": "code",
   "execution_count": 6,
   "outputs": [
    {
     "data": {
      "text/plain": "{'parameters': [{'l2_penalty': 2.0,\n   'alpha': 0.00018181818181818186,\n   'max_iter': 1638.1909547738694},\n  {'l2_penalty': 3.0,\n   'alpha': 0.0006818181818181819,\n   'max_iter': 1693.4673366834172},\n  {'l2_penalty': 2.0,\n   'alpha': 0.00023636363636363633,\n   'max_iter': 1100.502512562814},\n  {'l2_penalty': 10.0,\n   'alpha': 0.0006181818181818182,\n   'max_iter': 1753.7688442211056},\n  {'l2_penalty': 6.0,\n   'alpha': 0.00017272727272727275,\n   'max_iter': 1185.929648241206},\n  {'l2_penalty': 4.0,\n   'alpha': 0.00039999999999999996,\n   'max_iter': 1517.5879396984924},\n  {'l2_penalty': 6.0,\n   'alpha': 0.0005363636363636364,\n   'max_iter': 1025.1256281407036},\n  {'l2_penalty': 10.0,\n   'alpha': 0.00037272727272727273,\n   'max_iter': 1788.9447236180904},\n  {'l2_penalty': 10.0,\n   'alpha': 0.000990909090909091,\n   'max_iter': 1427.1356783919598},\n  {'l2_penalty': 1.0,\n   'alpha': 0.0007454545454545455,\n   'max_iter': 1120.6030150753768}],\n 'seeds': [480, 268, 790, 288, 274, 60, 760, 428, 779, 512],\n 'train': [[0.9714285714285714, 0.963265306122449, 0.9612244897959183],\n  [0.9714285714285714, 0.9653061224489796, 0.9673469387755103],\n  [0.9693877551020408, 0.9693877551020408, 0.9734693877551021],\n  [0.9653061224489796, 0.9673469387755103, 0.9653061224489796],\n  [0.9714285714285714, 0.9755102040816327, 0.9693877551020408],\n  [0.9693877551020408, 0.9653061224489796, 0.9653061224489796],\n  [0.9714285714285714, 0.9653061224489796, 0.9653061224489796],\n  [0.9673469387755103, 0.9612244897959183, 0.9653061224489796],\n  [0.9591836734693877, 0.9591836734693877, 0.9673469387755103],\n  [0.963265306122449, 0.9714285714285714, 0.9612244897959183]],\n 'test': [[0.9569377990430622, 0.9760765550239234, 0.9808612440191388],\n  [0.9617224880382775, 0.9712918660287081, 0.9665071770334929],\n  [0.9617224880382775, 0.9617224880382775, 0.9521531100478469],\n  [0.9712918660287081, 0.9665071770334929, 0.9712918660287081],\n  [0.9569377990430622, 0.9473684210526315, 0.9617224880382775],\n  [0.9617224880382775, 0.9712918660287081, 0.9712918660287081],\n  [0.9569377990430622, 0.9712918660287081, 0.9712918660287081],\n  [0.9665071770334929, 0.9808612440191388, 0.9712918660287081],\n  [0.9904306220095693, 0.9856459330143541, 0.9665071770334929],\n  [0.9760765550239234, 0.9569377990430622, 0.9808612440191388]]}"
     },
     "execution_count": 6,
     "metadata": {},
     "output_type": "execute_result"
    }
   ],
   "source": [
    "lg3 = LogisticRegression()\n",
    "\n",
    "lg3_param = {'l2_penalty': np.linspace(1, 10, 10),\n",
    "             'alpha': np.linspace(0.001, 0.0001, 100),\n",
    "            'max_iter': np.linspace(1000, 2000, 200)}\n",
    "\n",
    "scores = randomized_search_cv(lg3, dataset, lg3_param, cv=3)\n",
    "scores"
   ],
   "metadata": {
    "collapsed": false
   }
  }
 ],
 "metadata": {
  "kernelspec": {
   "display_name": "Python 3",
   "language": "python",
   "name": "python3"
  },
  "language_info": {
   "codemirror_mode": {
    "name": "ipython",
    "version": 2
   },
   "file_extension": ".py",
   "mimetype": "text/x-python",
   "name": "python",
   "nbconvert_exporter": "python",
   "pygments_lexer": "ipython2",
   "version": "2.7.6"
  }
 },
 "nbformat": 4,
 "nbformat_minor": 0
}
