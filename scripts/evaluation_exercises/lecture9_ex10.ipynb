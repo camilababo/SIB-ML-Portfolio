{
 "cells": [
  {
   "cell_type": "markdown",
   "source": [
    "# NN Test"
   ],
   "metadata": {
    "collapsed": false
   }
  },
  {
   "cell_type": "code",
   "execution_count": 21,
   "outputs": [],
   "source": [
    "from si.neural_networks.layers import Dense,SigmoidActivation, SoftMaxActivation, ReLUActivation\n",
    "from si.neural_networks.nn import NN\n",
    "from si.data.dataset import Dataset\n",
    "import numpy as np"
   ],
   "metadata": {
    "collapsed": false
   }
  },
  {
   "cell_type": "code",
   "execution_count": 22,
   "outputs": [
    {
     "data": {
      "text/plain": "   x1  x2\n1   0   0\n0   0   1\n0   1   0\n1   1   1",
      "text/html": "<div>\n<style scoped>\n    .dataframe tbody tr th:only-of-type {\n        vertical-align: middle;\n    }\n\n    .dataframe tbody tr th {\n        vertical-align: top;\n    }\n\n    .dataframe thead th {\n        text-align: right;\n    }\n</style>\n<table border=\"1\" class=\"dataframe\">\n  <thead>\n    <tr style=\"text-align: right;\">\n      <th></th>\n      <th>x1</th>\n      <th>x2</th>\n    </tr>\n  </thead>\n  <tbody>\n    <tr>\n      <th>1</th>\n      <td>0</td>\n      <td>0</td>\n    </tr>\n    <tr>\n      <th>0</th>\n      <td>0</td>\n      <td>1</td>\n    </tr>\n    <tr>\n      <th>0</th>\n      <td>1</td>\n      <td>0</td>\n    </tr>\n    <tr>\n      <th>1</th>\n      <td>1</td>\n      <td>1</td>\n    </tr>\n  </tbody>\n</table>\n</div>"
     },
     "execution_count": 22,
     "metadata": {},
     "output_type": "execute_result"
    }
   ],
   "source": [
    "x = np.array([[0,0],\n",
    "              [0,1],\n",
    "              [1,0],\n",
    "              [1,1]])\n",
    "\n",
    "y = np.array([1,\n",
    "              0,\n",
    "              0,\n",
    "              1])\n",
    "\n",
    "dataset = Dataset(x=x, y=y, features_names=['x1', 'x2'], label_name='x1 XNOR x2')\n",
    "dataset.print_dataframe()"
   ],
   "metadata": {
    "collapsed": false
   }
  },
  {
   "cell_type": "code",
   "execution_count": 23,
   "outputs": [],
   "source": [
    "# l1_weight_matrix = [[-30, 20, 20], [10, -20, -20]]\n",
    "# l2_weight_matrix = [-10, 20, 20]\n",
    "#\n",
    "# l1_bias = 1\n",
    "# l2_bias = 1\n",
    "\n",
    "layer1 = Dense(input_size=2, output_size=2)\n",
    "layer2 = Dense(input_size=2, output_size=1)\n",
    "\n",
    "layer1_sigmoid = SigmoidActivation()\n",
    "layer2_sigmoid = SigmoidActivation()\n",
    "\n",
    "# between layers, we have the layer activation\n",
    "nn_model = NN(\n",
    "    layers=[layer1, layer1_sigmoid, layer2, layer2_sigmoid]\n",
    ")"
   ],
   "metadata": {
    "collapsed": false
   }
  },
  {
   "cell_type": "code",
   "execution_count": 24,
   "outputs": [
    {
     "data": {
      "text/plain": "<si.neural_networks.nn.NN at 0x2158f3cf1f0>"
     },
     "execution_count": 24,
     "metadata": {},
     "output_type": "execute_result"
    }
   ],
   "source": [
    "nn_model.fit(dataset=dataset)"
   ],
   "metadata": {
    "collapsed": false
   }
  },
  {
   "cell_type": "code",
   "execution_count": 25,
   "outputs": [],
   "source": [
    "#nn_model.predict(dataset=Dataset)"
   ],
   "metadata": {
    "collapsed": false
   }
  },
  {
   "cell_type": "markdown",
   "source": [
    "## Ex.10 Evaluation"
   ],
   "metadata": {
    "collapsed": false
   }
  },
  {
   "cell_type": "markdown",
   "source": [
    "### Ex.10.3\n",
    "Binary classification problem"
   ],
   "metadata": {
    "collapsed": false
   }
  },
  {
   "cell_type": "code",
   "execution_count": 26,
   "outputs": [],
   "source": [
    "# Create an adequate training dataset\n",
    "x_3 = np.random.randn(100, 32)  # 100 samples with 32 features of random floats\n",
    "y_3 = np.random.randint(0, 2, size=(100, 1))  # labels for the 100 samples of random binary integers\n",
    "\n",
    "dataset_3 = Dataset(x_3, y_3)"
   ],
   "metadata": {
    "collapsed": false
   }
  },
  {
   "cell_type": "code",
   "execution_count": 27,
   "outputs": [],
   "source": [
    "layer3_1 = Dense(input_size=32, output_size=32)\n",
    "layer3_2 = Dense(input_size=32, output_size=16)\n",
    "layer3_3 = Dense(input_size=16, output_size=1)  #if score is <0.5 the output is 0, and if score is >0.5 the output is 1\n",
    "\n",
    "layer3_1sigmoid = SigmoidActivation()\n",
    "layer3_2sigmoid = SigmoidActivation()\n",
    "layer3_3sigmoid = SigmoidActivation()\n",
    "\n",
    "# between layers, we have the layer activation\n",
    "nn_model3 = NN(\n",
    "    layers=[layer3_1, layer3_1sigmoid, layer3_2, layer3_2sigmoid, layer3_3, layer3_3sigmoid]\n",
    ")"
   ],
   "metadata": {
    "collapsed": false
   }
  },
  {
   "cell_type": "code",
   "execution_count": 28,
   "outputs": [
    {
     "data": {
      "text/plain": "<si.neural_networks.nn.NN at 0x2158f3ce1d0>"
     },
     "execution_count": 28,
     "metadata": {},
     "output_type": "execute_result"
    }
   ],
   "source": [
    "nn_model3.fit(dataset=dataset_3)"
   ],
   "metadata": {
    "collapsed": false
   }
  },
  {
   "cell_type": "markdown",
   "source": [
    "### Ex.10.4\n",
    "Multiclass classification problem (3 classes)"
   ],
   "metadata": {
    "collapsed": false
   }
  },
  {
   "cell_type": "code",
   "execution_count": 29,
   "outputs": [],
   "source": [
    "# Create an adequate training dataset\n",
    "x_4 = np.random.randn(100, 32)  # 100 samples with 32 features of random floats\n",
    "y_4 = np.random.randint(0, 4, size=(100, 1))  # labels for the 100 samples with 3 different classes\n",
    "\n",
    "dataset_4 = Dataset(x_4, y_4)"
   ],
   "metadata": {
    "collapsed": false
   }
  },
  {
   "cell_type": "code",
   "execution_count": 30,
   "outputs": [],
   "source": [
    "layer4_1 = Dense(input_size=32, output_size=32)\n",
    "layer4_2 = Dense(input_size=32, output_size=16)\n",
    "layer4_3 = Dense(input_size=16, output_size=3)  # will assign each output to the corresponding class according to the score\n",
    "\n",
    "layer4_1sigmoid = SigmoidActivation()\n",
    "layer4_2sigmoid = SigmoidActivation()\n",
    "layer4_3sigmoid = SoftMaxActivation()  # will assign a probability to each class that summed together will add up to 1\n",
    "\n",
    "# between layers, we have the layer activation\n",
    "nn_model4 = NN(\n",
    "    layers=[layer4_1, layer4_1sigmoid, layer4_2, layer4_2sigmoid, layer4_3, layer4_3sigmoid]\n",
    ")"
   ],
   "metadata": {
    "collapsed": false
   }
  },
  {
   "cell_type": "code",
   "execution_count": 31,
   "outputs": [
    {
     "data": {
      "text/plain": "<si.neural_networks.nn.NN at 0x2158f3cc8b0>"
     },
     "execution_count": 31,
     "metadata": {},
     "output_type": "execute_result"
    }
   ],
   "source": [
    "nn_model4.fit(dataset=dataset_4)"
   ],
   "metadata": {
    "collapsed": false
   }
  },
  {
   "cell_type": "markdown",
   "source": [
    "### Ex.10.5\n",
    "Regression problem"
   ],
   "metadata": {
    "collapsed": false
   }
  },
  {
   "cell_type": "code",
   "execution_count": 32,
   "outputs": [],
   "source": [
    "# Create an adequate training dataset\n",
    "x_5 = np.random.randn(100, 32)  # 100 samples with 32 features of random floats\n",
    "y_5 = np.random.randn(100, 1)  # labels for the 100 samples of random floats\n",
    "\n",
    "dataset_5 = Dataset(x_5, y_5)"
   ],
   "metadata": {
    "collapsed": false
   }
  },
  {
   "cell_type": "code",
   "execution_count": 33,
   "outputs": [],
   "source": [
    "layer5_1 = Dense(input_size=32, output_size=32)\n",
    "layer5_2 = Dense(input_size=32, output_size=16)\n",
    "layer5_3 = Dense(input_size=16, output_size=16)\n",
    "\n",
    "layer5_1sigmoid = ReLUActivation()\n",
    "layer5_2sigmoid = ReLUActivation()\n",
    "layer5_3sigmoid = ReLUActivation()\n",
    "\n",
    "# between layers, we have the layer activation\n",
    "nn_model5 = NN(\n",
    "    layers=[layer5_1, layer5_1sigmoid, layer5_2, layer5_2sigmoid, layer5_3, layer5_3sigmoid]\n",
    ")"
   ],
   "metadata": {
    "collapsed": false
   }
  },
  {
   "cell_type": "code",
   "execution_count": 34,
   "outputs": [
    {
     "data": {
      "text/plain": "<si.neural_networks.nn.NN at 0x2158f3ea230>"
     },
     "execution_count": 34,
     "metadata": {},
     "output_type": "execute_result"
    }
   ],
   "source": [
    "nn_model5.fit(dataset=dataset_5)"
   ],
   "metadata": {
    "collapsed": false
   }
  }
 ],
 "metadata": {
  "kernelspec": {
   "display_name": "Python 3",
   "language": "python",
   "name": "python3"
  },
  "language_info": {
   "codemirror_mode": {
    "name": "ipython",
    "version": 2
   },
   "file_extension": ".py",
   "mimetype": "text/x-python",
   "name": "python",
   "nbconvert_exporter": "python",
   "pygments_lexer": "ipython2",
   "version": "2.7.6"
  }
 },
 "nbformat": 4,
 "nbformat_minor": 0
}
