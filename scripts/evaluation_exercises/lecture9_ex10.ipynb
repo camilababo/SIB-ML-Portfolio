{
 "cells": [
  {
   "cell_type": "markdown",
   "source": [
    "# NN Test"
   ],
   "metadata": {
    "collapsed": false
   }
  },
  {
   "cell_type": "code",
   "execution_count": 35,
   "outputs": [
    {
     "ename": "ImportError",
     "evalue": "cannot import name 'LinearActivation' from 'si.neural_networks.layers' (C:\\Users\\anaca\\Documents\\GitHub\\SIB-ML-Portfolio\\src\\si\\neural_networks\\layers.py)",
     "output_type": "error",
     "traceback": [
      "\u001B[1;31m---------------------------------------------------------------------------\u001B[0m",
      "\u001B[1;31mImportError\u001B[0m                               Traceback (most recent call last)",
      "Cell \u001B[1;32mIn [35], line 1\u001B[0m\n\u001B[1;32m----> 1\u001B[0m \u001B[38;5;28;01mfrom\u001B[39;00m \u001B[38;5;21;01msi\u001B[39;00m\u001B[38;5;21;01m.\u001B[39;00m\u001B[38;5;21;01mneural_networks\u001B[39;00m\u001B[38;5;21;01m.\u001B[39;00m\u001B[38;5;21;01mlayers\u001B[39;00m \u001B[38;5;28;01mimport\u001B[39;00m Dense,SigmoidActivation, SoftMaxActivation, ReLUActivation, LinearActivation\n\u001B[0;32m      2\u001B[0m \u001B[38;5;28;01mfrom\u001B[39;00m \u001B[38;5;21;01msi\u001B[39;00m\u001B[38;5;21;01m.\u001B[39;00m\u001B[38;5;21;01mneural_networks\u001B[39;00m\u001B[38;5;21;01m.\u001B[39;00m\u001B[38;5;21;01mnn\u001B[39;00m \u001B[38;5;28;01mimport\u001B[39;00m NN\n\u001B[0;32m      3\u001B[0m \u001B[38;5;28;01mfrom\u001B[39;00m \u001B[38;5;21;01msi\u001B[39;00m\u001B[38;5;21;01m.\u001B[39;00m\u001B[38;5;21;01mdata\u001B[39;00m\u001B[38;5;21;01m.\u001B[39;00m\u001B[38;5;21;01mdataset\u001B[39;00m \u001B[38;5;28;01mimport\u001B[39;00m Dataset\n",
      "\u001B[1;31mImportError\u001B[0m: cannot import name 'LinearActivation' from 'si.neural_networks.layers' (C:\\Users\\anaca\\Documents\\GitHub\\SIB-ML-Portfolio\\src\\si\\neural_networks\\layers.py)"
     ]
    }
   ],
   "source": [
    "from si.neural_networks.layers import Dense,SigmoidActivation, SoftMaxActivation, ReLUActivation, LinearActivation\n",
    "from si.neural_networks.nn import NN\n",
    "from si.data.dataset import Dataset\n",
    "import numpy as np"
   ],
   "metadata": {
    "collapsed": false
   }
  },
  {
   "cell_type": "code",
   "execution_count": null,
   "outputs": [],
   "source": [
    "x = np.array([[0,0],\n",
    "              [0,1],\n",
    "              [1,0],\n",
    "              [1,1]])\n",
    "\n",
    "y = np.array([1,\n",
    "              0,\n",
    "              0,\n",
    "              1])\n",
    "\n",
    "dataset = Dataset(x=x, y=y, features_names=['x1', 'x2'], label_name='x1 XNOR x2')\n",
    "dataset.print_dataframe()"
   ],
   "metadata": {
    "collapsed": false
   }
  },
  {
   "cell_type": "code",
   "execution_count": null,
   "outputs": [],
   "source": [
    "# l1_weight_matrix = [[-30, 20, 20], [10, -20, -20]]\n",
    "# l2_weight_matrix = [-10, 20, 20]\n",
    "#\n",
    "# l1_bias = 1\n",
    "# l2_bias = 1\n",
    "\n",
    "layer1 = Dense(input_size=2, output_size=2)\n",
    "layer2 = Dense(input_size=2, output_size=1)\n",
    "\n",
    "layer1_sigmoid = SigmoidActivation()\n",
    "layer2_sigmoid = SigmoidActivation()\n",
    "\n",
    "# between layers, we have the layer activation\n",
    "nn_model = NN(\n",
    "    layers=[layer1, layer1_sigmoid, layer2, layer2_sigmoid]\n",
    ")"
   ],
   "metadata": {
    "collapsed": false
   }
  },
  {
   "cell_type": "code",
   "execution_count": null,
   "outputs": [],
   "source": [
    "nn_model.fit(dataset=dataset)"
   ],
   "metadata": {
    "collapsed": false
   }
  },
  {
   "cell_type": "code",
   "execution_count": null,
   "outputs": [],
   "source": [
    "#nn_model.predict(dataset=Dataset)"
   ],
   "metadata": {
    "collapsed": false
   }
  },
  {
   "cell_type": "markdown",
   "source": [
    "## Ex.10 Evaluation"
   ],
   "metadata": {
    "collapsed": false
   }
  },
  {
   "cell_type": "markdown",
   "source": [
    "### Ex.10.3\n",
    "Binary classification problem"
   ],
   "metadata": {
    "collapsed": false
   }
  },
  {
   "cell_type": "code",
   "execution_count": null,
   "outputs": [],
   "source": [
    "# Create an adequate training dataset\n",
    "x_3 = np.random.randn(100, 32)  # 100 samples with 32 features of random floats\n",
    "y_3 = np.random.randint(0, 2, size=(100, 1))  # labels for the 100 samples of random binary integers\n",
    "\n",
    "dataset_3 = Dataset(x_3, y_3)"
   ],
   "metadata": {
    "collapsed": false
   }
  },
  {
   "cell_type": "code",
   "execution_count": null,
   "outputs": [],
   "source": [
    "layer3_1 = Dense(input_size=32, output_size=32)\n",
    "layer3_2 = Dense(input_size=32, output_size=16)\n",
    "layer3_3 = Dense(input_size=16, output_size=1)  #if score is <0.5 the output is 0, and if score is >0.5 the output is 1\n",
    "\n",
    "layer3_1sigmoid = SigmoidActivation()\n",
    "layer3_2sigmoid = SigmoidActivation()\n",
    "layer3_3sigmoid = SigmoidActivation()\n",
    "\n",
    "# between layers, we have the layer activation\n",
    "nn_model3 = NN(\n",
    "    layers=[layer3_1, layer3_1sigmoid, layer3_2, layer3_2sigmoid, layer3_3, layer3_3sigmoid]\n",
    ")"
   ],
   "metadata": {
    "collapsed": false
   }
  },
  {
   "cell_type": "code",
   "execution_count": null,
   "outputs": [],
   "source": [
    "nn_model3.fit(dataset=dataset_3)"
   ],
   "metadata": {
    "collapsed": false
   }
  },
  {
   "cell_type": "markdown",
   "source": [
    "### Ex.10.4\n",
    "Multiclass classification problem (3 classes)"
   ],
   "metadata": {
    "collapsed": false
   }
  },
  {
   "cell_type": "code",
   "execution_count": null,
   "outputs": [],
   "source": [
    "# Create an adequate training dataset\n",
    "x_4 = np.random.randn(100, 32)  # 100 samples with 32 features of random floats\n",
    "y_4 = np.random.randint(0, 3, size=(100, 1))  # labels for the 100 samples with 3 different classes\n",
    "\n",
    "dataset_4 = Dataset(x_4, y_4)"
   ],
   "metadata": {
    "collapsed": false
   }
  },
  {
   "cell_type": "code",
   "execution_count": null,
   "outputs": [],
   "source": [
    "layer4_1 = Dense(input_size=32, output_size=32)\n",
    "layer4_2 = Dense(input_size=32, output_size=16)\n",
    "layer4_3 = Dense(input_size=16, output_size=3)  # will assign each output to the corresponding class according to the score\n",
    "\n",
    "layer4_1sigmoid = SigmoidActivation()\n",
    "layer4_2sigmoid = SigmoidActivation()\n",
    "layer4_3sigmoid = SoftMaxActivation()  # will assign a probability to each class that summed together will add up to 1\n",
    "\n",
    "# between layers, we have the layer activation\n",
    "nn_model4 = NN(\n",
    "    layers=[layer4_1, layer4_1sigmoid, layer4_2, layer4_2sigmoid, layer4_3, layer4_3sigmoid]\n",
    ")"
   ],
   "metadata": {
    "collapsed": false
   }
  },
  {
   "cell_type": "code",
   "execution_count": null,
   "outputs": [],
   "source": [
    "nn_model4.fit(dataset=dataset_4)"
   ],
   "metadata": {
    "collapsed": false
   }
  },
  {
   "cell_type": "markdown",
   "source": [
    "### Ex.10.5\n",
    "Regression problem"
   ],
   "metadata": {
    "collapsed": false
   }
  },
  {
   "cell_type": "code",
   "execution_count": null,
   "outputs": [],
   "source": [
    "# Create an adequate training dataset\n",
    "x_5 = np.random.randn(100, 32)  # 100 samples with 32 features of random floats\n",
    "y_5 = np.random.randn(100, 1)  # labels for the 100 samples of random floats\n",
    "\n",
    "dataset_5 = Dataset(x_5, y_5)"
   ],
   "metadata": {
    "collapsed": false
   }
  },
  {
   "cell_type": "code",
   "execution_count": null,
   "outputs": [],
   "source": [
    "layer5_1 = Dense(input_size=32, output_size=32)\n",
    "layer5_2 = Dense(input_size=32, output_size=16)\n",
    "layer5_3 = Dense(input_size=16, output_size=1)  # returns a single continuous target for each sample\n",
    "\n",
    "layer5_1sigmoid = ReLUActivation()\n",
    "layer5_2sigmoid = ReLUActivation()\n",
    "layer5_3sigmoid = LinearActivation()  # returns a real values for our output\n",
    "\n",
    "# between layers, we have the layer activation\n",
    "nn_model5 = NN(\n",
    "    layers=[layer5_1, layer5_1sigmoid, layer5_2, layer5_2sigmoid, layer5_3, layer5_3sigmoid]\n",
    ")"
   ],
   "metadata": {
    "collapsed": false
   }
  },
  {
   "cell_type": "code",
   "execution_count": null,
   "outputs": [],
   "source": [
    "nn_model5.fit(dataset=dataset_5)"
   ],
   "metadata": {
    "collapsed": false
   }
  }
 ],
 "metadata": {
  "kernelspec": {
   "display_name": "Python 3",
   "language": "python",
   "name": "python3"
  },
  "language_info": {
   "codemirror_mode": {
    "name": "ipython",
    "version": 2
   },
   "file_extension": ".py",
   "mimetype": "text/x-python",
   "name": "python",
   "nbconvert_exporter": "python",
   "pygments_lexer": "ipython2",
   "version": "2.7.6"
  }
 },
 "nbformat": 4,
 "nbformat_minor": 0
}
