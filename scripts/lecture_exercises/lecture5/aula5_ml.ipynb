{
 "cells": [
  {
   "cell_type": "markdown",
   "source": [
    "# Logistic and Linear regression\n",
    "Linear Regression is used to handle regression problems whereas Logistic regression is used to handle the classification problems.\n",
    "Linear regression provides a continuous output but Logistic regression provides discreet output.\n",
    "The purpose of Linear Regression is to find the best-fitted line while Logistic regression is one step ahead and fitting the line values to the sigmoid curve.\n",
    "The method for calculating loss function in linear regression is the mean squared error whereas for logistic regression it is maximum likelihood estimation."
   ],
   "metadata": {
    "collapsed": false
   }
  },
  {
   "cell_type": "markdown",
   "source": [
    "## Logistic Regression (Classification Problem)"
   ],
   "metadata": {
    "collapsed": false
   }
  },
  {
   "cell_type": "code",
   "execution_count": 1,
   "outputs": [],
   "source": [
    "from sklearn import datasets\n",
    "import numpy as np\n",
    "\n",
    "#dataset import\n",
    "iris = datasets.load_iris()\n",
    "diabetes = datasets.load_diabetes()"
   ],
   "metadata": {
    "collapsed": false
   }
  },
  {
   "cell_type": "code",
   "execution_count": 2,
   "outputs": [],
   "source": [
    "#train and test dataset division\n",
    "indices = np.random.permutation(len(iris.data))\n",
    "\n",
    "train_in = iris.data[indices[:-10]]\n",
    "train_out = iris.target[indices[:-10]]\n",
    "\n",
    "test_in = iris.data[indices[-10:]]\n",
    "test_out = iris.target[indices[-10:]]"
   ],
   "metadata": {
    "collapsed": false
   }
  },
  {
   "cell_type": "code",
   "execution_count": 3,
   "outputs": [
    {
     "name": "stdout",
     "output_type": "stream",
     "text": [
      "LogisticRegression(C=100000.0, solver='liblinear')\n",
      "Valores previstos:  [2 1 2 0 1 1 0 2 2 0]\n",
      "Valores reais:  [2 1 2 0 1 1 0 2 2 0]\n"
     ]
    }
   ],
   "source": [
    "from sklearn import linear_model\n",
    "\n",
    "logistic = linear_model.LogisticRegression(C=1e5, solver = \"liblinear\", multi_class = \"auto\")\n",
    "logistic = logistic.fit(train_in, train_out)\n",
    "print(logistic)\n",
    "\n",
    "print(\"Valores previstos: \" , logistic.predict(test_in))\n",
    "print(\"Valores reais: \" , test_out)"
   ],
   "metadata": {
    "collapsed": false
   }
  },
  {
   "cell_type": "markdown",
   "source": [
    "## Linear Regression (Regression Problem)"
   ],
   "metadata": {
    "collapsed": false
   }
  },
  {
   "cell_type": "code",
   "execution_count": 4,
   "outputs": [],
   "source": [
    "# regression dataset\n",
    "X_train = diabetes.data[:-20]\n",
    "X_test = diabetes.data[-20:]\n",
    "y_train = diabetes.target[:-20]\n",
    "y_test = diabetes.target[-20:]"
   ],
   "metadata": {
    "collapsed": false
   }
  },
  {
   "cell_type": "code",
   "execution_count": 5,
   "metadata": {},
   "outputs": [
    {
     "name": "stdout",
     "output_type": "stream",
     "text": [
      "LinearRegression()\n",
      "Valores previstos:  [197.61846908 155.43979328 172.88665147 111.53537279 164.80054784\n",
      " 131.06954875 259.12237761 100.47935157 117.0601052  124.30503555\n",
      " 218.36632793  61.19831284 132.25046751 120.3332925   52.54458691\n",
      " 194.03798088 102.57139702 123.56604987 211.0346317   52.60335674]\n",
      "Valores reais:  [233.  91. 111. 152. 120.  67. 310.  94. 183.  66. 173.  72.  49.  64.\n",
      "  48. 178. 104. 132. 220.  57.]\n"
     ]
    }
   ],
   "source": [
    "from sklearn import linear_model\n",
    "regr_model = linear_model.LinearRegression()\n",
    "regr_model = regr_model.fit(X_train, y_train)\n",
    "print(regr_model)\n",
    "print(\"Valores previstos: \" , regr_model.predict(X_test))\n",
    "print(\"Valores reais: \" , y_test)\n"
   ]
  },
  {
   "cell_type": "code",
   "execution_count": 6,
   "metadata": {},
   "outputs": [
    {
     "name": "stdout",
     "output_type": "stream",
     "text": [
      "Valores previstos:  [195.01911216 153.17149511 169.39544476 106.01296055 166.5133624\n",
      " 133.75708257 257.43812783 103.063527   117.87817227 123.59757023\n",
      " 216.24272342  66.88652254 136.95957319 122.35356866  57.84501965\n",
      " 190.51188353 110.6371237  129.5404851  203.47164445  52.50623249]\n"
     ]
    }
   ],
   "source": [
    "ridge = linear_model.Ridge(alpha=.1)\n",
    "ridge = ridge.fit(X_train, y_train)\n",
    "print(\"Valores previstos: \" , ridge.predict(X_test))"
   ]
  },
  {
   "cell_type": "code",
   "execution_count": 7,
   "metadata": {},
   "outputs": [
    {
     "name": "stdout",
     "output_type": "stream",
     "text": [
      "Valores previstos:  [194.0266481  144.06218451 164.21351573 131.44370138 152.24238072\n",
      " 141.21304705 206.03485031 133.08806649 129.18988752 137.73743129\n",
      " 189.84297027 115.59492356 139.83064096 132.53551415 107.35741725\n",
      " 170.39555034 141.13149163 133.32409459 180.73179803 124.79153565]\n"
     ]
    }
   ],
   "source": [
    "lasso = linear_model.Lasso()\n",
    "lasso = lasso.fit(X_train, y_train)\n",
    "print(\"Valores previstos: \" , lasso.predict(X_test))"
   ]
  },
  {
   "cell_type": "code",
   "execution_count": 8,
   "metadata": {},
   "outputs": [
    {
     "name": "stdout",
     "output_type": "stream",
     "text": [
      "Numero de exemplos para teste:  599\n"
     ]
    },
    {
     "data": {
      "text/plain": [
       "((1198, 64), (1198,), (599, 64), (599,))"
      ]
     },
     "execution_count": 8,
     "metadata": {},
     "output_type": "execute_result"
    }
   ],
   "source": [
    "digits = datasets.load_digits()\n",
    "numtst = int(digits.data.shape[0] / 3)\n",
    "print(\"Numero de exemplos para teste: \", numtst)\n",
    "\n",
    "indices_dig = np.random.permutation(len(digits.data))\n",
    "\n",
    "dig_train_in = digits.data[indices_dig[:-numtst]]\n",
    "dig_train_out = digits.target[indices_dig[:-numtst]]\n",
    "\n",
    "dig_test_in  = digits.data[indices_dig[-numtst:]]\n",
    "dig_test_out = digits.target[indices_dig[-numtst:]]\n",
    "\n",
    "dig_train_in.shape, dig_train_out.shape, dig_test_in.shape, dig_test_out.shape"
   ]
  },
  {
   "cell_type": "code",
   "execution_count": 9,
   "metadata": {},
   "outputs": [],
   "source": [
    "dig_logr = linear_model.LogisticRegression(C=1e5, solver = \"liblinear\", multi_class = \"auto\")\n",
    "dig_logr.fit(dig_train_in, dig_train_out)\n",
    "prev_logr = dig_logr.predict(dig_test_in)"
   ]
  },
  {
   "cell_type": "code",
   "execution_count": 10,
   "metadata": {},
   "outputs": [
    {
     "name": "stdout",
     "output_type": "stream",
     "text": [
      "PECC (accuracy): 0.9432387312186978\n"
     ]
    }
   ],
   "source": [
    "from sklearn.metrics import accuracy_score\n",
    "print(\"PECC (accuracy):\", accuracy_score(dig_test_out, prev_logr) )"
   ]
  },
  {
   "cell_type": "code",
   "execution_count": 11,
   "metadata": {},
   "outputs": [
    {
     "data": {
      "text/plain": [
       "array([[56,  0,  0,  0,  0,  0,  0,  0,  0,  0],\n",
       "       [ 0, 55,  2,  0,  0,  0,  1,  0,  3,  0],\n",
       "       [ 0,  1, 51,  1,  0,  0,  0,  0,  1,  0],\n",
       "       [ 0,  0,  0, 60,  0,  2,  0,  1,  4,  0],\n",
       "       [ 0,  0,  0,  0, 58,  0,  0,  0,  0,  2],\n",
       "       [ 0,  0,  0,  0,  0, 73,  0,  0,  0,  1],\n",
       "       [ 0,  1,  0,  0,  0,  0, 52,  0,  1,  0],\n",
       "       [ 0,  0,  0,  0,  0,  0,  0, 58,  0,  1],\n",
       "       [ 0,  3,  0,  1,  1,  0,  0,  0, 45,  0],\n",
       "       [ 0,  0,  1,  1,  0,  1,  0,  0,  4, 57]])"
      ]
     },
     "execution_count": 11,
     "metadata": {},
     "output_type": "execute_result"
    }
   ],
   "source": [
    "from sklearn.metrics import confusion_matrix\n",
    "\n",
    "confusion_matrix(dig_test_out, prev_logr)"
   ]
  }
 ],
 "metadata": {
  "anaconda-cloud": {},
  "kernelspec": {
   "display_name": "Python 3",
   "language": "python",
   "name": "python3"
  },
  "language_info": {
   "codemirror_mode": {
    "name": "ipython",
    "version": 3
   },
   "file_extension": ".py",
   "mimetype": "text/x-python",
   "name": "python",
   "nbconvert_exporter": "python",
   "pygments_lexer": "ipython3",
   "version": "3.8.5"
  }
 },
 "nbformat": 4,
 "nbformat_minor": 1
}
