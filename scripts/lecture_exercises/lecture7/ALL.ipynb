{
 "cells": [
  {
   "cell_type": "markdown",
   "metadata": {},
   "source": [
    "## Exemplo dados expressão genética - pipeline completo de análise"
   ]
  },
  {
   "cell_type": "code",
   "execution_count": 1,
   "metadata": {},
   "outputs": [],
   "source": [
    "import pandas as pd\n",
    "import numpy as np\n",
    "%matplotlib inline\n",
    "import matplotlib.pyplot as plt"
   ]
  },
  {
   "cell_type": "markdown",
   "metadata": {},
   "source": [
    "### Leitura de dados e metadados"
   ]
  },
  {
   "cell_type": "markdown",
   "metadata": {},
   "source": [
    "O ALL é um conjunto de dados de expressão genética (dados de DNA microarrays) de pacientes com leucemia (linfoblástica aguda). Cada amostra (num total de 128) corresponde a um paciente de leucemia, tendo disponível a medida de 12625 probes (que correspondem a mRNA de genes do paciente). Cada paciente é caracterizado por um conjunto de variáveis clínicas."
   ]
  },
  {
   "cell_type": "code",
   "execution_count": 2,
   "metadata": {},
   "outputs": [],
   "source": [
    "# lendo dados usando pandas\n",
    "data_all = pd.read_csv(\"all_geneexp.csv\", sep='\\t', index_col = 0)\n",
    "# lendo metadados\n",
    "meta_all = pd.read_csv(\"metadata-ALL.csv\", sep = \"\\t\", index_col = 0)\n",
    "\n",
    "# colocando em matriz de genes (nas colunas) e amostras (nas linhas)\n",
    "data_all = data_all.transpose()"
   ]
  },
  {
   "cell_type": "code",
   "execution_count": 3,
   "metadata": {},
   "outputs": [
    {
     "name": "stdout",
     "output_type": "stream",
     "text": [
      "(128, 12625)\n",
      "(128, 5)\n"
     ]
    }
   ],
   "source": [
    "# Dimensao dos dados: linhas - pacientes; colunas - expressao genetica\n",
    "print(data_all.values.shape)\n",
    "# Dimensao dos metadados\n",
    "print(meta_all.values.shape)"
   ]
  },
  {
   "cell_type": "markdown",
   "metadata": {},
   "source": [
    "### Exploração dos dados e metadados"
   ]
  },
  {
   "cell_type": "code",
   "execution_count": 4,
   "metadata": {},
   "outputs": [
    {
     "data": {
      "text/html": [
       "<div>\n",
       "<style scoped>\n",
       "    .dataframe tbody tr th:only-of-type {\n",
       "        vertical-align: middle;\n",
       "    }\n",
       "\n",
       "    .dataframe tbody tr th {\n",
       "        vertical-align: top;\n",
       "    }\n",
       "\n",
       "    .dataframe thead th {\n",
       "        text-align: right;\n",
       "    }\n",
       "</style>\n",
       "<table border=\"1\" class=\"dataframe\">\n",
       "  <thead>\n",
       "    <tr style=\"text-align: right;\">\n",
       "      <th></th>\n",
       "      <th>1000_at</th>\n",
       "      <th>1001_at</th>\n",
       "      <th>1002_f_at</th>\n",
       "      <th>1003_s_at</th>\n",
       "      <th>1004_at</th>\n",
       "      <th>1005_at</th>\n",
       "      <th>1006_at</th>\n",
       "      <th>1007_s_at</th>\n",
       "      <th>1008_f_at</th>\n",
       "      <th>1009_at</th>\n",
       "      <th>...</th>\n",
       "      <th>AFFX-ThrX-3_at</th>\n",
       "      <th>AFFX-ThrX-5_at</th>\n",
       "      <th>AFFX-ThrX-M_at</th>\n",
       "      <th>AFFX-TrpnX-3_at</th>\n",
       "      <th>AFFX-TrpnX-5_at</th>\n",
       "      <th>AFFX-TrpnX-M_at</th>\n",
       "      <th>AFFX-YEL002c/WBP1_at</th>\n",
       "      <th>AFFX-YEL018w/_at</th>\n",
       "      <th>AFFX-YEL021w/URA3_at</th>\n",
       "      <th>AFFX-YEL024w/RIP1_at</th>\n",
       "    </tr>\n",
       "  </thead>\n",
       "  <tbody>\n",
       "    <tr>\n",
       "      <th>count</th>\n",
       "      <td>128.000000</td>\n",
       "      <td>128.000000</td>\n",
       "      <td>128.000000</td>\n",
       "      <td>128.000000</td>\n",
       "      <td>128.000000</td>\n",
       "      <td>128.000000</td>\n",
       "      <td>128.000000</td>\n",
       "      <td>128.000000</td>\n",
       "      <td>128.000000</td>\n",
       "      <td>128.000000</td>\n",
       "      <td>...</td>\n",
       "      <td>128.000000</td>\n",
       "      <td>128.000000</td>\n",
       "      <td>128.000000</td>\n",
       "      <td>128.000000</td>\n",
       "      <td>128.000000</td>\n",
       "      <td>128.000000</td>\n",
       "      <td>128.000000</td>\n",
       "      <td>128.000000</td>\n",
       "      <td>128.000000</td>\n",
       "      <td>128.000000</td>\n",
       "    </tr>\n",
       "    <tr>\n",
       "      <th>mean</th>\n",
       "      <td>7.548189</td>\n",
       "      <td>5.008460</td>\n",
       "      <td>3.898461</td>\n",
       "      <td>5.980585</td>\n",
       "      <td>5.815370</td>\n",
       "      <td>9.022764</td>\n",
       "      <td>3.650952</td>\n",
       "      <td>7.301389</td>\n",
       "      <td>8.805146</td>\n",
       "      <td>9.287179</td>\n",
       "      <td>...</td>\n",
       "      <td>4.441549</td>\n",
       "      <td>4.363089</td>\n",
       "      <td>3.445644</td>\n",
       "      <td>2.993966</td>\n",
       "      <td>3.771522</td>\n",
       "      <td>3.400151</td>\n",
       "      <td>3.200710</td>\n",
       "      <td>3.314870</td>\n",
       "      <td>3.748967</td>\n",
       "      <td>3.772650</td>\n",
       "    </tr>\n",
       "    <tr>\n",
       "      <th>std</th>\n",
       "      <td>0.260154</td>\n",
       "      <td>0.310953</td>\n",
       "      <td>0.204992</td>\n",
       "      <td>0.258275</td>\n",
       "      <td>0.266532</td>\n",
       "      <td>1.109113</td>\n",
       "      <td>0.174126</td>\n",
       "      <td>0.620520</td>\n",
       "      <td>0.512525</td>\n",
       "      <td>0.425623</td>\n",
       "      <td>...</td>\n",
       "      <td>0.410534</td>\n",
       "      <td>0.394520</td>\n",
       "      <td>0.415812</td>\n",
       "      <td>0.413118</td>\n",
       "      <td>0.410054</td>\n",
       "      <td>0.387862</td>\n",
       "      <td>0.477664</td>\n",
       "      <td>0.444788</td>\n",
       "      <td>0.885906</td>\n",
       "      <td>0.526467</td>\n",
       "    </tr>\n",
       "    <tr>\n",
       "      <th>min</th>\n",
       "      <td>6.549926</td>\n",
       "      <td>4.218220</td>\n",
       "      <td>3.416923</td>\n",
       "      <td>5.156087</td>\n",
       "      <td>4.634124</td>\n",
       "      <td>6.379843</td>\n",
       "      <td>3.046491</td>\n",
       "      <td>6.034525</td>\n",
       "      <td>7.906461</td>\n",
       "      <td>7.292769</td>\n",
       "      <td>...</td>\n",
       "      <td>3.062682</td>\n",
       "      <td>3.486735</td>\n",
       "      <td>2.536123</td>\n",
       "      <td>2.263963</td>\n",
       "      <td>2.767693</td>\n",
       "      <td>2.553967</td>\n",
       "      <td>2.446435</td>\n",
       "      <td>2.454894</td>\n",
       "      <td>2.714501</td>\n",
       "      <td>2.696426</td>\n",
       "    </tr>\n",
       "    <tr>\n",
       "      <th>25%</th>\n",
       "      <td>7.382817</td>\n",
       "      <td>4.803799</td>\n",
       "      <td>3.739214</td>\n",
       "      <td>5.800138</td>\n",
       "      <td>5.700050</td>\n",
       "      <td>8.217088</td>\n",
       "      <td>3.541715</td>\n",
       "      <td>6.824173</td>\n",
       "      <td>8.457428</td>\n",
       "      <td>9.064331</td>\n",
       "      <td>...</td>\n",
       "      <td>4.228290</td>\n",
       "      <td>4.140774</td>\n",
       "      <td>3.232355</td>\n",
       "      <td>2.779095</td>\n",
       "      <td>3.567743</td>\n",
       "      <td>3.194825</td>\n",
       "      <td>2.978152</td>\n",
       "      <td>3.080499</td>\n",
       "      <td>3.191187</td>\n",
       "      <td>3.464303</td>\n",
       "    </tr>\n",
       "    <tr>\n",
       "      <th>50%</th>\n",
       "      <td>7.569005</td>\n",
       "      <td>4.965856</td>\n",
       "      <td>3.909525</td>\n",
       "      <td>6.021260</td>\n",
       "      <td>5.852087</td>\n",
       "      <td>9.022537</td>\n",
       "      <td>3.645946</td>\n",
       "      <td>7.285423</td>\n",
       "      <td>8.682517</td>\n",
       "      <td>9.276952</td>\n",
       "      <td>...</td>\n",
       "      <td>4.417516</td>\n",
       "      <td>4.315935</td>\n",
       "      <td>3.373231</td>\n",
       "      <td>2.914470</td>\n",
       "      <td>3.712690</td>\n",
       "      <td>3.365643</td>\n",
       "      <td>3.107428</td>\n",
       "      <td>3.250382</td>\n",
       "      <td>3.411647</td>\n",
       "      <td>3.676795</td>\n",
       "    </tr>\n",
       "    <tr>\n",
       "      <th>75%</th>\n",
       "      <td>7.729556</td>\n",
       "      <td>5.177936</td>\n",
       "      <td>4.047797</td>\n",
       "      <td>6.194794</td>\n",
       "      <td>5.977736</td>\n",
       "      <td>9.751638</td>\n",
       "      <td>3.771999</td>\n",
       "      <td>7.724039</td>\n",
       "      <td>9.055975</td>\n",
       "      <td>9.576289</td>\n",
       "      <td>...</td>\n",
       "      <td>4.655479</td>\n",
       "      <td>4.546084</td>\n",
       "      <td>3.641641</td>\n",
       "      <td>3.101190</td>\n",
       "      <td>3.888372</td>\n",
       "      <td>3.551896</td>\n",
       "      <td>3.262033</td>\n",
       "      <td>3.450719</td>\n",
       "      <td>3.928952</td>\n",
       "      <td>3.948769</td>\n",
       "    </tr>\n",
       "    <tr>\n",
       "      <th>max</th>\n",
       "      <td>8.188617</td>\n",
       "      <td>6.408157</td>\n",
       "      <td>4.648154</td>\n",
       "      <td>6.430906</td>\n",
       "      <td>6.494545</td>\n",
       "      <td>11.653732</td>\n",
       "      <td>4.211380</td>\n",
       "      <td>9.199404</td>\n",
       "      <td>10.956793</td>\n",
       "      <td>10.334430</td>\n",
       "      <td>...</td>\n",
       "      <td>6.336573</td>\n",
       "      <td>6.579822</td>\n",
       "      <td>5.718844</td>\n",
       "      <td>5.223791</td>\n",
       "      <td>5.910215</td>\n",
       "      <td>5.401391</td>\n",
       "      <td>5.463561</td>\n",
       "      <td>5.499641</td>\n",
       "      <td>7.050007</td>\n",
       "      <td>5.992389</td>\n",
       "    </tr>\n",
       "  </tbody>\n",
       "</table>\n",
       "<p>8 rows × 12625 columns</p>\n",
       "</div>"
      ],
      "text/plain": [
       "          1000_at     1001_at   1002_f_at   1003_s_at     1004_at     1005_at  \\\n",
       "count  128.000000  128.000000  128.000000  128.000000  128.000000  128.000000   \n",
       "mean     7.548189    5.008460    3.898461    5.980585    5.815370    9.022764   \n",
       "std      0.260154    0.310953    0.204992    0.258275    0.266532    1.109113   \n",
       "min      6.549926    4.218220    3.416923    5.156087    4.634124    6.379843   \n",
       "25%      7.382817    4.803799    3.739214    5.800138    5.700050    8.217088   \n",
       "50%      7.569005    4.965856    3.909525    6.021260    5.852087    9.022537   \n",
       "75%      7.729556    5.177936    4.047797    6.194794    5.977736    9.751638   \n",
       "max      8.188617    6.408157    4.648154    6.430906    6.494545   11.653732   \n",
       "\n",
       "          1006_at   1007_s_at   1008_f_at     1009_at  ...  AFFX-ThrX-3_at  \\\n",
       "count  128.000000  128.000000  128.000000  128.000000  ...      128.000000   \n",
       "mean     3.650952    7.301389    8.805146    9.287179  ...        4.441549   \n",
       "std      0.174126    0.620520    0.512525    0.425623  ...        0.410534   \n",
       "min      3.046491    6.034525    7.906461    7.292769  ...        3.062682   \n",
       "25%      3.541715    6.824173    8.457428    9.064331  ...        4.228290   \n",
       "50%      3.645946    7.285423    8.682517    9.276952  ...        4.417516   \n",
       "75%      3.771999    7.724039    9.055975    9.576289  ...        4.655479   \n",
       "max      4.211380    9.199404   10.956793   10.334430  ...        6.336573   \n",
       "\n",
       "       AFFX-ThrX-5_at  AFFX-ThrX-M_at  AFFX-TrpnX-3_at  AFFX-TrpnX-5_at  \\\n",
       "count      128.000000      128.000000       128.000000       128.000000   \n",
       "mean         4.363089        3.445644         2.993966         3.771522   \n",
       "std          0.394520        0.415812         0.413118         0.410054   \n",
       "min          3.486735        2.536123         2.263963         2.767693   \n",
       "25%          4.140774        3.232355         2.779095         3.567743   \n",
       "50%          4.315935        3.373231         2.914470         3.712690   \n",
       "75%          4.546084        3.641641         3.101190         3.888372   \n",
       "max          6.579822        5.718844         5.223791         5.910215   \n",
       "\n",
       "       AFFX-TrpnX-M_at  AFFX-YEL002c/WBP1_at  AFFX-YEL018w/_at  \\\n",
       "count       128.000000            128.000000        128.000000   \n",
       "mean          3.400151              3.200710          3.314870   \n",
       "std           0.387862              0.477664          0.444788   \n",
       "min           2.553967              2.446435          2.454894   \n",
       "25%           3.194825              2.978152          3.080499   \n",
       "50%           3.365643              3.107428          3.250382   \n",
       "75%           3.551896              3.262033          3.450719   \n",
       "max           5.401391              5.463561          5.499641   \n",
       "\n",
       "       AFFX-YEL021w/URA3_at  AFFX-YEL024w/RIP1_at  \n",
       "count            128.000000            128.000000  \n",
       "mean               3.748967              3.772650  \n",
       "std                0.885906              0.526467  \n",
       "min                2.714501              2.696426  \n",
       "25%                3.191187              3.464303  \n",
       "50%                3.411647              3.676795  \n",
       "75%                3.928952              3.948769  \n",
       "max                7.050007              5.992389  \n",
       "\n",
       "[8 rows x 12625 columns]"
      ]
     },
     "execution_count": 4,
     "metadata": {},
     "output_type": "execute_result"
    }
   ],
   "source": [
    "data_all.describe()"
   ]
  },
  {
   "cell_type": "code",
   "execution_count": 5,
   "metadata": {},
   "outputs": [
    {
     "data": {
      "text/html": [
       "<div>\n",
       "<style scoped>\n",
       "    .dataframe tbody tr th:only-of-type {\n",
       "        vertical-align: middle;\n",
       "    }\n",
       "\n",
       "    .dataframe tbody tr th {\n",
       "        vertical-align: top;\n",
       "    }\n",
       "\n",
       "    .dataframe thead th {\n",
       "        text-align: right;\n",
       "    }\n",
       "</style>\n",
       "<table border=\"1\" class=\"dataframe\">\n",
       "  <thead>\n",
       "    <tr style=\"text-align: right;\">\n",
       "      <th></th>\n",
       "      <th>01005</th>\n",
       "      <th>01010</th>\n",
       "      <th>03002</th>\n",
       "      <th>04006</th>\n",
       "      <th>04007</th>\n",
       "      <th>04008</th>\n",
       "      <th>04010</th>\n",
       "      <th>04016</th>\n",
       "      <th>06002</th>\n",
       "      <th>08001</th>\n",
       "      <th>...</th>\n",
       "      <th>37001</th>\n",
       "      <th>43006</th>\n",
       "      <th>43015</th>\n",
       "      <th>44001</th>\n",
       "      <th>49004</th>\n",
       "      <th>56007</th>\n",
       "      <th>64005</th>\n",
       "      <th>65003</th>\n",
       "      <th>83001</th>\n",
       "      <th>LAL4</th>\n",
       "    </tr>\n",
       "  </thead>\n",
       "  <tbody>\n",
       "    <tr>\n",
       "      <th>count</th>\n",
       "      <td>12625.000000</td>\n",
       "      <td>12625.000000</td>\n",
       "      <td>12625.000000</td>\n",
       "      <td>12625.000000</td>\n",
       "      <td>12625.000000</td>\n",
       "      <td>12625.000000</td>\n",
       "      <td>12625.000000</td>\n",
       "      <td>12625.000000</td>\n",
       "      <td>12625.000000</td>\n",
       "      <td>12625.000000</td>\n",
       "      <td>...</td>\n",
       "      <td>12625.000000</td>\n",
       "      <td>12625.000000</td>\n",
       "      <td>12625.000000</td>\n",
       "      <td>12625.000000</td>\n",
       "      <td>12625.000000</td>\n",
       "      <td>12625.000000</td>\n",
       "      <td>12625.000000</td>\n",
       "      <td>12625.000000</td>\n",
       "      <td>12625.000000</td>\n",
       "      <td>12625.000000</td>\n",
       "    </tr>\n",
       "    <tr>\n",
       "      <th>mean</th>\n",
       "      <td>5.629663</td>\n",
       "      <td>5.647532</td>\n",
       "      <td>5.633270</td>\n",
       "      <td>5.630800</td>\n",
       "      <td>5.629627</td>\n",
       "      <td>5.640141</td>\n",
       "      <td>5.628059</td>\n",
       "      <td>5.596646</td>\n",
       "      <td>5.621250</td>\n",
       "      <td>5.641015</td>\n",
       "      <td>...</td>\n",
       "      <td>5.621712</td>\n",
       "      <td>5.615599</td>\n",
       "      <td>5.607109</td>\n",
       "      <td>5.628560</td>\n",
       "      <td>5.613613</td>\n",
       "      <td>5.644623</td>\n",
       "      <td>5.635797</td>\n",
       "      <td>5.584765</td>\n",
       "      <td>5.630508</td>\n",
       "      <td>5.619787</td>\n",
       "    </tr>\n",
       "    <tr>\n",
       "      <th>std</th>\n",
       "      <td>1.878316</td>\n",
       "      <td>1.853447</td>\n",
       "      <td>1.891571</td>\n",
       "      <td>1.863235</td>\n",
       "      <td>1.969992</td>\n",
       "      <td>1.901137</td>\n",
       "      <td>1.915637</td>\n",
       "      <td>1.972921</td>\n",
       "      <td>1.854198</td>\n",
       "      <td>1.920660</td>\n",
       "      <td>...</td>\n",
       "      <td>1.823912</td>\n",
       "      <td>1.836086</td>\n",
       "      <td>1.874867</td>\n",
       "      <td>1.826784</td>\n",
       "      <td>1.840455</td>\n",
       "      <td>1.821786</td>\n",
       "      <td>1.825175</td>\n",
       "      <td>1.804621</td>\n",
       "      <td>1.890289</td>\n",
       "      <td>1.763510</td>\n",
       "    </tr>\n",
       "    <tr>\n",
       "      <th>min</th>\n",
       "      <td>2.434882</td>\n",
       "      <td>2.423489</td>\n",
       "      <td>2.270794</td>\n",
       "      <td>2.266403</td>\n",
       "      <td>2.304342</td>\n",
       "      <td>2.402498</td>\n",
       "      <td>2.302909</td>\n",
       "      <td>2.330925</td>\n",
       "      <td>2.400333</td>\n",
       "      <td>2.382472</td>\n",
       "      <td>...</td>\n",
       "      <td>2.362676</td>\n",
       "      <td>2.428902</td>\n",
       "      <td>2.338718</td>\n",
       "      <td>2.407674</td>\n",
       "      <td>2.288986</td>\n",
       "      <td>2.468669</td>\n",
       "      <td>2.346690</td>\n",
       "      <td>2.481516</td>\n",
       "      <td>2.446911</td>\n",
       "      <td>2.377925</td>\n",
       "    </tr>\n",
       "    <tr>\n",
       "      <th>25%</th>\n",
       "      <td>4.110729</td>\n",
       "      <td>4.138544</td>\n",
       "      <td>4.118112</td>\n",
       "      <td>4.125402</td>\n",
       "      <td>4.012995</td>\n",
       "      <td>4.092817</td>\n",
       "      <td>4.060414</td>\n",
       "      <td>3.979573</td>\n",
       "      <td>4.145525</td>\n",
       "      <td>4.085494</td>\n",
       "      <td>...</td>\n",
       "      <td>4.154565</td>\n",
       "      <td>4.126564</td>\n",
       "      <td>4.085371</td>\n",
       "      <td>4.169137</td>\n",
       "      <td>4.131681</td>\n",
       "      <td>4.168931</td>\n",
       "      <td>4.160098</td>\n",
       "      <td>4.118830</td>\n",
       "      <td>4.083090</td>\n",
       "      <td>4.198234</td>\n",
       "    </tr>\n",
       "    <tr>\n",
       "      <th>50%</th>\n",
       "      <td>5.455297</td>\n",
       "      <td>5.532123</td>\n",
       "      <td>5.479052</td>\n",
       "      <td>5.489971</td>\n",
       "      <td>5.437263</td>\n",
       "      <td>5.501443</td>\n",
       "      <td>5.480261</td>\n",
       "      <td>5.400454</td>\n",
       "      <td>5.456214</td>\n",
       "      <td>5.456045</td>\n",
       "      <td>...</td>\n",
       "      <td>5.463254</td>\n",
       "      <td>5.455397</td>\n",
       "      <td>5.446506</td>\n",
       "      <td>5.442011</td>\n",
       "      <td>5.461996</td>\n",
       "      <td>5.514475</td>\n",
       "      <td>5.495860</td>\n",
       "      <td>5.440054</td>\n",
       "      <td>5.458681</td>\n",
       "      <td>5.505415</td>\n",
       "    </tr>\n",
       "    <tr>\n",
       "      <th>75%</th>\n",
       "      <td>6.825681</td>\n",
       "      <td>6.867437</td>\n",
       "      <td>6.859845</td>\n",
       "      <td>6.827895</td>\n",
       "      <td>6.901632</td>\n",
       "      <td>6.861054</td>\n",
       "      <td>6.873054</td>\n",
       "      <td>6.850350</td>\n",
       "      <td>6.788000</td>\n",
       "      <td>6.896056</td>\n",
       "      <td>...</td>\n",
       "      <td>6.810212</td>\n",
       "      <td>6.838215</td>\n",
       "      <td>6.831038</td>\n",
       "      <td>6.780349</td>\n",
       "      <td>6.826540</td>\n",
       "      <td>6.869452</td>\n",
       "      <td>6.832303</td>\n",
       "      <td>6.790878</td>\n",
       "      <td>6.860347</td>\n",
       "      <td>6.787282</td>\n",
       "    </tr>\n",
       "    <tr>\n",
       "      <th>max</th>\n",
       "      <td>13.455378</td>\n",
       "      <td>13.673926</td>\n",
       "      <td>13.795645</td>\n",
       "      <td>13.721009</td>\n",
       "      <td>13.879841</td>\n",
       "      <td>13.544389</td>\n",
       "      <td>13.573128</td>\n",
       "      <td>13.494362</td>\n",
       "      <td>13.888707</td>\n",
       "      <td>13.480839</td>\n",
       "      <td>...</td>\n",
       "      <td>13.553862</td>\n",
       "      <td>13.471868</td>\n",
       "      <td>13.872455</td>\n",
       "      <td>13.580862</td>\n",
       "      <td>13.502852</td>\n",
       "      <td>13.885026</td>\n",
       "      <td>13.701229</td>\n",
       "      <td>13.597862</td>\n",
       "      <td>13.524883</td>\n",
       "      <td>13.671110</td>\n",
       "    </tr>\n",
       "  </tbody>\n",
       "</table>\n",
       "<p>8 rows × 128 columns</p>\n",
       "</div>"
      ],
      "text/plain": [
       "              01005         01010         03002         04006         04007  \\\n",
       "count  12625.000000  12625.000000  12625.000000  12625.000000  12625.000000   \n",
       "mean       5.629663      5.647532      5.633270      5.630800      5.629627   \n",
       "std        1.878316      1.853447      1.891571      1.863235      1.969992   \n",
       "min        2.434882      2.423489      2.270794      2.266403      2.304342   \n",
       "25%        4.110729      4.138544      4.118112      4.125402      4.012995   \n",
       "50%        5.455297      5.532123      5.479052      5.489971      5.437263   \n",
       "75%        6.825681      6.867437      6.859845      6.827895      6.901632   \n",
       "max       13.455378     13.673926     13.795645     13.721009     13.879841   \n",
       "\n",
       "              04008         04010         04016         06002         08001  \\\n",
       "count  12625.000000  12625.000000  12625.000000  12625.000000  12625.000000   \n",
       "mean       5.640141      5.628059      5.596646      5.621250      5.641015   \n",
       "std        1.901137      1.915637      1.972921      1.854198      1.920660   \n",
       "min        2.402498      2.302909      2.330925      2.400333      2.382472   \n",
       "25%        4.092817      4.060414      3.979573      4.145525      4.085494   \n",
       "50%        5.501443      5.480261      5.400454      5.456214      5.456045   \n",
       "75%        6.861054      6.873054      6.850350      6.788000      6.896056   \n",
       "max       13.544389     13.573128     13.494362     13.888707     13.480839   \n",
       "\n",
       "       ...         37001         43006         43015         44001  \\\n",
       "count  ...  12625.000000  12625.000000  12625.000000  12625.000000   \n",
       "mean   ...      5.621712      5.615599      5.607109      5.628560   \n",
       "std    ...      1.823912      1.836086      1.874867      1.826784   \n",
       "min    ...      2.362676      2.428902      2.338718      2.407674   \n",
       "25%    ...      4.154565      4.126564      4.085371      4.169137   \n",
       "50%    ...      5.463254      5.455397      5.446506      5.442011   \n",
       "75%    ...      6.810212      6.838215      6.831038      6.780349   \n",
       "max    ...     13.553862     13.471868     13.872455     13.580862   \n",
       "\n",
       "              49004         56007         64005         65003         83001  \\\n",
       "count  12625.000000  12625.000000  12625.000000  12625.000000  12625.000000   \n",
       "mean       5.613613      5.644623      5.635797      5.584765      5.630508   \n",
       "std        1.840455      1.821786      1.825175      1.804621      1.890289   \n",
       "min        2.288986      2.468669      2.346690      2.481516      2.446911   \n",
       "25%        4.131681      4.168931      4.160098      4.118830      4.083090   \n",
       "50%        5.461996      5.514475      5.495860      5.440054      5.458681   \n",
       "75%        6.826540      6.869452      6.832303      6.790878      6.860347   \n",
       "max       13.502852     13.885026     13.701229     13.597862     13.524883   \n",
       "\n",
       "               LAL4  \n",
       "count  12625.000000  \n",
       "mean       5.619787  \n",
       "std        1.763510  \n",
       "min        2.377925  \n",
       "25%        4.198234  \n",
       "50%        5.505415  \n",
       "75%        6.787282  \n",
       "max       13.671110  \n",
       "\n",
       "[8 rows x 128 columns]"
      ]
     },
     "execution_count": 5,
     "metadata": {},
     "output_type": "execute_result"
    }
   ],
   "source": [
    "data_all.transpose().describe()"
   ]
  },
  {
   "cell_type": "code",
   "execution_count": 6,
   "metadata": {},
   "outputs": [
    {
     "data": {
      "text/html": [
       "<div>\n",
       "<style scoped>\n",
       "    .dataframe tbody tr th:only-of-type {\n",
       "        vertical-align: middle;\n",
       "    }\n",
       "\n",
       "    .dataframe tbody tr th {\n",
       "        vertical-align: top;\n",
       "    }\n",
       "\n",
       "    .dataframe thead th {\n",
       "        text-align: right;\n",
       "    }\n",
       "</style>\n",
       "<table border=\"1\" class=\"dataframe\">\n",
       "  <thead>\n",
       "    <tr style=\"text-align: right;\">\n",
       "      <th></th>\n",
       "      <th>1000_at</th>\n",
       "      <th>1001_at</th>\n",
       "      <th>1002_f_at</th>\n",
       "      <th>1003_s_at</th>\n",
       "      <th>1004_at</th>\n",
       "      <th>1005_at</th>\n",
       "      <th>1006_at</th>\n",
       "      <th>1007_s_at</th>\n",
       "      <th>1008_f_at</th>\n",
       "      <th>1009_at</th>\n",
       "      <th>...</th>\n",
       "      <th>AFFX-ThrX-3_at</th>\n",
       "      <th>AFFX-ThrX-5_at</th>\n",
       "      <th>AFFX-ThrX-M_at</th>\n",
       "      <th>AFFX-TrpnX-3_at</th>\n",
       "      <th>AFFX-TrpnX-5_at</th>\n",
       "      <th>AFFX-TrpnX-M_at</th>\n",
       "      <th>AFFX-YEL002c/WBP1_at</th>\n",
       "      <th>AFFX-YEL018w/_at</th>\n",
       "      <th>AFFX-YEL021w/URA3_at</th>\n",
       "      <th>AFFX-YEL024w/RIP1_at</th>\n",
       "    </tr>\n",
       "  </thead>\n",
       "  <tbody>\n",
       "    <tr>\n",
       "      <th>01005</th>\n",
       "      <td>7.597323</td>\n",
       "      <td>5.046194</td>\n",
       "      <td>3.900466</td>\n",
       "      <td>5.903856</td>\n",
       "      <td>5.925260</td>\n",
       "      <td>8.570990</td>\n",
       "      <td>3.656143</td>\n",
       "      <td>7.623562</td>\n",
       "      <td>8.903547</td>\n",
       "      <td>9.371888</td>\n",
       "      <td>...</td>\n",
       "      <td>4.365777</td>\n",
       "      <td>4.127825</td>\n",
       "      <td>3.469720</td>\n",
       "      <td>2.977916</td>\n",
       "      <td>3.623308</td>\n",
       "      <td>3.416213</td>\n",
       "      <td>3.281261</td>\n",
       "      <td>3.216799</td>\n",
       "      <td>3.395100</td>\n",
       "      <td>3.805801</td>\n",
       "    </tr>\n",
       "    <tr>\n",
       "      <th>01010</th>\n",
       "      <td>7.479445</td>\n",
       "      <td>4.932537</td>\n",
       "      <td>4.208155</td>\n",
       "      <td>6.169024</td>\n",
       "      <td>5.912780</td>\n",
       "      <td>10.428299</td>\n",
       "      <td>3.853979</td>\n",
       "      <td>7.543604</td>\n",
       "      <td>9.903953</td>\n",
       "      <td>9.322177</td>\n",
       "      <td>...</td>\n",
       "      <td>4.559372</td>\n",
       "      <td>4.452035</td>\n",
       "      <td>3.243264</td>\n",
       "      <td>2.650942</td>\n",
       "      <td>3.621928</td>\n",
       "      <td>3.344428</td>\n",
       "      <td>2.997496</td>\n",
       "      <td>2.978343</td>\n",
       "      <td>3.154582</td>\n",
       "      <td>3.092056</td>\n",
       "    </tr>\n",
       "    <tr>\n",
       "      <th>03002</th>\n",
       "      <td>7.567593</td>\n",
       "      <td>4.799294</td>\n",
       "      <td>3.886169</td>\n",
       "      <td>5.860459</td>\n",
       "      <td>5.893209</td>\n",
       "      <td>9.616713</td>\n",
       "      <td>3.646808</td>\n",
       "      <td>7.916954</td>\n",
       "      <td>8.494499</td>\n",
       "      <td>9.304982</td>\n",
       "      <td>...</td>\n",
       "      <td>4.309676</td>\n",
       "      <td>4.157649</td>\n",
       "      <td>3.228969</td>\n",
       "      <td>2.751669</td>\n",
       "      <td>3.497549</td>\n",
       "      <td>3.250417</td>\n",
       "      <td>2.888443</td>\n",
       "      <td>3.145237</td>\n",
       "      <td>3.076809</td>\n",
       "      <td>3.428454</td>\n",
       "    </tr>\n",
       "    <tr>\n",
       "      <th>04006</th>\n",
       "      <td>7.384684</td>\n",
       "      <td>4.922627</td>\n",
       "      <td>4.206798</td>\n",
       "      <td>6.116890</td>\n",
       "      <td>6.170245</td>\n",
       "      <td>9.937155</td>\n",
       "      <td>3.874289</td>\n",
       "      <td>6.816397</td>\n",
       "      <td>9.533983</td>\n",
       "      <td>9.135370</td>\n",
       "      <td>...</td>\n",
       "      <td>4.808575</td>\n",
       "      <td>4.205917</td>\n",
       "      <td>3.399563</td>\n",
       "      <td>2.960073</td>\n",
       "      <td>3.834567</td>\n",
       "      <td>3.589504</td>\n",
       "      <td>3.050276</td>\n",
       "      <td>3.098193</td>\n",
       "      <td>3.134195</td>\n",
       "      <td>3.336388</td>\n",
       "    </tr>\n",
       "    <tr>\n",
       "      <th>04007</th>\n",
       "      <td>7.905312</td>\n",
       "      <td>4.844565</td>\n",
       "      <td>3.416923</td>\n",
       "      <td>5.687997</td>\n",
       "      <td>5.615210</td>\n",
       "      <td>9.983809</td>\n",
       "      <td>3.547361</td>\n",
       "      <td>7.516981</td>\n",
       "      <td>8.871669</td>\n",
       "      <td>9.627175</td>\n",
       "      <td>...</td>\n",
       "      <td>4.120906</td>\n",
       "      <td>3.899734</td>\n",
       "      <td>3.027191</td>\n",
       "      <td>2.806713</td>\n",
       "      <td>3.485573</td>\n",
       "      <td>3.140334</td>\n",
       "      <td>3.037369</td>\n",
       "      <td>3.292282</td>\n",
       "      <td>5.943431</td>\n",
       "      <td>4.043344</td>\n",
       "    </tr>\n",
       "  </tbody>\n",
       "</table>\n",
       "<p>5 rows × 12625 columns</p>\n",
       "</div>"
      ],
      "text/plain": [
       "        1000_at   1001_at  1002_f_at  1003_s_at   1004_at    1005_at  \\\n",
       "01005  7.597323  5.046194   3.900466   5.903856  5.925260   8.570990   \n",
       "01010  7.479445  4.932537   4.208155   6.169024  5.912780  10.428299   \n",
       "03002  7.567593  4.799294   3.886169   5.860459  5.893209   9.616713   \n",
       "04006  7.384684  4.922627   4.206798   6.116890  6.170245   9.937155   \n",
       "04007  7.905312  4.844565   3.416923   5.687997  5.615210   9.983809   \n",
       "\n",
       "        1006_at  1007_s_at  1008_f_at   1009_at  ...  AFFX-ThrX-3_at  \\\n",
       "01005  3.656143   7.623562   8.903547  9.371888  ...        4.365777   \n",
       "01010  3.853979   7.543604   9.903953  9.322177  ...        4.559372   \n",
       "03002  3.646808   7.916954   8.494499  9.304982  ...        4.309676   \n",
       "04006  3.874289   6.816397   9.533983  9.135370  ...        4.808575   \n",
       "04007  3.547361   7.516981   8.871669  9.627175  ...        4.120906   \n",
       "\n",
       "       AFFX-ThrX-5_at  AFFX-ThrX-M_at  AFFX-TrpnX-3_at  AFFX-TrpnX-5_at  \\\n",
       "01005        4.127825        3.469720         2.977916         3.623308   \n",
       "01010        4.452035        3.243264         2.650942         3.621928   \n",
       "03002        4.157649        3.228969         2.751669         3.497549   \n",
       "04006        4.205917        3.399563         2.960073         3.834567   \n",
       "04007        3.899734        3.027191         2.806713         3.485573   \n",
       "\n",
       "       AFFX-TrpnX-M_at  AFFX-YEL002c/WBP1_at  AFFX-YEL018w/_at  \\\n",
       "01005         3.416213              3.281261          3.216799   \n",
       "01010         3.344428              2.997496          2.978343   \n",
       "03002         3.250417              2.888443          3.145237   \n",
       "04006         3.589504              3.050276          3.098193   \n",
       "04007         3.140334              3.037369          3.292282   \n",
       "\n",
       "       AFFX-YEL021w/URA3_at  AFFX-YEL024w/RIP1_at  \n",
       "01005              3.395100              3.805801  \n",
       "01010              3.154582              3.092056  \n",
       "03002              3.076809              3.428454  \n",
       "04006              3.134195              3.336388  \n",
       "04007              5.943431              4.043344  \n",
       "\n",
       "[5 rows x 12625 columns]"
      ]
     },
     "execution_count": 6,
     "metadata": {},
     "output_type": "execute_result"
    }
   ],
   "source": [
    "data_all.head()"
   ]
  },
  {
   "cell_type": "code",
   "execution_count": 7,
   "metadata": {},
   "outputs": [
    {
     "data": {
      "text/plain": [
       "sex          object\n",
       "age         float64\n",
       "BT           object\n",
       "mol.biol     object\n",
       "mdr          object\n",
       "dtype: object"
      ]
     },
     "execution_count": 7,
     "metadata": {},
     "output_type": "execute_result"
    }
   ],
   "source": [
    "meta_all.dtypes"
   ]
  },
  {
   "cell_type": "code",
   "execution_count": 8,
   "metadata": {},
   "outputs": [
    {
     "data": {
      "text/html": [
       "<div>\n",
       "<style scoped>\n",
       "    .dataframe tbody tr th:only-of-type {\n",
       "        vertical-align: middle;\n",
       "    }\n",
       "\n",
       "    .dataframe tbody tr th {\n",
       "        vertical-align: top;\n",
       "    }\n",
       "\n",
       "    .dataframe thead th {\n",
       "        text-align: right;\n",
       "    }\n",
       "</style>\n",
       "<table border=\"1\" class=\"dataframe\">\n",
       "  <thead>\n",
       "    <tr style=\"text-align: right;\">\n",
       "      <th></th>\n",
       "      <th>sex</th>\n",
       "      <th>age</th>\n",
       "      <th>BT</th>\n",
       "      <th>mol.biol</th>\n",
       "      <th>mdr</th>\n",
       "    </tr>\n",
       "  </thead>\n",
       "  <tbody>\n",
       "    <tr>\n",
       "      <th>01005</th>\n",
       "      <td>M</td>\n",
       "      <td>53.0</td>\n",
       "      <td>B2</td>\n",
       "      <td>BCR/ABL</td>\n",
       "      <td>NEG</td>\n",
       "    </tr>\n",
       "    <tr>\n",
       "      <th>01010</th>\n",
       "      <td>M</td>\n",
       "      <td>19.0</td>\n",
       "      <td>B2</td>\n",
       "      <td>NEG</td>\n",
       "      <td>POS</td>\n",
       "    </tr>\n",
       "    <tr>\n",
       "      <th>03002</th>\n",
       "      <td>F</td>\n",
       "      <td>52.0</td>\n",
       "      <td>B4</td>\n",
       "      <td>BCR/ABL</td>\n",
       "      <td>NEG</td>\n",
       "    </tr>\n",
       "    <tr>\n",
       "      <th>04006</th>\n",
       "      <td>M</td>\n",
       "      <td>38.0</td>\n",
       "      <td>B1</td>\n",
       "      <td>ALL1/AF4</td>\n",
       "      <td>NEG</td>\n",
       "    </tr>\n",
       "    <tr>\n",
       "      <th>04007</th>\n",
       "      <td>M</td>\n",
       "      <td>57.0</td>\n",
       "      <td>B2</td>\n",
       "      <td>NEG</td>\n",
       "      <td>NEG</td>\n",
       "    </tr>\n",
       "  </tbody>\n",
       "</table>\n",
       "</div>"
      ],
      "text/plain": [
       "      sex   age  BT  mol.biol  mdr\n",
       "01005   M  53.0  B2   BCR/ABL  NEG\n",
       "01010   M  19.0  B2       NEG  POS\n",
       "03002   F  52.0  B4   BCR/ABL  NEG\n",
       "04006   M  38.0  B1  ALL1/AF4  NEG\n",
       "04007   M  57.0  B2       NEG  NEG"
      ]
     },
     "execution_count": 8,
     "metadata": {},
     "output_type": "execute_result"
    }
   ],
   "source": [
    "meta_all.head()"
   ]
  },
  {
   "cell_type": "code",
   "execution_count": 9,
   "metadata": {},
   "outputs": [
    {
     "data": {
      "text/html": [
       "<div>\n",
       "<style scoped>\n",
       "    .dataframe tbody tr th:only-of-type {\n",
       "        vertical-align: middle;\n",
       "    }\n",
       "\n",
       "    .dataframe tbody tr th {\n",
       "        vertical-align: top;\n",
       "    }\n",
       "\n",
       "    .dataframe thead th {\n",
       "        text-align: right;\n",
       "    }\n",
       "</style>\n",
       "<table border=\"1\" class=\"dataframe\">\n",
       "  <thead>\n",
       "    <tr style=\"text-align: right;\">\n",
       "      <th></th>\n",
       "      <th>sex</th>\n",
       "      <th>age</th>\n",
       "      <th>BT</th>\n",
       "      <th>mol.biol</th>\n",
       "      <th>mdr</th>\n",
       "    </tr>\n",
       "  </thead>\n",
       "  <tbody>\n",
       "    <tr>\n",
       "      <th>count</th>\n",
       "      <td>125</td>\n",
       "      <td>123.000000</td>\n",
       "      <td>128</td>\n",
       "      <td>128</td>\n",
       "      <td>128</td>\n",
       "    </tr>\n",
       "    <tr>\n",
       "      <th>unique</th>\n",
       "      <td>2</td>\n",
       "      <td>NaN</td>\n",
       "      <td>10</td>\n",
       "      <td>6</td>\n",
       "      <td>2</td>\n",
       "    </tr>\n",
       "    <tr>\n",
       "      <th>top</th>\n",
       "      <td>M</td>\n",
       "      <td>NaN</td>\n",
       "      <td>B2</td>\n",
       "      <td>NEG</td>\n",
       "      <td>NEG</td>\n",
       "    </tr>\n",
       "    <tr>\n",
       "      <th>freq</th>\n",
       "      <td>83</td>\n",
       "      <td>NaN</td>\n",
       "      <td>36</td>\n",
       "      <td>74</td>\n",
       "      <td>104</td>\n",
       "    </tr>\n",
       "    <tr>\n",
       "      <th>mean</th>\n",
       "      <td>NaN</td>\n",
       "      <td>32.373984</td>\n",
       "      <td>NaN</td>\n",
       "      <td>NaN</td>\n",
       "      <td>NaN</td>\n",
       "    </tr>\n",
       "    <tr>\n",
       "      <th>std</th>\n",
       "      <td>NaN</td>\n",
       "      <td>13.803301</td>\n",
       "      <td>NaN</td>\n",
       "      <td>NaN</td>\n",
       "      <td>NaN</td>\n",
       "    </tr>\n",
       "    <tr>\n",
       "      <th>min</th>\n",
       "      <td>NaN</td>\n",
       "      <td>5.000000</td>\n",
       "      <td>NaN</td>\n",
       "      <td>NaN</td>\n",
       "      <td>NaN</td>\n",
       "    </tr>\n",
       "    <tr>\n",
       "      <th>25%</th>\n",
       "      <td>NaN</td>\n",
       "      <td>19.000000</td>\n",
       "      <td>NaN</td>\n",
       "      <td>NaN</td>\n",
       "      <td>NaN</td>\n",
       "    </tr>\n",
       "    <tr>\n",
       "      <th>50%</th>\n",
       "      <td>NaN</td>\n",
       "      <td>29.000000</td>\n",
       "      <td>NaN</td>\n",
       "      <td>NaN</td>\n",
       "      <td>NaN</td>\n",
       "    </tr>\n",
       "    <tr>\n",
       "      <th>75%</th>\n",
       "      <td>NaN</td>\n",
       "      <td>45.500000</td>\n",
       "      <td>NaN</td>\n",
       "      <td>NaN</td>\n",
       "      <td>NaN</td>\n",
       "    </tr>\n",
       "    <tr>\n",
       "      <th>max</th>\n",
       "      <td>NaN</td>\n",
       "      <td>58.000000</td>\n",
       "      <td>NaN</td>\n",
       "      <td>NaN</td>\n",
       "      <td>NaN</td>\n",
       "    </tr>\n",
       "  </tbody>\n",
       "</table>\n",
       "</div>"
      ],
      "text/plain": [
       "        sex         age   BT mol.biol  mdr\n",
       "count   125  123.000000  128      128  128\n",
       "unique    2         NaN   10        6    2\n",
       "top       M         NaN   B2      NEG  NEG\n",
       "freq     83         NaN   36       74  104\n",
       "mean    NaN   32.373984  NaN      NaN  NaN\n",
       "std     NaN   13.803301  NaN      NaN  NaN\n",
       "min     NaN    5.000000  NaN      NaN  NaN\n",
       "25%     NaN   19.000000  NaN      NaN  NaN\n",
       "50%     NaN   29.000000  NaN      NaN  NaN\n",
       "75%     NaN   45.500000  NaN      NaN  NaN\n",
       "max     NaN   58.000000  NaN      NaN  NaN"
      ]
     },
     "execution_count": 9,
     "metadata": {},
     "output_type": "execute_result"
    }
   ],
   "source": [
    "meta_all.describe(include = \"all\")"
   ]
  },
  {
   "cell_type": "code",
   "execution_count": 10,
   "metadata": {},
   "outputs": [
    {
     "data": {
      "text/plain": [
       "sex\n",
       "F    42\n",
       "M    83\n",
       "dtype: int64"
      ]
     },
     "execution_count": 10,
     "metadata": {},
     "output_type": "execute_result"
    }
   ],
   "source": [
    "meta_all.groupby(\"sex\").size()  ## genero"
   ]
  },
  {
   "cell_type": "code",
   "execution_count": 11,
   "metadata": {},
   "outputs": [
    {
     "data": {
      "text/plain": [
       "mdr\n",
       "NEG    104\n",
       "POS     24\n",
       "dtype: int64"
      ]
     },
     "execution_count": 11,
     "metadata": {},
     "output_type": "execute_result"
    }
   ],
   "source": [
    "meta_all.groupby(\"mdr\").size() ## multidrug resistant"
   ]
  },
  {
   "cell_type": "code",
   "execution_count": 12,
   "metadata": {},
   "outputs": [
    {
     "data": {
      "text/plain": [
       "BT\n",
       "B      5\n",
       "B1    19\n",
       "B2    36\n",
       "B3    23\n",
       "B4    12\n",
       "T      5\n",
       "T1     1\n",
       "T2    15\n",
       "T3    10\n",
       "T4     2\n",
       "dtype: int64"
      ]
     },
     "execution_count": 12,
     "metadata": {},
     "output_type": "execute_result"
    }
   ],
   "source": [
    "meta_all.groupby(\"BT\").size() ## B or T cells"
   ]
  },
  {
   "cell_type": "code",
   "execution_count": 13,
   "metadata": {},
   "outputs": [
    {
     "data": {
      "text/plain": [
       "mol.biol\n",
       "ALL1/AF4    10\n",
       "BCR/ABL     37\n",
       "E2A/PBX1     5\n",
       "NEG         74\n",
       "NUP-98       1\n",
       "p15/p16      1\n",
       "dtype: int64"
      ]
     },
     "execution_count": 13,
     "metadata": {},
     "output_type": "execute_result"
    }
   ],
   "source": [
    "meta_all.groupby(\"mol.biol\").size() ## mutations"
   ]
  },
  {
   "cell_type": "code",
   "execution_count": 14,
   "metadata": {},
   "outputs": [
    {
     "data": {
      "text/plain": [
       "0"
      ]
     },
     "execution_count": 14,
     "metadata": {},
     "output_type": "execute_result"
    }
   ],
   "source": [
    "data_all.isnull().sum().sum() ## valores nulos"
   ]
  },
  {
   "cell_type": "code",
   "execution_count": 15,
   "metadata": {},
   "outputs": [
    {
     "data": {
      "text/plain": [
       "8"
      ]
     },
     "execution_count": 15,
     "metadata": {},
     "output_type": "execute_result"
    }
   ],
   "source": [
    "meta_all.isnull().sum().sum()"
   ]
  },
  {
   "cell_type": "code",
   "execution_count": 16,
   "metadata": {},
   "outputs": [
    {
     "data": {
      "text/plain": [
       "sex         3\n",
       "age         5\n",
       "BT          0\n",
       "mol.biol    0\n",
       "mdr         0\n",
       "dtype: int64"
      ]
     },
     "execution_count": 16,
     "metadata": {},
     "output_type": "execute_result"
    }
   ],
   "source": [
    "meta_all.isnull().sum() ## valores nulos nos metadados"
   ]
  },
  {
   "cell_type": "markdown",
   "metadata": {},
   "source": [
    "### Exploração gráfica"
   ]
  },
  {
   "cell_type": "code",
   "execution_count": 17,
   "metadata": {},
   "outputs": [
    {
     "data": {
      "text/plain": [
       "<AxesSubplot:ylabel='None'>"
      ]
     },
     "execution_count": 17,
     "metadata": {},
     "output_type": "execute_result"
    },
    {
     "data": {
      "image/png": "[encoded data removed]",
      "text/plain": [
       "<Figure size 432x288 with 1 Axes>"
      ]
     },
     "metadata": {},
     "output_type": "display_data"
    }
   ],
   "source": [
    "meta_all.groupby(\"mdr\").size().plot.pie()"
   ]
  },
  {
   "cell_type": "code",
   "execution_count": 18,
   "metadata": {},
   "outputs": [
    {
     "data": {
      "text/plain": [
       "<AxesSubplot:ylabel='None'>"
      ]
     },
     "execution_count": 18,
     "metadata": {},
     "output_type": "execute_result"
    },
    {
     "data": {
      "image/png": "[encoded data removed]",
      "text/plain": [
       "<Figure size 432x288 with 1 Axes>"
      ]
     },
     "metadata": {},
     "output_type": "display_data"
    }
   ],
   "source": [
    "meta_all.groupby(\"sex\").size().plot.pie()"
   ]
  },
  {
   "cell_type": "code",
   "execution_count": 19,
   "metadata": {},
   "outputs": [
    {
     "data": {
      "text/plain": [
       "<AxesSubplot:xlabel='BT'>"
      ]
     },
     "execution_count": 19,
     "metadata": {},
     "output_type": "execute_result"
    },
    {
     "data": {
      "image/png": "[encoded data removed]",
      "text/plain": [
       "<Figure size 432x288 with 1 Axes>"
      ]
     },
     "metadata": {
      "needs_background": "light"
     },
     "output_type": "display_data"
    }
   ],
   "source": [
    "meta_all.groupby(\"BT\").size().plot.bar()"
   ]
  },
  {
   "cell_type": "markdown",
   "metadata": {},
   "source": [
    "### Análise estatística univariada e filtros"
   ]
  },
  {
   "cell_type": "code",
   "execution_count": 20,
   "metadata": {},
   "outputs": [
    {
     "name": "stdout",
     "output_type": "stream",
     "text": [
      "(128, 12625)\n"
     ]
    }
   ],
   "source": [
    "input_data = data_all.values  ## apenas a matriz de valores numpy\n",
    "print(input_data.shape)"
   ]
  },
  {
   "cell_type": "code",
   "execution_count": 21,
   "metadata": {},
   "outputs": [
    {
     "name": "stdout",
     "output_type": "stream",
     "text": [
      "(12625,)\n"
     ]
    },
    {
     "data": {
      "text/plain": [
       "0.2231149729545439"
      ]
     },
     "execution_count": 21,
     "metadata": {},
     "output_type": "execute_result"
    }
   ],
   "source": [
    "variances = input_data.var(axis = 0) # calculando a variancia de cada gene\n",
    "print(variances.shape)\n",
    "medvar = variances.mean()\n",
    "medvar"
   ]
  },
  {
   "cell_type": "code",
   "execution_count": 22,
   "metadata": {},
   "outputs": [
    {
     "data": {
      "image/png": "[encoded data removed]",
      "text/plain": [
       "<Figure size 432x288 with 1 Axes>"
      ]
     },
     "metadata": {
      "needs_background": "light"
     },
     "output_type": "display_data"
    }
   ],
   "source": [
    "plt.hist(variances, bins = 30)\n",
    "plt.xlabel('Variances')\n",
    "plt.ylabel('Probability density')\n",
    "plt.title(r'Histogram of variances')\n",
    "plt.show()"
   ]
  },
  {
   "cell_type": "code",
   "execution_count": 23,
   "metadata": {},
   "outputs": [
    {
     "data": {
      "text/plain": [
       "(128, 796)"
      ]
     },
     "execution_count": 23,
     "metadata": {},
     "output_type": "execute_result"
    }
   ],
   "source": [
    "# filtros variabilidade (flat pattern)\n",
    "from sklearn.feature_selection import VarianceThreshold\n",
    "sel = VarianceThreshold(threshold= medvar*3)\n",
    "input_filt = sel.fit_transform(input_data)\n",
    "input_filt.shape"
   ]
  },
  {
   "cell_type": "code",
   "execution_count": 24,
   "metadata": {},
   "outputs": [
    {
     "name": "stdout",
     "output_type": "stream",
     "text": [
      "Index(['1170_at', '1529_at', '1578_g_at', '157_at', '1643_g_at', '31498_f_at',\n",
      "       '31499_s_at', '31518_i_at', '31549_at', '31960_f_at', '32200_at',\n",
      "       '32419_at', '32421_at', '32486_at', '32534_f_at', '32590_at',\n",
      "       '32722_at', '33129_at', '33130_at', '33465_at', '33541_s_at',\n",
      "       '33574_at', '33615_at', '33649_at', '33655_f_at', '33720_at',\n",
      "       '33899_at', '33941_at', '33991_g_at', '34034_at', '34284_at',\n",
      "       '34452_at', '34478_at', '34507_s_at', '34564_at', '34942_at',\n",
      "       '34960_g_at', '35008_at', '35172_at', '35390_at', '35457_at',\n",
      "       '35636_at', '35729_at', '35808_at', '35944_at', '36111_s_at',\n",
      "       '36112_r_at', '36198_at', '36382_at', '36460_at', '36548_at',\n",
      "       '36693_at', '36779_at', '36934_at', '36970_at', '37051_at', '37054_at',\n",
      "       '37109_at', '37400_at', '37440_at', '37969_at', '38140_at', '38328_at',\n",
      "       '38348_at', '38430_at', '38433_at', '38478_at', '38489_at',\n",
      "       '38596_i_at', '38633_at', '38634_at', '38828_s_at', '38907_at',\n",
      "       '39053_at', '39404_s_at', '39623_at', '39676_at', '39770_at',\n",
      "       '40230_at', '40293_at', '40634_at', '40663_at', '41082_at', '41203_at',\n",
      "       '542_at', '569_g_at', '576_at', 'AFFX-M27830_M_at'],\n",
      "      dtype='object')\n"
     ]
    }
   ],
   "source": [
    "# genes diferencialmente expressos - variavel MDR\n",
    "from sklearn.feature_selection import SelectPercentile, f_classif\n",
    "from sklearn import preprocessing\n",
    "\n",
    "# fclassif - ANOVA ou t-test (neste caso t-test pois mdr tem apenas duas classes)\n",
    "# seleciona genes com menor p-value (os 10% com menor valor)\n",
    "selector = SelectPercentile(f_classif, percentile=10)\n",
    "\n",
    "output_mdr = meta_all.values[:,4]\n",
    "\n",
    "selector.fit_transform(data_all, output_mdr)\n",
    "genes_de = np.where(selector.pvalues_ <0.01)\n",
    "print(data_all.columns[genes_de])"
   ]
  },
  {
   "cell_type": "code",
   "execution_count": 25,
   "metadata": {},
   "outputs": [
    {
     "data": {
      "image/png": "[encoded data removed]",
      "text/plain": [
       "<Figure size 432x288 with 1 Axes>"
      ]
     },
     "metadata": {
      "needs_background": "light"
     },
     "output_type": "display_data"
    }
   ],
   "source": [
    "data_gene = data_all.loc[:,'38433_at']\n",
    "data_neg = data_gene[meta_all[\"mdr\"]==\"NEG\"]\n",
    "data_pos = data_gene[meta_all[\"mdr\"]==\"POS\"]\n",
    "\n",
    "both = [data_neg, data_pos]\n",
    "plt.boxplot(both)\n",
    "plt.xticks([1,2], [\"NEG\", \"POS\"])\n",
    "plt.show()"
   ]
  },
  {
   "cell_type": "markdown",
   "metadata": {},
   "source": [
    "### Análise multivariada não supervisionada"
   ]
  },
  {
   "cell_type": "code",
   "execution_count": 26,
   "metadata": {},
   "outputs": [
    {
     "name": "stdout",
     "output_type": "stream",
     "text": [
      "Media:  1.1117179784008894e-16\n",
      "Desvio padrao:  1.0000000000000002\n"
     ]
    }
   ],
   "source": [
    "# pre-processamento: standardizacao dos dados\n",
    "from sklearn import preprocessing\n",
    "\n",
    "input_sc = preprocessing.scale(input_data)\n",
    "print(\"Media: \", input_sc.mean())\n",
    "print(\"Desvio padrao: \", input_sc.std())"
   ]
  },
  {
   "cell_type": "code",
   "execution_count": 27,
   "metadata": {},
   "outputs": [
    {
     "name": "stdout",
     "output_type": "stream",
     "text": [
      "Var. explicada: [0.18105531 0.1079421  0.06091631 0.0457015  0.03591725 0.03057383\n",
      " 0.02569002 0.0216379  0.02048319 0.01948614 0.017208   0.01441475\n",
      " 0.01435184 0.01370037 0.0123788  0.01068473 0.01017123 0.00943394\n",
      " 0.00876544 0.00825705]\n"
     ]
    },
    {
     "data": {
      "text/plain": [
       "0.668769702456696"
      ]
     },
     "execution_count": 27,
     "metadata": {},
     "output_type": "execute_result"
    }
   ],
   "source": [
    "# principal component analysis\n",
    "from sklearn.decomposition import PCA\n",
    "\n",
    "pca = PCA(n_components=20)\n",
    "X_r = pca.fit(input_sc).transform(input_sc)\n",
    "print('Var. explicada: %s'% str(pca.explained_variance_ratio_))\n",
    "pca.explained_variance_ratio_.sum()"
   ]
  },
  {
   "cell_type": "code",
   "execution_count": 28,
   "metadata": {},
   "outputs": [
    {
     "data": {
      "image/png": "[encoded data removed]",
      "text/plain": [
       "<Figure size 432x288 with 1 Axes>"
      ]
     },
     "metadata": {
      "needs_background": "light"
     },
     "output_type": "display_data"
    }
   ],
   "source": [
    "n = 20\n",
    "plt.bar(range(n), pca.explained_variance_ratio_*100)\n",
    "plt.xticks(range(n), ['PC'+str(i) for i in range(1,n+1)])\n",
    "plt.title(\"Variância explicada por PC\")\n",
    "plt.ylabel(\"Percentagem\")\n",
    "plt.show()"
   ]
  },
  {
   "cell_type": "code",
   "execution_count": 29,
   "metadata": {},
   "outputs": [
    {
     "data": {
      "image/png": "[encoded data removed]",
      "text/plain": [
       "<Figure size 432x288 with 1 Axes>"
      ]
     },
     "metadata": {
      "needs_background": "light"
     },
     "output_type": "display_data"
    }
   ],
   "source": [
    "plt.figure()\n",
    "for c, name in zip(\"rgb\", [\"NEG\", \"POS\"]):\n",
    "    plt.scatter(X_r[output_mdr == name, 0], X_r[output_mdr == name, 1], c=c, label=name)\n",
    "plt.legend()\n",
    "plt.title('Dataset ALL - scores plot PCA')\n",
    "plt.show()"
   ]
  },
  {
   "cell_type": "code",
   "execution_count": 30,
   "metadata": {},
   "outputs": [
    {
     "data": {
      "text/html": [
       "<div>\n",
       "<style scoped>\n",
       "    .dataframe tbody tr th:only-of-type {\n",
       "        vertical-align: middle;\n",
       "    }\n",
       "\n",
       "    .dataframe tbody tr th {\n",
       "        vertical-align: top;\n",
       "    }\n",
       "\n",
       "    .dataframe thead th {\n",
       "        text-align: right;\n",
       "    }\n",
       "</style>\n",
       "<table border=\"1\" class=\"dataframe\">\n",
       "  <thead>\n",
       "    <tr style=\"text-align: right;\">\n",
       "      <th>col_0</th>\n",
       "      <th>0</th>\n",
       "      <th>1</th>\n",
       "    </tr>\n",
       "    <tr>\n",
       "      <th>row_0</th>\n",
       "      <th></th>\n",
       "      <th></th>\n",
       "    </tr>\n",
       "  </thead>\n",
       "  <tbody>\n",
       "    <tr>\n",
       "      <th>B</th>\n",
       "      <td>5</td>\n",
       "      <td>0</td>\n",
       "    </tr>\n",
       "    <tr>\n",
       "      <th>B1</th>\n",
       "      <td>13</td>\n",
       "      <td>6</td>\n",
       "    </tr>\n",
       "    <tr>\n",
       "      <th>B2</th>\n",
       "      <td>30</td>\n",
       "      <td>6</td>\n",
       "    </tr>\n",
       "    <tr>\n",
       "      <th>B3</th>\n",
       "      <td>18</td>\n",
       "      <td>5</td>\n",
       "    </tr>\n",
       "    <tr>\n",
       "      <th>B4</th>\n",
       "      <td>10</td>\n",
       "      <td>2</td>\n",
       "    </tr>\n",
       "    <tr>\n",
       "      <th>T</th>\n",
       "      <td>4</td>\n",
       "      <td>1</td>\n",
       "    </tr>\n",
       "    <tr>\n",
       "      <th>T1</th>\n",
       "      <td>1</td>\n",
       "      <td>0</td>\n",
       "    </tr>\n",
       "    <tr>\n",
       "      <th>T2</th>\n",
       "      <td>14</td>\n",
       "      <td>1</td>\n",
       "    </tr>\n",
       "    <tr>\n",
       "      <th>T3</th>\n",
       "      <td>10</td>\n",
       "      <td>0</td>\n",
       "    </tr>\n",
       "    <tr>\n",
       "      <th>T4</th>\n",
       "      <td>2</td>\n",
       "      <td>0</td>\n",
       "    </tr>\n",
       "  </tbody>\n",
       "</table>\n",
       "</div>"
      ],
      "text/plain": [
       "col_0   0  1\n",
       "row_0       \n",
       "B       5  0\n",
       "B1     13  6\n",
       "B2     30  6\n",
       "B3     18  5\n",
       "B4     10  2\n",
       "T       4  1\n",
       "T1      1  0\n",
       "T2     14  1\n",
       "T3     10  0\n",
       "T4      2  0"
      ]
     },
     "execution_count": 30,
     "metadata": {},
     "output_type": "execute_result"
    }
   ],
   "source": [
    "# clustering hierarquico\n",
    "from sklearn.cluster import AgglomerativeClustering\n",
    "import pandas as pd\n",
    "\n",
    "hclust = AgglomerativeClustering(n_clusters=2, affinity=\"euclidean\",\n",
    "                                 linkage=\"ward\")\n",
    "hclust.fit(input_sc)\n",
    "\n",
    "output_bt = meta_all.values[:,2]  # pode experimentar-se com as outras variaveis de metadados\n",
    "res_hc = hclust.labels_\n",
    "pd.crosstab(output_bt, res_hc)"
   ]
  },
  {
   "cell_type": "code",
   "execution_count": 31,
   "metadata": {},
   "outputs": [
    {
     "data": {
      "text/html": [
       "<div>\n",
       "<style scoped>\n",
       "    .dataframe tbody tr th:only-of-type {\n",
       "        vertical-align: middle;\n",
       "    }\n",
       "\n",
       "    .dataframe tbody tr th {\n",
       "        vertical-align: top;\n",
       "    }\n",
       "\n",
       "    .dataframe thead th {\n",
       "        text-align: right;\n",
       "    }\n",
       "</style>\n",
       "<table border=\"1\" class=\"dataframe\">\n",
       "  <thead>\n",
       "    <tr style=\"text-align: right;\">\n",
       "      <th>col_0</th>\n",
       "      <th>0</th>\n",
       "      <th>1</th>\n",
       "      <th>2</th>\n",
       "    </tr>\n",
       "    <tr>\n",
       "      <th>row_0</th>\n",
       "      <th></th>\n",
       "      <th></th>\n",
       "      <th></th>\n",
       "    </tr>\n",
       "  </thead>\n",
       "  <tbody>\n",
       "    <tr>\n",
       "      <th>NEG</th>\n",
       "      <td>41</td>\n",
       "      <td>16</td>\n",
       "      <td>47</td>\n",
       "    </tr>\n",
       "    <tr>\n",
       "      <th>POS</th>\n",
       "      <td>7</td>\n",
       "      <td>5</td>\n",
       "      <td>12</td>\n",
       "    </tr>\n",
       "  </tbody>\n",
       "</table>\n",
       "</div>"
      ],
      "text/plain": [
       "col_0   0   1   2\n",
       "row_0            \n",
       "NEG    41  16  47\n",
       "POS     7   5  12"
      ]
     },
     "execution_count": 31,
     "metadata": {},
     "output_type": "execute_result"
    }
   ],
   "source": [
    "# k-means\n",
    "from sklearn.cluster import KMeans\n",
    "\n",
    "kmeans_est = KMeans(init='random', n_clusters=3, n_init = 100)\n",
    "res_kmeans = kmeans_est.fit(input_sc).predict(input_sc)\n",
    "\n",
    "pd.crosstab(output_mdr, res_kmeans) # pode experimentar-se com as outras variaveis de metadados"
   ]
  },
  {
   "cell_type": "markdown",
   "metadata": {},
   "source": [
    "### Aprendizagem máquina"
   ]
  },
  {
   "cell_type": "markdown",
   "metadata": {},
   "source": [
    "Vamos considerar como variável de output, a variável MDR. Nos atributos, vamos considerar apenas os genes considerados com diferencialmente expressos acima. Poderá experimentar com outros genes ..."
   ]
  },
  {
   "cell_type": "code",
   "execution_count": 32,
   "metadata": {},
   "outputs": [
    {
     "name": "stdout",
     "output_type": "stream",
     "text": [
      "(128, 88)\n"
     ]
    }
   ],
   "source": [
    "input_sc_filt2 = input_sc[:,genes_de[0]]\n",
    "print(input_sc_filt2.shape)"
   ]
  },
  {
   "cell_type": "code",
   "execution_count": 33,
   "metadata": {},
   "outputs": [],
   "source": [
    "# criando dados para treino e para teste dos modelos de machine learning\n",
    "import numpy as np\n",
    "\n",
    "indices = np.random.permutation(len(input_sc_filt2))\n",
    "indices\n",
    "\n",
    "numts = int(1/3 * input_sc_filt2.shape[0]) ## 2/3 dos dados para treino; 1/3 para teste\n",
    "train_in = input_sc_filt2[indices[:-numts]]\n",
    "train_out = output_mdr[indices[:-numts]]\n",
    "test_in  = input_sc_filt2[indices[-numts:]]\n",
    "test_out = output_mdr[indices[-numts:]]"
   ]
  },
  {
   "cell_type": "code",
   "execution_count": 34,
   "metadata": {},
   "outputs": [
    {
     "name": "stdout",
     "output_type": "stream",
     "text": [
      "Valores previstos:  ['NEG' 'NEG' 'NEG' 'NEG' 'NEG' 'NEG' 'NEG' 'NEG' 'NEG' 'NEG' 'NEG' 'NEG'\n",
      " 'NEG' 'NEG' 'NEG' 'NEG' 'NEG' 'NEG' 'NEG' 'NEG' 'NEG' 'NEG' 'NEG' 'NEG'\n",
      " 'NEG' 'NEG' 'NEG' 'NEG' 'NEG' 'NEG' 'NEG' 'NEG' 'NEG' 'NEG' 'NEG' 'NEG'\n",
      " 'NEG' 'NEG' 'NEG' 'NEG' 'NEG' 'NEG']\n",
      "Valores reais:  ['NEG' 'POS' 'POS' 'NEG' 'NEG' 'POS' 'NEG' 'NEG' 'NEG' 'NEG' 'NEG' 'NEG'\n",
      " 'NEG' 'NEG' 'NEG' 'NEG' 'NEG' 'NEG' 'NEG' 'NEG' 'POS' 'NEG' 'NEG' 'NEG'\n",
      " 'NEG' 'NEG' 'NEG' 'NEG' 'NEG' 'POS' 'NEG' 'NEG' 'POS' 'POS' 'NEG' 'POS'\n",
      " 'NEG' 'NEG' 'NEG' 'POS' 'NEG' 'POS']\n",
      "Perc. acertos:  0.7619047619047619\n"
     ]
    }
   ],
   "source": [
    "from sklearn.neighbors import KNeighborsClassifier\n",
    "\n",
    "knn = KNeighborsClassifier()\n",
    "knn.fit(train_in, train_out)\n",
    "preds = knn.predict(test_in)\n",
    "print(\"Valores previstos: \", preds)\n",
    "print(\"Valores reais: \" , test_out)\n",
    "print(\"Perc. acertos: \", (preds == test_out).sum()/len(preds) )"
   ]
  },
  {
   "cell_type": "code",
   "execution_count": 35,
   "metadata": {},
   "outputs": [
    {
     "data": {
      "text/plain": [
       "array([[32,  0],\n",
       "       [10,  0]])"
      ]
     },
     "execution_count": 35,
     "metadata": {},
     "output_type": "execute_result"
    }
   ],
   "source": [
    "# matriz de confusão\n",
    "\n",
    "from sklearn.metrics import confusion_matrix\n",
    "confusion_matrix(test_out, preds)"
   ]
  },
  {
   "cell_type": "code",
   "execution_count": 36,
   "metadata": {},
   "outputs": [
    {
     "data": {
      "text/plain": [
       "0.0"
      ]
     },
     "execution_count": 36,
     "metadata": {},
     "output_type": "execute_result"
    }
   ],
   "source": [
    "# f1-score\n",
    "# F1 = 2 * (precision * recall) / (precision + recall)\n",
    "\n",
    "from sklearn.metrics import f1_score\n",
    "f1_score(test_out, preds, pos_label = \"POS\")"
   ]
  },
  {
   "cell_type": "code",
   "execution_count": 37,
   "metadata": {},
   "outputs": [
    {
     "name": "stdout",
     "output_type": "stream",
     "text": [
      "Perc. acertos:  0.6904761904761905\n",
      "Matriz de confusão: \n",
      "[[28  4]\n",
      " [ 9  1]]\n",
      "F1:  0.13333333333333333\n"
     ]
    }
   ],
   "source": [
    "from sklearn import tree\n",
    "\n",
    "tree_model = tree.DecisionTreeClassifier()\n",
    "tree_model = tree_model.fit(train_in, train_out)\n",
    "preds_tree = tree_model.predict(test_in)\n",
    "\n",
    "print(\"Perc. acertos: \", (preds_tree == test_out).sum()/len(preds_tree) )\n",
    "print(\"Matriz de confusão: \")\n",
    "print(confusion_matrix(test_out, preds_tree) )\n",
    "print(\"F1: \", f1_score(test_out, preds_tree, pos_label = \"POS\"))"
   ]
  },
  {
   "cell_type": "code",
   "execution_count": 38,
   "metadata": {},
   "outputs": [
    {
     "name": "stdout",
     "output_type": "stream",
     "text": [
      "Perc. acertos:  0.7619047619047619\n",
      "Matriz de confusão: \n",
      "[[28  4]\n",
      " [ 6  4]]\n",
      "F1:  0.4444444444444445\n"
     ]
    }
   ],
   "source": [
    "from sklearn import svm\n",
    "\n",
    "svm_model = svm.SVC(gamma=0.001, C=100.)\n",
    "\n",
    "svm_model = svm_model.fit(train_in, train_out)\n",
    "preds_svm = svm_model.predict(test_in)\n",
    "\n",
    "print(\"Perc. acertos: \", (preds_svm == test_out).sum()/len(preds_svm) )\n",
    "print(\"Matriz de confusão: \")\n",
    "print(confusion_matrix(test_out, preds_svm) )\n",
    "print(\"F1: \", f1_score(test_out, preds_svm, pos_label = \"POS\"))"
   ]
  },
  {
   "cell_type": "code",
   "execution_count": 39,
   "metadata": {},
   "outputs": [
    {
     "name": "stdout",
     "output_type": "stream",
     "text": [
      "[0.61538462 0.80769231 0.69230769 0.88       0.84      ]\n",
      "0.767076923076923\n"
     ]
    }
   ],
   "source": [
    "# avaliacao dos modelos com validacao cruzada\n",
    "from sklearn.model_selection import cross_val_score\n",
    "\n",
    "model_svm = svm.SVC(gamma=0.001, C=100.)\n",
    "scores = cross_val_score(model_svm, input_sc_filt2, output_mdr, cv = 5)\n",
    "print(scores)\n",
    "print(scores.mean())"
   ]
  },
  {
   "cell_type": "code",
   "execution_count": 40,
   "metadata": {},
   "outputs": [
    {
     "name": "stdout",
     "output_type": "stream",
     "text": [
      "[0.         0.54545455 0.         0.66666667 0.5       ]\n",
      "0.3424242424242424\n"
     ]
    }
   ],
   "source": [
    "from sklearn.metrics import make_scorer\n",
    "my_f1_scorer = make_scorer(f1_score, pos_label = \"POS\")\n",
    "scores_f1 = cross_val_score(model_svm, input_sc_filt2, output_mdr, scoring = my_f1_scorer, cv = 5)\n",
    "print(scores_f1)\n",
    "print(scores_f1.mean())"
   ]
  }
 ],
 "metadata": {
  "anaconda-cloud": {},
  "kernelspec": {
   "display_name": "Python 3 (ipykernel)",
   "language": "python",
   "name": "python3"
  },
  "language_info": {
   "codemirror_mode": {
    "name": "ipython",
    "version": 3
   },
   "file_extension": ".py",
   "mimetype": "text/x-python",
   "name": "python",
   "nbconvert_exporter": "python",
   "pygments_lexer": "ipython3",
   "version": "3.9.7"
  }
 },
 "nbformat": 4,
 "nbformat_minor": 1
}
