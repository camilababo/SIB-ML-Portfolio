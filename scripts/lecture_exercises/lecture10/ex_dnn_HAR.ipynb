{
 "cells": [
  {
   "cell_type": "markdown",
   "source": [
    "# Exercise: HAR Dataset for DNN\n",
    "Human Activity Recognition using Smartphones analysis with Deep Neural Networks"
   ],
   "metadata": {
    "collapsed": false
   }
  },
  {
   "cell_type": "code",
   "execution_count": 15,
   "outputs": [],
   "source": [
    "# imports\n",
    "from sklearn import preprocessing\n",
    "import pandas as pd\n",
    "from sklearn.model_selection import train_test_split\n",
    "from tensorflow.keras import models\n",
    "from tensorflow.keras import layers\n",
    "from keras.dtensor import optimizers"
   ],
   "metadata": {
    "collapsed": false
   }
  },
  {
   "cell_type": "markdown",
   "source": [
    "#### Load the data"
   ],
   "metadata": {
    "collapsed": false
   },
   "execution_count": 1
  },
  {
   "cell_type": "code",
   "execution_count": 40,
   "outputs": [],
   "source": [
    "folder = \"/Users/anaca/Documents/GitHub/SIB-ML-Portfolio/datasets/UCI HAR Dataset\""
   ],
   "metadata": {
    "collapsed": false
   }
  },
  {
   "cell_type": "code",
   "execution_count": 41,
   "outputs": [
    {
     "name": "stdout",
     "output_type": "stream",
     "text": [
      "   ID            Activity\n",
      "0   1             WALKING\n",
      "1   2    WALKING_UPSTAIRS\n",
      "2   3  WALKING_DOWNSTAIRS\n",
      "3   4             SITTING\n",
      "4   5            STANDING\n",
      "5   6              LAYING\n"
     ]
    }
   ],
   "source": [
    "activities = pd.read_csv(folder+'/activity_labels.txt', sep=' ', header=None, names=('ID','Activity'))\n",
    "print(activities)"
   ],
   "metadata": {
    "collapsed": false
   }
  },
  {
   "cell_type": "code",
   "execution_count": 42,
   "outputs": [
    {
     "name": "stdout",
     "output_type": "stream",
     "text": [
      "(561, 2)\n"
     ]
    },
    {
     "data": {
      "text/plain": "   ID             Sensor\n0   1  tBodyAcc-mean()-X\n1   2  tBodyAcc-mean()-Y\n2   3  tBodyAcc-mean()-Z\n3   4   tBodyAcc-std()-X\n4   5   tBodyAcc-std()-Y",
      "text/html": "<div>\n<style scoped>\n    .dataframe tbody tr th:only-of-type {\n        vertical-align: middle;\n    }\n\n    .dataframe tbody tr th {\n        vertical-align: top;\n    }\n\n    .dataframe thead th {\n        text-align: right;\n    }\n</style>\n<table border=\"1\" class=\"dataframe\">\n  <thead>\n    <tr style=\"text-align: right;\">\n      <th></th>\n      <th>ID</th>\n      <th>Sensor</th>\n    </tr>\n  </thead>\n  <tbody>\n    <tr>\n      <th>0</th>\n      <td>1</td>\n      <td>tBodyAcc-mean()-X</td>\n    </tr>\n    <tr>\n      <th>1</th>\n      <td>2</td>\n      <td>tBodyAcc-mean()-Y</td>\n    </tr>\n    <tr>\n      <th>2</th>\n      <td>3</td>\n      <td>tBodyAcc-mean()-Z</td>\n    </tr>\n    <tr>\n      <th>3</th>\n      <td>4</td>\n      <td>tBodyAcc-std()-X</td>\n    </tr>\n    <tr>\n      <th>4</th>\n      <td>5</td>\n      <td>tBodyAcc-std()-Y</td>\n    </tr>\n  </tbody>\n</table>\n</div>"
     },
     "execution_count": 42,
     "metadata": {},
     "output_type": "execute_result"
    }
   ],
   "source": [
    "features = pd.read_csv(folder+\"/features.txt\", sep = \" \", header = None, names=('ID','Sensor'))\n",
    "print(features.shape)\n",
    "features.head()"
   ],
   "metadata": {
    "collapsed": false
   }
  },
  {
   "cell_type": "code",
   "execution_count": 43,
   "outputs": [
    {
     "data": {
      "text/plain": "   SubjectID\n0          1\n1          1\n2          1\n3          1\n4          1",
      "text/html": "<div>\n<style scoped>\n    .dataframe tbody tr th:only-of-type {\n        vertical-align: middle;\n    }\n\n    .dataframe tbody tr th {\n        vertical-align: top;\n    }\n\n    .dataframe thead th {\n        text-align: right;\n    }\n</style>\n<table border=\"1\" class=\"dataframe\">\n  <thead>\n    <tr style=\"text-align: right;\">\n      <th></th>\n      <th>SubjectID</th>\n    </tr>\n  </thead>\n  <tbody>\n    <tr>\n      <th>0</th>\n      <td>1</td>\n    </tr>\n    <tr>\n      <th>1</th>\n      <td>1</td>\n    </tr>\n    <tr>\n      <th>2</th>\n      <td>1</td>\n    </tr>\n    <tr>\n      <th>3</th>\n      <td>1</td>\n    </tr>\n    <tr>\n      <th>4</th>\n      <td>1</td>\n    </tr>\n  </tbody>\n</table>\n</div>"
     },
     "execution_count": 43,
     "metadata": {},
     "output_type": "execute_result"
    }
   ],
   "source": [
    "subjects_tr = pd.read_csv(folder+\"/train/subject_train.txt\", header = None, names=['SubjectID'])\n",
    "subjects_tr.head()"
   ],
   "metadata": {
    "collapsed": false
   }
  },
  {
   "cell_type": "code",
   "execution_count": 44,
   "outputs": [
    {
     "name": "stdout",
     "output_type": "stream",
     "text": [
      "(7352, 1) (2947, 1)\n"
     ]
    }
   ],
   "source": [
    "subjects_tst = pd.read_csv(folder+\"/test/subject_test.txt\", header = None, names=['SubjectID'])\n",
    "print(subjects_tr.shape, subjects_tst.shape)"
   ],
   "metadata": {
    "collapsed": false
   }
  },
  {
   "cell_type": "code",
   "execution_count": 45,
   "outputs": [
    {
     "name": "stdout",
     "output_type": "stream",
     "text": [
      "(7352, 561) (2947, 561)\n"
     ]
    }
   ],
   "source": [
    "x_train = pd.read_csv(folder+\"/train/X_train.txt\", sep = \"\\s+\", header = None)\n",
    "x_test = pd.read_csv(folder+\"/test/X_test.txt\", sep = \"\\s+\", header = None)\n",
    "print(x_train.shape, x_test.shape)"
   ],
   "metadata": {
    "collapsed": false
   }
  },
  {
   "cell_type": "code",
   "execution_count": 46,
   "outputs": [
    {
     "name": "stdout",
     "output_type": "stream",
     "text": [
      "(7352, 1) (2947, 1)\n"
     ]
    }
   ],
   "source": [
    "y_train = pd.read_csv(folder+\"/train/y_train.txt\", header=None, names=['ActivityID'])\n",
    "y_test = pd.read_csv(folder+\"/test/y_test.txt\", header=None, names=['ActivityID'])\n",
    "print(y_train.shape, y_test.shape)"
   ],
   "metadata": {
    "collapsed": false
   }
  },
  {
   "cell_type": "code",
   "execution_count": 47,
   "outputs": [
    {
     "name": "stdout",
     "output_type": "stream",
     "text": [
      "(10299, 1)\n"
     ]
    }
   ],
   "source": [
    "subjects_all = pd.concat([subjects_tr, subjects_tst], ignore_index=True)\n",
    "print(subjects_all.shape)"
   ],
   "metadata": {
    "collapsed": false
   }
  },
  {
   "cell_type": "code",
   "execution_count": 48,
   "outputs": [
    {
     "name": "stdout",
     "output_type": "stream",
     "text": [
      "(10299, 561)\n"
     ]
    }
   ],
   "source": [
    "x_all = pd.concat([x_train, x_test], ignore_index = True)\n",
    "print(x_all.shape)"
   ],
   "metadata": {
    "collapsed": false
   }
  },
  {
   "cell_type": "code",
   "execution_count": 49,
   "outputs": [
    {
     "name": "stdout",
     "output_type": "stream",
     "text": [
      "(10299, 1)\n"
     ]
    },
    {
     "name": "stderr",
     "output_type": "stream",
     "text": [
      "C:\\Users\\anaca\\AppData\\Local\\Temp\\ipykernel_18696\\44016591.py:1: FutureWarning: The frame.append method is deprecated and will be removed from pandas in a future version. Use pandas.concat instead.\n",
      "  y_all = y_train.append(y_test, ignore_index=True)\n"
     ]
    }
   ],
   "source": [
    "y_all = y_train.append(y_test, ignore_index=True)\n",
    "print(y_all.shape)"
   ],
   "metadata": {
    "collapsed": false
   }
  },
  {
   "cell_type": "code",
   "execution_count": 50,
   "outputs": [
    {
     "data": {
      "text/plain": "Sensor  tBodyAcc-mean()-X  tBodyAcc-mean()-Y  tBodyAcc-mean()-Z  \\\n0                0.288585          -0.020294          -0.132905   \n1                0.278419          -0.016411          -0.123520   \n2                0.279653          -0.019467          -0.113462   \n3                0.279174          -0.026201          -0.123283   \n4                0.276629          -0.016570          -0.115362   \n...                   ...                ...                ...   \n10294            0.310155          -0.053391          -0.099109   \n10295            0.363385          -0.039214          -0.105915   \n10296            0.349966           0.030077          -0.115788   \n10297            0.237594           0.018467          -0.096499   \n10298            0.153627          -0.018437          -0.137018   \n\nSensor  tBodyAcc-std()-X  tBodyAcc-std()-Y  tBodyAcc-std()-Z  \\\n0              -0.995279         -0.983111         -0.913526   \n1              -0.998245         -0.975300         -0.960322   \n2              -0.995380         -0.967187         -0.978944   \n3              -0.996091         -0.983403         -0.990675   \n4              -0.998139         -0.980817         -0.990482   \n...                  ...               ...               ...   \n10294          -0.287866         -0.140589         -0.215088   \n10295          -0.305388          0.028148         -0.196373   \n10296          -0.329638         -0.042143         -0.250181   \n10297          -0.323114         -0.229775         -0.207574   \n10298          -0.330046         -0.195253         -0.164339   \n\nSensor  tBodyAcc-mad()-X  tBodyAcc-mad()-Y  tBodyAcc-mad()-Z  \\\n0              -0.995112         -0.983185         -0.923527   \n1              -0.998807         -0.974914         -0.957686   \n2              -0.996520         -0.963668         -0.977469   \n3              -0.997099         -0.982750         -0.989302   \n4              -0.998321         -0.979672         -0.990441   \n...                  ...               ...               ...   \n10294          -0.356083         -0.148775         -0.232057   \n10295          -0.373540         -0.030036         -0.270237   \n10296          -0.388017         -0.133257         -0.347029   \n10297          -0.392380         -0.279610         -0.289477   \n10298          -0.430974         -0.218295         -0.229933   \n\nSensor  tBodyAcc-max()-X  ...  fBodyBodyGyroJerkMag-meanFreq()  \\\n0              -0.934724  ...                        -0.074323   \n1              -0.943068  ...                         0.158075   \n2              -0.938692  ...                         0.414503   \n3              -0.938692  ...                         0.404573   \n4              -0.942469  ...                         0.087753   \n...                  ...  ...                              ...   \n10294           0.185361  ...                         0.074472   \n10295           0.185361  ...                         0.101859   \n10296           0.007471  ...                        -0.066249   \n10297           0.007471  ...                        -0.046467   \n10298          -0.111527  ...                        -0.010386   \n\nSensor  fBodyBodyGyroJerkMag-skewness()  fBodyBodyGyroJerkMag-kurtosis()  \\\n0                             -0.298676                        -0.710304   \n1                             -0.595051                        -0.861499   \n2                             -0.390748                        -0.760104   \n3                             -0.117290                        -0.482845   \n4                             -0.351471                        -0.699205   \n...                                 ...                              ...   \n10294                         -0.376278                        -0.750809   \n10295                         -0.320418                        -0.700274   \n10296                         -0.118854                        -0.467179   \n10297                         -0.205445                        -0.617737   \n10298                         -0.072237                        -0.436940   \n\nSensor  angle(tBodyAccMean,gravity)  angle(tBodyAccJerkMean),gravityMean)  \\\n0                         -0.112754                              0.030400   \n1                          0.053477                             -0.007435   \n2                         -0.118559                              0.177899   \n3                         -0.036788                             -0.012892   \n4                          0.123320                              0.122542   \n...                             ...                                   ...   \n10294                     -0.337422                              0.346295   \n10295                     -0.736701                             -0.372889   \n10296                     -0.181560                              0.088574   \n10297                      0.444558                             -0.819188   \n10298                      0.598808                             -0.287951   \n\nSensor  angle(tBodyGyroMean,gravityMean)  \\\n0                              -0.464761   \n1                              -0.732626   \n2                               0.100699   \n3                               0.640011   \n4                               0.693578   \n...                                  ...   \n10294                           0.884904   \n10295                          -0.657421   \n10296                           0.696663   \n10297                           0.929294   \n10298                           0.876030   \n\nSensor  angle(tBodyGyroJerkMean,gravityMean)  angle(X,gravityMean)  \\\n0                                  -0.018446             -0.841247   \n1                                   0.703511             -0.844788   \n2                                   0.808529             -0.848933   \n3                                  -0.485366             -0.848649   \n4                                  -0.615971             -0.847865   \n...                                      ...                   ...   \n10294                              -0.698885             -0.651732   \n10295                               0.322549             -0.655181   \n10296                               0.363139             -0.655357   \n10297                              -0.008398             -0.659719   \n10298                              -0.024965             -0.660080   \n\nSensor  angle(Y,gravityMean)  angle(Z,gravityMean)  \n0                   0.179941             -0.058627  \n1                   0.180289             -0.054317  \n2                   0.180637             -0.049118  \n3                   0.181935             -0.047663  \n4                   0.185151             -0.043892  \n...                      ...                   ...  \n10294               0.274627              0.184784  \n10295               0.273578              0.182412  \n10296               0.274479              0.181184  \n10297               0.264782              0.187563  \n10298               0.263936              0.188103  \n\n[10299 rows x 561 columns]",
      "text/html": "<div>\n<style scoped>\n    .dataframe tbody tr th:only-of-type {\n        vertical-align: middle;\n    }\n\n    .dataframe tbody tr th {\n        vertical-align: top;\n    }\n\n    .dataframe thead th {\n        text-align: right;\n    }\n</style>\n<table border=\"1\" class=\"dataframe\">\n  <thead>\n    <tr style=\"text-align: right;\">\n      <th>Sensor</th>\n      <th>tBodyAcc-mean()-X</th>\n      <th>tBodyAcc-mean()-Y</th>\n      <th>tBodyAcc-mean()-Z</th>\n      <th>tBodyAcc-std()-X</th>\n      <th>tBodyAcc-std()-Y</th>\n      <th>tBodyAcc-std()-Z</th>\n      <th>tBodyAcc-mad()-X</th>\n      <th>tBodyAcc-mad()-Y</th>\n      <th>tBodyAcc-mad()-Z</th>\n      <th>tBodyAcc-max()-X</th>\n      <th>...</th>\n      <th>fBodyBodyGyroJerkMag-meanFreq()</th>\n      <th>fBodyBodyGyroJerkMag-skewness()</th>\n      <th>fBodyBodyGyroJerkMag-kurtosis()</th>\n      <th>angle(tBodyAccMean,gravity)</th>\n      <th>angle(tBodyAccJerkMean),gravityMean)</th>\n      <th>angle(tBodyGyroMean,gravityMean)</th>\n      <th>angle(tBodyGyroJerkMean,gravityMean)</th>\n      <th>angle(X,gravityMean)</th>\n      <th>angle(Y,gravityMean)</th>\n      <th>angle(Z,gravityMean)</th>\n    </tr>\n  </thead>\n  <tbody>\n    <tr>\n      <th>0</th>\n      <td>0.288585</td>\n      <td>-0.020294</td>\n      <td>-0.132905</td>\n      <td>-0.995279</td>\n      <td>-0.983111</td>\n      <td>-0.913526</td>\n      <td>-0.995112</td>\n      <td>-0.983185</td>\n      <td>-0.923527</td>\n      <td>-0.934724</td>\n      <td>...</td>\n      <td>-0.074323</td>\n      <td>-0.298676</td>\n      <td>-0.710304</td>\n      <td>-0.112754</td>\n      <td>0.030400</td>\n      <td>-0.464761</td>\n      <td>-0.018446</td>\n      <td>-0.841247</td>\n      <td>0.179941</td>\n      <td>-0.058627</td>\n    </tr>\n    <tr>\n      <th>1</th>\n      <td>0.278419</td>\n      <td>-0.016411</td>\n      <td>-0.123520</td>\n      <td>-0.998245</td>\n      <td>-0.975300</td>\n      <td>-0.960322</td>\n      <td>-0.998807</td>\n      <td>-0.974914</td>\n      <td>-0.957686</td>\n      <td>-0.943068</td>\n      <td>...</td>\n      <td>0.158075</td>\n      <td>-0.595051</td>\n      <td>-0.861499</td>\n      <td>0.053477</td>\n      <td>-0.007435</td>\n      <td>-0.732626</td>\n      <td>0.703511</td>\n      <td>-0.844788</td>\n      <td>0.180289</td>\n      <td>-0.054317</td>\n    </tr>\n    <tr>\n      <th>2</th>\n      <td>0.279653</td>\n      <td>-0.019467</td>\n      <td>-0.113462</td>\n      <td>-0.995380</td>\n      <td>-0.967187</td>\n      <td>-0.978944</td>\n      <td>-0.996520</td>\n      <td>-0.963668</td>\n      <td>-0.977469</td>\n      <td>-0.938692</td>\n      <td>...</td>\n      <td>0.414503</td>\n      <td>-0.390748</td>\n      <td>-0.760104</td>\n      <td>-0.118559</td>\n      <td>0.177899</td>\n      <td>0.100699</td>\n      <td>0.808529</td>\n      <td>-0.848933</td>\n      <td>0.180637</td>\n      <td>-0.049118</td>\n    </tr>\n    <tr>\n      <th>3</th>\n      <td>0.279174</td>\n      <td>-0.026201</td>\n      <td>-0.123283</td>\n      <td>-0.996091</td>\n      <td>-0.983403</td>\n      <td>-0.990675</td>\n      <td>-0.997099</td>\n      <td>-0.982750</td>\n      <td>-0.989302</td>\n      <td>-0.938692</td>\n      <td>...</td>\n      <td>0.404573</td>\n      <td>-0.117290</td>\n      <td>-0.482845</td>\n      <td>-0.036788</td>\n      <td>-0.012892</td>\n      <td>0.640011</td>\n      <td>-0.485366</td>\n      <td>-0.848649</td>\n      <td>0.181935</td>\n      <td>-0.047663</td>\n    </tr>\n    <tr>\n      <th>4</th>\n      <td>0.276629</td>\n      <td>-0.016570</td>\n      <td>-0.115362</td>\n      <td>-0.998139</td>\n      <td>-0.980817</td>\n      <td>-0.990482</td>\n      <td>-0.998321</td>\n      <td>-0.979672</td>\n      <td>-0.990441</td>\n      <td>-0.942469</td>\n      <td>...</td>\n      <td>0.087753</td>\n      <td>-0.351471</td>\n      <td>-0.699205</td>\n      <td>0.123320</td>\n      <td>0.122542</td>\n      <td>0.693578</td>\n      <td>-0.615971</td>\n      <td>-0.847865</td>\n      <td>0.185151</td>\n      <td>-0.043892</td>\n    </tr>\n    <tr>\n      <th>...</th>\n      <td>...</td>\n      <td>...</td>\n      <td>...</td>\n      <td>...</td>\n      <td>...</td>\n      <td>...</td>\n      <td>...</td>\n      <td>...</td>\n      <td>...</td>\n      <td>...</td>\n      <td>...</td>\n      <td>...</td>\n      <td>...</td>\n      <td>...</td>\n      <td>...</td>\n      <td>...</td>\n      <td>...</td>\n      <td>...</td>\n      <td>...</td>\n      <td>...</td>\n      <td>...</td>\n    </tr>\n    <tr>\n      <th>10294</th>\n      <td>0.310155</td>\n      <td>-0.053391</td>\n      <td>-0.099109</td>\n      <td>-0.287866</td>\n      <td>-0.140589</td>\n      <td>-0.215088</td>\n      <td>-0.356083</td>\n      <td>-0.148775</td>\n      <td>-0.232057</td>\n      <td>0.185361</td>\n      <td>...</td>\n      <td>0.074472</td>\n      <td>-0.376278</td>\n      <td>-0.750809</td>\n      <td>-0.337422</td>\n      <td>0.346295</td>\n      <td>0.884904</td>\n      <td>-0.698885</td>\n      <td>-0.651732</td>\n      <td>0.274627</td>\n      <td>0.184784</td>\n    </tr>\n    <tr>\n      <th>10295</th>\n      <td>0.363385</td>\n      <td>-0.039214</td>\n      <td>-0.105915</td>\n      <td>-0.305388</td>\n      <td>0.028148</td>\n      <td>-0.196373</td>\n      <td>-0.373540</td>\n      <td>-0.030036</td>\n      <td>-0.270237</td>\n      <td>0.185361</td>\n      <td>...</td>\n      <td>0.101859</td>\n      <td>-0.320418</td>\n      <td>-0.700274</td>\n      <td>-0.736701</td>\n      <td>-0.372889</td>\n      <td>-0.657421</td>\n      <td>0.322549</td>\n      <td>-0.655181</td>\n      <td>0.273578</td>\n      <td>0.182412</td>\n    </tr>\n    <tr>\n      <th>10296</th>\n      <td>0.349966</td>\n      <td>0.030077</td>\n      <td>-0.115788</td>\n      <td>-0.329638</td>\n      <td>-0.042143</td>\n      <td>-0.250181</td>\n      <td>-0.388017</td>\n      <td>-0.133257</td>\n      <td>-0.347029</td>\n      <td>0.007471</td>\n      <td>...</td>\n      <td>-0.066249</td>\n      <td>-0.118854</td>\n      <td>-0.467179</td>\n      <td>-0.181560</td>\n      <td>0.088574</td>\n      <td>0.696663</td>\n      <td>0.363139</td>\n      <td>-0.655357</td>\n      <td>0.274479</td>\n      <td>0.181184</td>\n    </tr>\n    <tr>\n      <th>10297</th>\n      <td>0.237594</td>\n      <td>0.018467</td>\n      <td>-0.096499</td>\n      <td>-0.323114</td>\n      <td>-0.229775</td>\n      <td>-0.207574</td>\n      <td>-0.392380</td>\n      <td>-0.279610</td>\n      <td>-0.289477</td>\n      <td>0.007471</td>\n      <td>...</td>\n      <td>-0.046467</td>\n      <td>-0.205445</td>\n      <td>-0.617737</td>\n      <td>0.444558</td>\n      <td>-0.819188</td>\n      <td>0.929294</td>\n      <td>-0.008398</td>\n      <td>-0.659719</td>\n      <td>0.264782</td>\n      <td>0.187563</td>\n    </tr>\n    <tr>\n      <th>10298</th>\n      <td>0.153627</td>\n      <td>-0.018437</td>\n      <td>-0.137018</td>\n      <td>-0.330046</td>\n      <td>-0.195253</td>\n      <td>-0.164339</td>\n      <td>-0.430974</td>\n      <td>-0.218295</td>\n      <td>-0.229933</td>\n      <td>-0.111527</td>\n      <td>...</td>\n      <td>-0.010386</td>\n      <td>-0.072237</td>\n      <td>-0.436940</td>\n      <td>0.598808</td>\n      <td>-0.287951</td>\n      <td>0.876030</td>\n      <td>-0.024965</td>\n      <td>-0.660080</td>\n      <td>0.263936</td>\n      <td>0.188103</td>\n    </tr>\n  </tbody>\n</table>\n<p>10299 rows × 561 columns</p>\n</div>"
     },
     "execution_count": 50,
     "metadata": {},
     "output_type": "execute_result"
    }
   ],
   "source": [
    "sensorNames = features['Sensor']\n",
    "x_all.columns = sensorNames\n",
    "x_all"
   ],
   "metadata": {
    "collapsed": false
   }
  },
  {
   "cell_type": "code",
   "execution_count": 51,
   "outputs": [
    {
     "data": {
      "text/plain": "       ActivityID\n10294           2\n10295           2\n10296           2\n10297           2\n10298           2",
      "text/html": "<div>\n<style scoped>\n    .dataframe tbody tr th:only-of-type {\n        vertical-align: middle;\n    }\n\n    .dataframe tbody tr th {\n        vertical-align: top;\n    }\n\n    .dataframe thead th {\n        text-align: right;\n    }\n</style>\n<table border=\"1\" class=\"dataframe\">\n  <thead>\n    <tr style=\"text-align: right;\">\n      <th></th>\n      <th>ActivityID</th>\n    </tr>\n  </thead>\n  <tbody>\n    <tr>\n      <th>10294</th>\n      <td>2</td>\n    </tr>\n    <tr>\n      <th>10295</th>\n      <td>2</td>\n    </tr>\n    <tr>\n      <th>10296</th>\n      <td>2</td>\n    </tr>\n    <tr>\n      <th>10297</th>\n      <td>2</td>\n    </tr>\n    <tr>\n      <th>10298</th>\n      <td>2</td>\n    </tr>\n  </tbody>\n</table>\n</div>"
     },
     "execution_count": 51,
     "metadata": {},
     "output_type": "execute_result"
    }
   ],
   "source": [
    "y_all.tail()"
   ],
   "metadata": {
    "collapsed": false
   }
  },
  {
   "cell_type": "code",
   "execution_count": 52,
   "outputs": [
    {
     "name": "stdout",
     "output_type": "stream",
     "text": [
      "(10299, 563)\n"
     ]
    }
   ],
   "source": [
    "x_all = pd.concat([x_all, subjects_all], axis=1)\n",
    "allXy = pd.concat([x_all, y_all], axis=1)\n",
    "print(allXy.shape)"
   ],
   "metadata": {
    "collapsed": false
   }
  },
  {
   "cell_type": "code",
   "execution_count": 53,
   "outputs": [
    {
     "data": {
      "text/plain": "       tBodyAcc-mean()-X  tBodyAcc-mean()-Y  tBodyAcc-mean()-Z  \\\ncount       10299.000000       10299.000000       10299.000000   \nmean            0.274347          -0.017743          -0.108925   \nstd             0.067628           0.037128           0.053033   \nmin            -1.000000          -1.000000          -1.000000   \n25%             0.262625          -0.024902          -0.121019   \n50%             0.277174          -0.017162          -0.108596   \n75%             0.288354          -0.010625          -0.097589   \nmax             1.000000           1.000000           1.000000   \n\n       tBodyAcc-std()-X  tBodyAcc-std()-Y  tBodyAcc-std()-Z  tBodyAcc-mad()-X  \\\ncount      10299.000000      10299.000000      10299.000000      10299.000000   \nmean          -0.607784         -0.510191         -0.613064         -0.633593   \nstd            0.438694          0.500240          0.403657          0.413333   \nmin           -1.000000         -1.000000         -1.000000         -1.000000   \n25%           -0.992360         -0.976990         -0.979137         -0.993293   \n50%           -0.943030         -0.835032         -0.850773         -0.948244   \n75%           -0.250293         -0.057336         -0.278737         -0.302033   \nmax            1.000000          1.000000          1.000000          1.000000   \n\n       tBodyAcc-mad()-Y  tBodyAcc-mad()-Z  tBodyAcc-max()-X  ...  \\\ncount      10299.000000      10299.000000      10299.000000  ...   \nmean          -0.525697         -0.614989         -0.466732  ...   \nstd            0.484201          0.399034          0.538707  ...   \nmin           -1.000000         -1.000000         -1.000000  ...   \n25%           -0.977017         -0.979064         -0.935788  ...   \n50%           -0.843670         -0.845068         -0.874825  ...   \n75%           -0.087405         -0.288149         -0.014641  ...   \nmax            1.000000          1.000000          1.000000  ...   \n\n       fBodyBodyGyroJerkMag-meanFreq()  fBodyBodyGyroJerkMag-skewness()  \\\ncount                     10299.000000                     10299.000000   \nmean                          0.126708                        -0.298592   \nstd                           0.245443                         0.320199   \nmin                          -1.000000                        -1.000000   \n25%                          -0.019481                        -0.536174   \n50%                           0.136245                        -0.335160   \n75%                           0.288960                        -0.113167   \nmax                           1.000000                         1.000000   \n\n       fBodyBodyGyroJerkMag-kurtosis()  angle(tBodyAccMean,gravity)  \\\ncount                     10299.000000                 10299.000000   \nmean                         -0.617700                     0.007705   \nstd                           0.308796                     0.336591   \nmin                          -1.000000                    -1.000000   \n25%                          -0.841847                    -0.124694   \n50%                          -0.703402                     0.008146   \n75%                          -0.487981                     0.149005   \nmax                           1.000000                     1.000000   \n\n       angle(tBodyAccJerkMean),gravityMean)  angle(tBodyGyroMean,gravityMean)  \\\ncount                          10299.000000                      10299.000000   \nmean                               0.002648                          0.017683   \nstd                                0.447364                          0.616188   \nmin                               -1.000000                         -1.000000   \n25%                               -0.287031                         -0.493108   \n50%                                0.007668                          0.017192   \n75%                                0.291490                          0.536137   \nmax                                1.000000                          1.000000   \n\n       angle(tBodyGyroJerkMean,gravityMean)  angle(X,gravityMean)  \\\ncount                          10299.000000          10299.000000   \nmean                              -0.009219             -0.496522   \nstd                                0.484770              0.511158   \nmin                               -1.000000             -1.000000   \n25%                               -0.389041             -0.817288   \n50%                               -0.007186             -0.715631   \n75%                                0.365996             -0.521503   \nmax                                1.000000              1.000000   \n\n       angle(Y,gravityMean)  angle(Z,gravityMean)  \ncount          10299.000000          10299.000000  \nmean               0.063255             -0.054284  \nstd                0.305468              0.268898  \nmin               -1.000000             -1.000000  \n25%                0.002151             -0.131880  \n50%                0.182028             -0.003882  \n75%                0.250790              0.102970  \nmax                1.000000              1.000000  \n\n[8 rows x 561 columns]",
      "text/html": "<div>\n<style scoped>\n    .dataframe tbody tr th:only-of-type {\n        vertical-align: middle;\n    }\n\n    .dataframe tbody tr th {\n        vertical-align: top;\n    }\n\n    .dataframe thead th {\n        text-align: right;\n    }\n</style>\n<table border=\"1\" class=\"dataframe\">\n  <thead>\n    <tr style=\"text-align: right;\">\n      <th></th>\n      <th>tBodyAcc-mean()-X</th>\n      <th>tBodyAcc-mean()-Y</th>\n      <th>tBodyAcc-mean()-Z</th>\n      <th>tBodyAcc-std()-X</th>\n      <th>tBodyAcc-std()-Y</th>\n      <th>tBodyAcc-std()-Z</th>\n      <th>tBodyAcc-mad()-X</th>\n      <th>tBodyAcc-mad()-Y</th>\n      <th>tBodyAcc-mad()-Z</th>\n      <th>tBodyAcc-max()-X</th>\n      <th>...</th>\n      <th>fBodyBodyGyroJerkMag-meanFreq()</th>\n      <th>fBodyBodyGyroJerkMag-skewness()</th>\n      <th>fBodyBodyGyroJerkMag-kurtosis()</th>\n      <th>angle(tBodyAccMean,gravity)</th>\n      <th>angle(tBodyAccJerkMean),gravityMean)</th>\n      <th>angle(tBodyGyroMean,gravityMean)</th>\n      <th>angle(tBodyGyroJerkMean,gravityMean)</th>\n      <th>angle(X,gravityMean)</th>\n      <th>angle(Y,gravityMean)</th>\n      <th>angle(Z,gravityMean)</th>\n    </tr>\n  </thead>\n  <tbody>\n    <tr>\n      <th>count</th>\n      <td>10299.000000</td>\n      <td>10299.000000</td>\n      <td>10299.000000</td>\n      <td>10299.000000</td>\n      <td>10299.000000</td>\n      <td>10299.000000</td>\n      <td>10299.000000</td>\n      <td>10299.000000</td>\n      <td>10299.000000</td>\n      <td>10299.000000</td>\n      <td>...</td>\n      <td>10299.000000</td>\n      <td>10299.000000</td>\n      <td>10299.000000</td>\n      <td>10299.000000</td>\n      <td>10299.000000</td>\n      <td>10299.000000</td>\n      <td>10299.000000</td>\n      <td>10299.000000</td>\n      <td>10299.000000</td>\n      <td>10299.000000</td>\n    </tr>\n    <tr>\n      <th>mean</th>\n      <td>0.274347</td>\n      <td>-0.017743</td>\n      <td>-0.108925</td>\n      <td>-0.607784</td>\n      <td>-0.510191</td>\n      <td>-0.613064</td>\n      <td>-0.633593</td>\n      <td>-0.525697</td>\n      <td>-0.614989</td>\n      <td>-0.466732</td>\n      <td>...</td>\n      <td>0.126708</td>\n      <td>-0.298592</td>\n      <td>-0.617700</td>\n      <td>0.007705</td>\n      <td>0.002648</td>\n      <td>0.017683</td>\n      <td>-0.009219</td>\n      <td>-0.496522</td>\n      <td>0.063255</td>\n      <td>-0.054284</td>\n    </tr>\n    <tr>\n      <th>std</th>\n      <td>0.067628</td>\n      <td>0.037128</td>\n      <td>0.053033</td>\n      <td>0.438694</td>\n      <td>0.500240</td>\n      <td>0.403657</td>\n      <td>0.413333</td>\n      <td>0.484201</td>\n      <td>0.399034</td>\n      <td>0.538707</td>\n      <td>...</td>\n      <td>0.245443</td>\n      <td>0.320199</td>\n      <td>0.308796</td>\n      <td>0.336591</td>\n      <td>0.447364</td>\n      <td>0.616188</td>\n      <td>0.484770</td>\n      <td>0.511158</td>\n      <td>0.305468</td>\n      <td>0.268898</td>\n    </tr>\n    <tr>\n      <th>min</th>\n      <td>-1.000000</td>\n      <td>-1.000000</td>\n      <td>-1.000000</td>\n      <td>-1.000000</td>\n      <td>-1.000000</td>\n      <td>-1.000000</td>\n      <td>-1.000000</td>\n      <td>-1.000000</td>\n      <td>-1.000000</td>\n      <td>-1.000000</td>\n      <td>...</td>\n      <td>-1.000000</td>\n      <td>-1.000000</td>\n      <td>-1.000000</td>\n      <td>-1.000000</td>\n      <td>-1.000000</td>\n      <td>-1.000000</td>\n      <td>-1.000000</td>\n      <td>-1.000000</td>\n      <td>-1.000000</td>\n      <td>-1.000000</td>\n    </tr>\n    <tr>\n      <th>25%</th>\n      <td>0.262625</td>\n      <td>-0.024902</td>\n      <td>-0.121019</td>\n      <td>-0.992360</td>\n      <td>-0.976990</td>\n      <td>-0.979137</td>\n      <td>-0.993293</td>\n      <td>-0.977017</td>\n      <td>-0.979064</td>\n      <td>-0.935788</td>\n      <td>...</td>\n      <td>-0.019481</td>\n      <td>-0.536174</td>\n      <td>-0.841847</td>\n      <td>-0.124694</td>\n      <td>-0.287031</td>\n      <td>-0.493108</td>\n      <td>-0.389041</td>\n      <td>-0.817288</td>\n      <td>0.002151</td>\n      <td>-0.131880</td>\n    </tr>\n    <tr>\n      <th>50%</th>\n      <td>0.277174</td>\n      <td>-0.017162</td>\n      <td>-0.108596</td>\n      <td>-0.943030</td>\n      <td>-0.835032</td>\n      <td>-0.850773</td>\n      <td>-0.948244</td>\n      <td>-0.843670</td>\n      <td>-0.845068</td>\n      <td>-0.874825</td>\n      <td>...</td>\n      <td>0.136245</td>\n      <td>-0.335160</td>\n      <td>-0.703402</td>\n      <td>0.008146</td>\n      <td>0.007668</td>\n      <td>0.017192</td>\n      <td>-0.007186</td>\n      <td>-0.715631</td>\n      <td>0.182028</td>\n      <td>-0.003882</td>\n    </tr>\n    <tr>\n      <th>75%</th>\n      <td>0.288354</td>\n      <td>-0.010625</td>\n      <td>-0.097589</td>\n      <td>-0.250293</td>\n      <td>-0.057336</td>\n      <td>-0.278737</td>\n      <td>-0.302033</td>\n      <td>-0.087405</td>\n      <td>-0.288149</td>\n      <td>-0.014641</td>\n      <td>...</td>\n      <td>0.288960</td>\n      <td>-0.113167</td>\n      <td>-0.487981</td>\n      <td>0.149005</td>\n      <td>0.291490</td>\n      <td>0.536137</td>\n      <td>0.365996</td>\n      <td>-0.521503</td>\n      <td>0.250790</td>\n      <td>0.102970</td>\n    </tr>\n    <tr>\n      <th>max</th>\n      <td>1.000000</td>\n      <td>1.000000</td>\n      <td>1.000000</td>\n      <td>1.000000</td>\n      <td>1.000000</td>\n      <td>1.000000</td>\n      <td>1.000000</td>\n      <td>1.000000</td>\n      <td>1.000000</td>\n      <td>1.000000</td>\n      <td>...</td>\n      <td>1.000000</td>\n      <td>1.000000</td>\n      <td>1.000000</td>\n      <td>1.000000</td>\n      <td>1.000000</td>\n      <td>1.000000</td>\n      <td>1.000000</td>\n      <td>1.000000</td>\n      <td>1.000000</td>\n      <td>1.000000</td>\n    </tr>\n  </tbody>\n</table>\n<p>8 rows × 561 columns</p>\n</div>"
     },
     "execution_count": 53,
     "metadata": {},
     "output_type": "execute_result"
    }
   ],
   "source": [
    "input_data = allXy.iloc[:,:-2] # removing ID and activity data\n",
    "input_data.describe()"
   ],
   "metadata": {
    "collapsed": false
   }
  },
  {
   "cell_type": "code",
   "execution_count": 54,
   "outputs": [
    {
     "data": {
      "text/plain": "count    10299.000000\nmean         3.624624\nstd          1.743695\nmin          1.000000\n25%          2.000000\n50%          4.000000\n75%          5.000000\nmax          6.000000\nName: ActivityID, dtype: float64"
     },
     "execution_count": 54,
     "metadata": {},
     "output_type": "execute_result"
    }
   ],
   "source": [
    "output_data = allXy.iloc[:,-1] # label -> activity\n",
    "output_data.describe()"
   ],
   "metadata": {
    "collapsed": false
   }
  },
  {
   "cell_type": "code",
   "execution_count": 55,
   "outputs": [],
   "source": [
    "# Data Standardization\n",
    "sc_input = preprocessing.scale(input_data)"
   ],
   "metadata": {
    "collapsed": false
   }
  },
  {
   "cell_type": "code",
   "execution_count": 56,
   "outputs": [
    {
     "name": "stdout",
     "output_type": "stream",
     "text": [
      "(7209, 561) (3090, 561)\n",
      "(7209,) (3090,)\n"
     ]
    }
   ],
   "source": [
    "# Divide the training and testing set\n",
    "x_train, x_test, y_train, y_test = train_test_split(sc_input, output_data, test_size=0.3)\n",
    "print(x_train.shape, x_test.shape)\n",
    "print(y_train.shape, y_test.shape)"
   ],
   "metadata": {
    "collapsed": false
   }
  },
  {
   "cell_type": "code",
   "execution_count": 61,
   "outputs": [
    {
     "name": "stdout",
     "output_type": "stream",
     "text": [
      "Model: \"sequential_7\"\n",
      "_________________________________________________________________\n",
      " Layer (type)                Output Shape              Param #   \n",
      "=================================================================\n",
      " dense_25 (Dense)            (None, 2000)              1124000   \n",
      "                                                                 \n",
      " dense_26 (Dense)            (None, 1000)              2001000   \n",
      "                                                                 \n",
      " dense_27 (Dense)            (None, 500)               500500    \n",
      "                                                                 \n",
      " dense_28 (Dense)            (None, 200)               100200    \n",
      "                                                                 \n",
      " dense_29 (Dense)            (None, 1)                 201       \n",
      "                                                                 \n",
      "=================================================================\n",
      "Total params: 3,725,901\n",
      "Trainable params: 3,725,901\n",
      "Non-trainable params: 0\n",
      "_________________________________________________________________\n"
     ]
    }
   ],
   "source": [
    "network = models.Sequential()\n",
    "\n",
    "network.add(layers.Dense(2000, activation='relu',input_shape=(x_train.shape[1],)))\n",
    "network.add(layers.Dense(1000, activation='relu',))\n",
    "network.add(layers.Dense(500, activation='relu',))\n",
    "network.add(layers.Dense(200, activation='relu',))\n",
    "network.add(layers.Dense(1, activation='relu'))\n",
    "\n",
    "network.summary()"
   ],
   "metadata": {
    "collapsed": false
   }
  },
  {
   "cell_type": "code",
   "execution_count": 66,
   "outputs": [
    {
     "name": "stdout",
     "output_type": "stream",
     "text": [
      "Epoch 1/5\n",
      "73/73 [==============================] - 6s 56ms/step - loss: 0.0119 - accuracy: 0.1652\n",
      "Epoch 2/5\n",
      "73/73 [==============================] - 4s 61ms/step - loss: 0.0096 - accuracy: 0.1652\n",
      "Epoch 3/5\n",
      "73/73 [==============================] - 6s 83ms/step - loss: 0.0091 - accuracy: 0.1652\n",
      "Epoch 4/5\n",
      "73/73 [==============================] - 5s 66ms/step - loss: 0.0076 - accuracy: 0.1652\n",
      "Epoch 5/5\n",
      "73/73 [==============================] - 6s 83ms/step - loss: 0.0062 - accuracy: 0.1652\n"
     ]
    },
    {
     "data": {
      "text/plain": "<keras.callbacks.History at 0x15926eb5b70>"
     },
     "execution_count": 66,
     "metadata": {},
     "output_type": "execute_result"
    }
   ],
   "source": [
    "alg_opt = optimizers.SGD(learning_rate=0.01, momentum=0.9)\n",
    "\n",
    "network.compile(optimizer=alg_opt,\n",
    "                loss='mse',\n",
    "                metrics=['accuracy'])\n",
    "\n",
    "network.fit(x_train, y_train, epochs=5, batch_size=100)"
   ],
   "metadata": {
    "collapsed": false
   }
  },
  {
   "cell_type": "code",
   "execution_count": 67,
   "outputs": [
    {
     "name": "stdout",
     "output_type": "stream",
     "text": [
      "226/226 [==============================] - 4s 17ms/step\n"
     ]
    },
    {
     "data": {
      "text/plain": "array([[1.9971162 ],\n       [4.139208  ],\n       [0.95352244],\n       ...,\n       [5.9419117 ],\n       [1.9644003 ],\n       [6.0739975 ]], dtype=float32)"
     },
     "execution_count": 67,
     "metadata": {},
     "output_type": "execute_result"
    }
   ],
   "source": [
    "test_preds = network.predict(x_train)\n",
    "test_preds"
   ],
   "metadata": {
    "collapsed": false
   }
  },
  {
   "cell_type": "code",
   "execution_count": 68,
   "outputs": [
    {
     "name": "stdout",
     "output_type": "stream",
     "text": [
      "97/97 [==============================] - 2s 17ms/step - loss: 0.0262 - accuracy: 0.1718\n",
      "0.026179881766438484 0.17184466123580933\n"
     ]
    }
   ],
   "source": [
    "test_loss, test_acc = network.evaluate(x_test, y_test)\n",
    "print(test_loss, test_acc)"
   ],
   "metadata": {
    "collapsed": false
   }
  }
 ],
 "metadata": {
  "kernelspec": {
   "display_name": "Python 3",
   "language": "python",
   "name": "python3"
  },
  "language_info": {
   "codemirror_mode": {
    "name": "ipython",
    "version": 2
   },
   "file_extension": ".py",
   "mimetype": "text/x-python",
   "name": "python",
   "nbconvert_exporter": "python",
   "pygments_lexer": "ipython2",
   "version": "2.7.6"
  }
 },
 "nbformat": 4,
 "nbformat_minor": 0
}
