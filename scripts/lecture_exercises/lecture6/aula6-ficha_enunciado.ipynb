{
 "cells": [
  {
   "cell_type": "markdown",
   "metadata": {},
   "source": [
    "# Exemplo de um workflow de aprendizagem máquina"
   ]
  },
  {
   "cell_type": "markdown",
   "metadata": {},
   "source": [
    "### *Conjunto de dados Human Activity Recognition using Smartphones*"
   ]
  },
  {
   "cell_type": "markdown",
   "metadata": {},
   "source": [
    "Descrição do dataset: \n",
    "https://archive.ics.uci.edu/ml/datasets/human+activity+recognition+using+smartphones"
   ]
  },
  {
   "cell_type": "markdown",
   "metadata": {},
   "source": [
    "*The experiments have been carried out with a group of 30 volunteers (…). Each person performed six activities (WALKING, WALKING_UPSTAIRS, WALKING_DOWNSTAIRS, SITTING, STANDING, LAYING) wearing a smartphone (…). Using its embedded accelerometer and gyroscope, we captured 3-axial linear acceleration and 3-axial angular velocity (…). The experiments have been video-recorded to label the data manually. The dataset has been randomly partitioned into two sets, where 70% of the volunteers was selected for generating the training data and 30% the test data*"
   ]
  },
  {
   "cell_type": "markdown",
   "metadata": {},
   "source": [
    "Descarregar os dados do link seguinte e descompactar o ZIP: https://archive.ics.uci.edu/ml/machine-learning-databases/00240/"
   ]
  },
  {
   "cell_type": "markdown",
   "metadata": {},
   "source": [
    "**Estrutura dos dados** (ficheiros principais):\n",
    "* Códigos das atividades: “activity_labels.txt” (2 colunas)\n",
    "* Atributos: “features.txt” (561 linhas, 2 colunas)\n",
    "* Indivíduos (treino ; teste): “train/subject_train.txt” (7352 linhas), “test/subject_test.txt” (2947 linhas), ambos com 1 coluna \n",
    "* Atributos de entrada – X (treino; teste): “train/X_train.txt” (7352 linhas), “test/X_test.txt” (2947 linhas), ambos com 561 colunas\n",
    "* Atributo de saída (atividade) – y (treino; teste): “train/y_train.txt” (7352 linhas), “test/y_test.txt” (2947 linhas), ambos com 1 coluna\n"
   ]
  },
  {
   "cell_type": "markdown",
   "metadata": {},
   "source": [
    "**Variáveis:**\n",
    "For each record in the dataset it is provided: \n",
    "* A 561-feature vector with time and frequency domain variables. \n",
    "* Its activity label. \n",
    "* An identifier of the subject who carried out the experiment.\n"
   ]
  },
  {
   "cell_type": "markdown",
   "metadata": {},
   "source": [
    "### Carregar os dados"
   ]
  },
  {
   "cell_type": "markdown",
   "metadata": {},
   "source": [
    "Ao descompactar o ficheiro a pasta base será UCI HAR Dataset. Definir a variável folder abaixo com path absoluto dessa pasta. Se estiver na pasta onde está o notebook bastará: `folder = \"./UCI HAR Dataset/\"`"
   ]
  },
  {
   "cell_type": "code",
   "execution_count": 1,
   "metadata": {},
   "outputs": [],
   "source": [
    "folder = \"/Users/anaca/Documents/GitHub/SIB-ML-Portfolio/datasets/UCI HAR Dataset\""
   ]
  },
  {
   "cell_type": "code",
   "execution_count": 2,
   "metadata": {},
   "outputs": [],
   "source": [
    "import pandas as pd"
   ]
  },
  {
   "cell_type": "code",
   "execution_count": 3,
   "metadata": {},
   "outputs": [
    {
     "name": "stdout",
     "output_type": "stream",
     "text": [
      "   ID            Activity\n",
      "0   1             WALKING\n",
      "1   2    WALKING_UPSTAIRS\n",
      "2   3  WALKING_DOWNSTAIRS\n",
      "3   4             SITTING\n",
      "4   5            STANDING\n",
      "5   6              LAYING\n"
     ]
    }
   ],
   "source": [
    "# activity category\n",
    "activities = pd.read_csv(folder+'/activity_labels.txt', sep=' ', header=None, names=('ID','Activity'))\n",
    "print(activities)"
   ]
  },
  {
   "cell_type": "code",
   "execution_count": 4,
   "metadata": {},
   "outputs": [
    {
     "name": "stdout",
     "output_type": "stream",
     "text": [
      "(561, 2)\n"
     ]
    },
    {
     "data": {
      "text/plain": "   ID             Sensor\n0   1  tBodyAcc-mean()-X\n1   2  tBodyAcc-mean()-Y\n2   3  tBodyAcc-mean()-Z\n3   4   tBodyAcc-std()-X\n4   5   tBodyAcc-std()-Y",
      "text/html": "<div>\n<style scoped>\n    .dataframe tbody tr th:only-of-type {\n        vertical-align: middle;\n    }\n\n    .dataframe tbody tr th {\n        vertical-align: top;\n    }\n\n    .dataframe thead th {\n        text-align: right;\n    }\n</style>\n<table border=\"1\" class=\"dataframe\">\n  <thead>\n    <tr style=\"text-align: right;\">\n      <th></th>\n      <th>ID</th>\n      <th>Sensor</th>\n    </tr>\n  </thead>\n  <tbody>\n    <tr>\n      <th>0</th>\n      <td>1</td>\n      <td>tBodyAcc-mean()-X</td>\n    </tr>\n    <tr>\n      <th>1</th>\n      <td>2</td>\n      <td>tBodyAcc-mean()-Y</td>\n    </tr>\n    <tr>\n      <th>2</th>\n      <td>3</td>\n      <td>tBodyAcc-mean()-Z</td>\n    </tr>\n    <tr>\n      <th>3</th>\n      <td>4</td>\n      <td>tBodyAcc-std()-X</td>\n    </tr>\n    <tr>\n      <th>4</th>\n      <td>5</td>\n      <td>tBodyAcc-std()-Y</td>\n    </tr>\n  </tbody>\n</table>\n</div>"
     },
     "execution_count": 4,
     "metadata": {},
     "output_type": "execute_result"
    }
   ],
   "source": [
    "# Features (acceleration and gyroscope sensors)\n",
    "features = pd.read_csv(folder+\"/features.txt\", sep = \" \", header = None, names=('ID','Sensor'))\n",
    "print(features.shape)\n",
    "features.head()"
   ]
  },
  {
   "cell_type": "code",
   "execution_count": 5,
   "metadata": {},
   "outputs": [
    {
     "data": {
      "text/plain": "   SubjectID\n0          1\n1          1\n2          1\n3          1\n4          1",
      "text/html": "<div>\n<style scoped>\n    .dataframe tbody tr th:only-of-type {\n        vertical-align: middle;\n    }\n\n    .dataframe tbody tr th {\n        vertical-align: top;\n    }\n\n    .dataframe thead th {\n        text-align: right;\n    }\n</style>\n<table border=\"1\" class=\"dataframe\">\n  <thead>\n    <tr style=\"text-align: right;\">\n      <th></th>\n      <th>SubjectID</th>\n    </tr>\n  </thead>\n  <tbody>\n    <tr>\n      <th>0</th>\n      <td>1</td>\n    </tr>\n    <tr>\n      <th>1</th>\n      <td>1</td>\n    </tr>\n    <tr>\n      <th>2</th>\n      <td>1</td>\n    </tr>\n    <tr>\n      <th>3</th>\n      <td>1</td>\n    </tr>\n    <tr>\n      <th>4</th>\n      <td>1</td>\n    </tr>\n  </tbody>\n</table>\n</div>"
     },
     "execution_count": 5,
     "metadata": {},
     "output_type": "execute_result"
    }
   ],
   "source": [
    "# Training subjects label\n",
    "subjects_tr = pd.read_csv(folder+\"/train/subject_train.txt\", header = None, names=['SubjectID'])\n",
    "subjects_tr.head()"
   ]
  },
  {
   "cell_type": "code",
   "execution_count": 6,
   "metadata": {},
   "outputs": [
    {
     "name": "stdout",
     "output_type": "stream",
     "text": [
      "(7352, 1) (2947, 1)\n"
     ]
    }
   ],
   "source": [
    "# Testing subjects label\n",
    "subjects_tst = pd.read_csv(folder+\"/test/subject_test.txt\", header = None, names=['SubjectID'])\n",
    "print(subjects_tr.shape, subjects_tst.shape)"
   ]
  },
  {
   "cell_type": "code",
   "execution_count": 7,
   "metadata": {},
   "outputs": [
    {
     "name": "stdout",
     "output_type": "stream",
     "text": [
      "(7352, 561) (2947, 561)\n"
     ]
    }
   ],
   "source": [
    "# X -> independent variable dataset (input)\n",
    "x_train = pd.read_csv(folder+\"/train/X_train.txt\", sep = \"\\s+\", header = None)\n",
    "x_test = pd.read_csv(folder+\"/test/X_test.txt\", sep = \"\\s+\", header = None)\n",
    "print(x_train.shape, x_test.shape)"
   ]
  },
  {
   "cell_type": "code",
   "execution_count": 8,
   "metadata": {},
   "outputs": [
    {
     "name": "stdout",
     "output_type": "stream",
     "text": [
      "(7352, 1) (2947, 1)\n"
     ]
    }
   ],
   "source": [
    "# Y -> dependent variable dataset (output)\n",
    "y_train = pd.read_csv(folder+\"/train/y_train.txt\", header=None, names=['ActivityID'])\n",
    "y_test = pd.read_csv(folder+\"/test/y_test.txt\", header=None, names=['ActivityID'])\n",
    "print(y_train.shape, y_test.shape)"
   ]
  },
  {
   "cell_type": "code",
   "execution_count": 9,
   "outputs": [],
   "source": [
    "# x -> sensors value\n",
    "# y -> activity label\n",
    "# from the values of the sensors the model is going to predict the activity"
   ],
   "metadata": {
    "collapsed": false
   }
  },
  {
   "cell_type": "markdown",
   "metadata": {},
   "source": [
    "### Preparação dos dados"
   ]
  },
  {
   "cell_type": "markdown",
   "metadata": {},
   "source": [
    "##### Juntar os conjuntos de dados de treino e teste"
   ]
  },
  {
   "cell_type": "code",
   "execution_count": 10,
   "metadata": {},
   "outputs": [
    {
     "name": "stdout",
     "output_type": "stream",
     "text": [
      "(10299, 1)\n"
     ]
    }
   ],
   "source": [
    "subjects_all = pd.concat([subjects_tr, subjects_tst], ignore_index=True)\n",
    "print(subjects_all.shape)"
   ]
  },
  {
   "cell_type": "code",
   "execution_count": 11,
   "metadata": {},
   "outputs": [
    {
     "name": "stdout",
     "output_type": "stream",
     "text": [
      "(10299, 561)\n"
     ]
    }
   ],
   "source": [
    "x_all = pd.concat([x_train, x_test], ignore_index = True)\n",
    "print(x_all.shape)"
   ]
  },
  {
   "cell_type": "code",
   "execution_count": 13,
   "metadata": {},
   "outputs": [
    {
     "name": "stdout",
     "output_type": "stream",
     "text": [
      "(10299, 1)\n"
     ]
    },
    {
     "name": "stderr",
     "output_type": "stream",
     "text": [
      "C:\\Users\\anaca\\AppData\\Local\\Temp\\ipykernel_8368\\44016591.py:1: FutureWarning: The frame.append method is deprecated and will be removed from pandas in a future version. Use pandas.concat instead.\n",
      "  y_all = y_train.append(y_test, ignore_index=True)\n"
     ]
    }
   ],
   "source": [
    "y_all = y_train.append(y_test, ignore_index=True)\n",
    "print(y_all.shape)"
   ]
  },
  {
   "cell_type": "markdown",
   "metadata": {},
   "source": [
    "##### Colocar nomes das colunas de X como nomes das features"
   ]
  },
  {
   "cell_type": "code",
   "execution_count": 14,
   "metadata": {},
   "outputs": [
    {
     "data": {
      "text/plain": "Sensor  tBodyAcc-mean()-X  tBodyAcc-mean()-Y  tBodyAcc-mean()-Z  \\\n0                0.288585          -0.020294          -0.132905   \n1                0.278419          -0.016411          -0.123520   \n2                0.279653          -0.019467          -0.113462   \n3                0.279174          -0.026201          -0.123283   \n4                0.276629          -0.016570          -0.115362   \n...                   ...                ...                ...   \n10294            0.310155          -0.053391          -0.099109   \n10295            0.363385          -0.039214          -0.105915   \n10296            0.349966           0.030077          -0.115788   \n10297            0.237594           0.018467          -0.096499   \n10298            0.153627          -0.018437          -0.137018   \n\nSensor  tBodyAcc-std()-X  tBodyAcc-std()-Y  tBodyAcc-std()-Z  \\\n0              -0.995279         -0.983111         -0.913526   \n1              -0.998245         -0.975300         -0.960322   \n2              -0.995380         -0.967187         -0.978944   \n3              -0.996091         -0.983403         -0.990675   \n4              -0.998139         -0.980817         -0.990482   \n...                  ...               ...               ...   \n10294          -0.287866         -0.140589         -0.215088   \n10295          -0.305388          0.028148         -0.196373   \n10296          -0.329638         -0.042143         -0.250181   \n10297          -0.323114         -0.229775         -0.207574   \n10298          -0.330046         -0.195253         -0.164339   \n\nSensor  tBodyAcc-mad()-X  tBodyAcc-mad()-Y  tBodyAcc-mad()-Z  \\\n0              -0.995112         -0.983185         -0.923527   \n1              -0.998807         -0.974914         -0.957686   \n2              -0.996520         -0.963668         -0.977469   \n3              -0.997099         -0.982750         -0.989302   \n4              -0.998321         -0.979672         -0.990441   \n...                  ...               ...               ...   \n10294          -0.356083         -0.148775         -0.232057   \n10295          -0.373540         -0.030036         -0.270237   \n10296          -0.388017         -0.133257         -0.347029   \n10297          -0.392380         -0.279610         -0.289477   \n10298          -0.430974         -0.218295         -0.229933   \n\nSensor  tBodyAcc-max()-X  ...  fBodyBodyGyroJerkMag-meanFreq()  \\\n0              -0.934724  ...                        -0.074323   \n1              -0.943068  ...                         0.158075   \n2              -0.938692  ...                         0.414503   \n3              -0.938692  ...                         0.404573   \n4              -0.942469  ...                         0.087753   \n...                  ...  ...                              ...   \n10294           0.185361  ...                         0.074472   \n10295           0.185361  ...                         0.101859   \n10296           0.007471  ...                        -0.066249   \n10297           0.007471  ...                        -0.046467   \n10298          -0.111527  ...                        -0.010386   \n\nSensor  fBodyBodyGyroJerkMag-skewness()  fBodyBodyGyroJerkMag-kurtosis()  \\\n0                             -0.298676                        -0.710304   \n1                             -0.595051                        -0.861499   \n2                             -0.390748                        -0.760104   \n3                             -0.117290                        -0.482845   \n4                             -0.351471                        -0.699205   \n...                                 ...                              ...   \n10294                         -0.376278                        -0.750809   \n10295                         -0.320418                        -0.700274   \n10296                         -0.118854                        -0.467179   \n10297                         -0.205445                        -0.617737   \n10298                         -0.072237                        -0.436940   \n\nSensor  angle(tBodyAccMean,gravity)  angle(tBodyAccJerkMean),gravityMean)  \\\n0                         -0.112754                              0.030400   \n1                          0.053477                             -0.007435   \n2                         -0.118559                              0.177899   \n3                         -0.036788                             -0.012892   \n4                          0.123320                              0.122542   \n...                             ...                                   ...   \n10294                     -0.337422                              0.346295   \n10295                     -0.736701                             -0.372889   \n10296                     -0.181560                              0.088574   \n10297                      0.444558                             -0.819188   \n10298                      0.598808                             -0.287951   \n\nSensor  angle(tBodyGyroMean,gravityMean)  \\\n0                              -0.464761   \n1                              -0.732626   \n2                               0.100699   \n3                               0.640011   \n4                               0.693578   \n...                                  ...   \n10294                           0.884904   \n10295                          -0.657421   \n10296                           0.696663   \n10297                           0.929294   \n10298                           0.876030   \n\nSensor  angle(tBodyGyroJerkMean,gravityMean)  angle(X,gravityMean)  \\\n0                                  -0.018446             -0.841247   \n1                                   0.703511             -0.844788   \n2                                   0.808529             -0.848933   \n3                                  -0.485366             -0.848649   \n4                                  -0.615971             -0.847865   \n...                                      ...                   ...   \n10294                              -0.698885             -0.651732   \n10295                               0.322549             -0.655181   \n10296                               0.363139             -0.655357   \n10297                              -0.008398             -0.659719   \n10298                              -0.024965             -0.660080   \n\nSensor  angle(Y,gravityMean)  angle(Z,gravityMean)  \n0                   0.179941             -0.058627  \n1                   0.180289             -0.054317  \n2                   0.180637             -0.049118  \n3                   0.181935             -0.047663  \n4                   0.185151             -0.043892  \n...                      ...                   ...  \n10294               0.274627              0.184784  \n10295               0.273578              0.182412  \n10296               0.274479              0.181184  \n10297               0.264782              0.187563  \n10298               0.263936              0.188103  \n\n[10299 rows x 561 columns]",
      "text/html": "<div>\n<style scoped>\n    .dataframe tbody tr th:only-of-type {\n        vertical-align: middle;\n    }\n\n    .dataframe tbody tr th {\n        vertical-align: top;\n    }\n\n    .dataframe thead th {\n        text-align: right;\n    }\n</style>\n<table border=\"1\" class=\"dataframe\">\n  <thead>\n    <tr style=\"text-align: right;\">\n      <th>Sensor</th>\n      <th>tBodyAcc-mean()-X</th>\n      <th>tBodyAcc-mean()-Y</th>\n      <th>tBodyAcc-mean()-Z</th>\n      <th>tBodyAcc-std()-X</th>\n      <th>tBodyAcc-std()-Y</th>\n      <th>tBodyAcc-std()-Z</th>\n      <th>tBodyAcc-mad()-X</th>\n      <th>tBodyAcc-mad()-Y</th>\n      <th>tBodyAcc-mad()-Z</th>\n      <th>tBodyAcc-max()-X</th>\n      <th>...</th>\n      <th>fBodyBodyGyroJerkMag-meanFreq()</th>\n      <th>fBodyBodyGyroJerkMag-skewness()</th>\n      <th>fBodyBodyGyroJerkMag-kurtosis()</th>\n      <th>angle(tBodyAccMean,gravity)</th>\n      <th>angle(tBodyAccJerkMean),gravityMean)</th>\n      <th>angle(tBodyGyroMean,gravityMean)</th>\n      <th>angle(tBodyGyroJerkMean,gravityMean)</th>\n      <th>angle(X,gravityMean)</th>\n      <th>angle(Y,gravityMean)</th>\n      <th>angle(Z,gravityMean)</th>\n    </tr>\n  </thead>\n  <tbody>\n    <tr>\n      <th>0</th>\n      <td>0.288585</td>\n      <td>-0.020294</td>\n      <td>-0.132905</td>\n      <td>-0.995279</td>\n      <td>-0.983111</td>\n      <td>-0.913526</td>\n      <td>-0.995112</td>\n      <td>-0.983185</td>\n      <td>-0.923527</td>\n      <td>-0.934724</td>\n      <td>...</td>\n      <td>-0.074323</td>\n      <td>-0.298676</td>\n      <td>-0.710304</td>\n      <td>-0.112754</td>\n      <td>0.030400</td>\n      <td>-0.464761</td>\n      <td>-0.018446</td>\n      <td>-0.841247</td>\n      <td>0.179941</td>\n      <td>-0.058627</td>\n    </tr>\n    <tr>\n      <th>1</th>\n      <td>0.278419</td>\n      <td>-0.016411</td>\n      <td>-0.123520</td>\n      <td>-0.998245</td>\n      <td>-0.975300</td>\n      <td>-0.960322</td>\n      <td>-0.998807</td>\n      <td>-0.974914</td>\n      <td>-0.957686</td>\n      <td>-0.943068</td>\n      <td>...</td>\n      <td>0.158075</td>\n      <td>-0.595051</td>\n      <td>-0.861499</td>\n      <td>0.053477</td>\n      <td>-0.007435</td>\n      <td>-0.732626</td>\n      <td>0.703511</td>\n      <td>-0.844788</td>\n      <td>0.180289</td>\n      <td>-0.054317</td>\n    </tr>\n    <tr>\n      <th>2</th>\n      <td>0.279653</td>\n      <td>-0.019467</td>\n      <td>-0.113462</td>\n      <td>-0.995380</td>\n      <td>-0.967187</td>\n      <td>-0.978944</td>\n      <td>-0.996520</td>\n      <td>-0.963668</td>\n      <td>-0.977469</td>\n      <td>-0.938692</td>\n      <td>...</td>\n      <td>0.414503</td>\n      <td>-0.390748</td>\n      <td>-0.760104</td>\n      <td>-0.118559</td>\n      <td>0.177899</td>\n      <td>0.100699</td>\n      <td>0.808529</td>\n      <td>-0.848933</td>\n      <td>0.180637</td>\n      <td>-0.049118</td>\n    </tr>\n    <tr>\n      <th>3</th>\n      <td>0.279174</td>\n      <td>-0.026201</td>\n      <td>-0.123283</td>\n      <td>-0.996091</td>\n      <td>-0.983403</td>\n      <td>-0.990675</td>\n      <td>-0.997099</td>\n      <td>-0.982750</td>\n      <td>-0.989302</td>\n      <td>-0.938692</td>\n      <td>...</td>\n      <td>0.404573</td>\n      <td>-0.117290</td>\n      <td>-0.482845</td>\n      <td>-0.036788</td>\n      <td>-0.012892</td>\n      <td>0.640011</td>\n      <td>-0.485366</td>\n      <td>-0.848649</td>\n      <td>0.181935</td>\n      <td>-0.047663</td>\n    </tr>\n    <tr>\n      <th>4</th>\n      <td>0.276629</td>\n      <td>-0.016570</td>\n      <td>-0.115362</td>\n      <td>-0.998139</td>\n      <td>-0.980817</td>\n      <td>-0.990482</td>\n      <td>-0.998321</td>\n      <td>-0.979672</td>\n      <td>-0.990441</td>\n      <td>-0.942469</td>\n      <td>...</td>\n      <td>0.087753</td>\n      <td>-0.351471</td>\n      <td>-0.699205</td>\n      <td>0.123320</td>\n      <td>0.122542</td>\n      <td>0.693578</td>\n      <td>-0.615971</td>\n      <td>-0.847865</td>\n      <td>0.185151</td>\n      <td>-0.043892</td>\n    </tr>\n    <tr>\n      <th>...</th>\n      <td>...</td>\n      <td>...</td>\n      <td>...</td>\n      <td>...</td>\n      <td>...</td>\n      <td>...</td>\n      <td>...</td>\n      <td>...</td>\n      <td>...</td>\n      <td>...</td>\n      <td>...</td>\n      <td>...</td>\n      <td>...</td>\n      <td>...</td>\n      <td>...</td>\n      <td>...</td>\n      <td>...</td>\n      <td>...</td>\n      <td>...</td>\n      <td>...</td>\n      <td>...</td>\n    </tr>\n    <tr>\n      <th>10294</th>\n      <td>0.310155</td>\n      <td>-0.053391</td>\n      <td>-0.099109</td>\n      <td>-0.287866</td>\n      <td>-0.140589</td>\n      <td>-0.215088</td>\n      <td>-0.356083</td>\n      <td>-0.148775</td>\n      <td>-0.232057</td>\n      <td>0.185361</td>\n      <td>...</td>\n      <td>0.074472</td>\n      <td>-0.376278</td>\n      <td>-0.750809</td>\n      <td>-0.337422</td>\n      <td>0.346295</td>\n      <td>0.884904</td>\n      <td>-0.698885</td>\n      <td>-0.651732</td>\n      <td>0.274627</td>\n      <td>0.184784</td>\n    </tr>\n    <tr>\n      <th>10295</th>\n      <td>0.363385</td>\n      <td>-0.039214</td>\n      <td>-0.105915</td>\n      <td>-0.305388</td>\n      <td>0.028148</td>\n      <td>-0.196373</td>\n      <td>-0.373540</td>\n      <td>-0.030036</td>\n      <td>-0.270237</td>\n      <td>0.185361</td>\n      <td>...</td>\n      <td>0.101859</td>\n      <td>-0.320418</td>\n      <td>-0.700274</td>\n      <td>-0.736701</td>\n      <td>-0.372889</td>\n      <td>-0.657421</td>\n      <td>0.322549</td>\n      <td>-0.655181</td>\n      <td>0.273578</td>\n      <td>0.182412</td>\n    </tr>\n    <tr>\n      <th>10296</th>\n      <td>0.349966</td>\n      <td>0.030077</td>\n      <td>-0.115788</td>\n      <td>-0.329638</td>\n      <td>-0.042143</td>\n      <td>-0.250181</td>\n      <td>-0.388017</td>\n      <td>-0.133257</td>\n      <td>-0.347029</td>\n      <td>0.007471</td>\n      <td>...</td>\n      <td>-0.066249</td>\n      <td>-0.118854</td>\n      <td>-0.467179</td>\n      <td>-0.181560</td>\n      <td>0.088574</td>\n      <td>0.696663</td>\n      <td>0.363139</td>\n      <td>-0.655357</td>\n      <td>0.274479</td>\n      <td>0.181184</td>\n    </tr>\n    <tr>\n      <th>10297</th>\n      <td>0.237594</td>\n      <td>0.018467</td>\n      <td>-0.096499</td>\n      <td>-0.323114</td>\n      <td>-0.229775</td>\n      <td>-0.207574</td>\n      <td>-0.392380</td>\n      <td>-0.279610</td>\n      <td>-0.289477</td>\n      <td>0.007471</td>\n      <td>...</td>\n      <td>-0.046467</td>\n      <td>-0.205445</td>\n      <td>-0.617737</td>\n      <td>0.444558</td>\n      <td>-0.819188</td>\n      <td>0.929294</td>\n      <td>-0.008398</td>\n      <td>-0.659719</td>\n      <td>0.264782</td>\n      <td>0.187563</td>\n    </tr>\n    <tr>\n      <th>10298</th>\n      <td>0.153627</td>\n      <td>-0.018437</td>\n      <td>-0.137018</td>\n      <td>-0.330046</td>\n      <td>-0.195253</td>\n      <td>-0.164339</td>\n      <td>-0.430974</td>\n      <td>-0.218295</td>\n      <td>-0.229933</td>\n      <td>-0.111527</td>\n      <td>...</td>\n      <td>-0.010386</td>\n      <td>-0.072237</td>\n      <td>-0.436940</td>\n      <td>0.598808</td>\n      <td>-0.287951</td>\n      <td>0.876030</td>\n      <td>-0.024965</td>\n      <td>-0.660080</td>\n      <td>0.263936</td>\n      <td>0.188103</td>\n    </tr>\n  </tbody>\n</table>\n<p>10299 rows × 561 columns</p>\n</div>"
     },
     "execution_count": 14,
     "metadata": {},
     "output_type": "execute_result"
    }
   ],
   "source": [
    "sensorNames = features['Sensor']\n",
    "x_all.columns = sensorNames\n",
    "x_all"
   ]
  },
  {
   "cell_type": "markdown",
   "metadata": {},
   "source": [
    "##### Substituir códigos de atividade pela designação (string)"
   ]
  },
  {
   "cell_type": "code",
   "execution_count": 15,
   "metadata": {},
   "outputs": [
    {
     "data": {
      "text/plain": "   Activity\n0  STANDING\n1  STANDING\n2  STANDING\n3  STANDING\n4  STANDING",
      "text/html": "<div>\n<style scoped>\n    .dataframe tbody tr th:only-of-type {\n        vertical-align: middle;\n    }\n\n    .dataframe tbody tr th {\n        vertical-align: top;\n    }\n\n    .dataframe thead th {\n        text-align: right;\n    }\n</style>\n<table border=\"1\" class=\"dataframe\">\n  <thead>\n    <tr style=\"text-align: right;\">\n      <th></th>\n      <th>Activity</th>\n    </tr>\n  </thead>\n  <tbody>\n    <tr>\n      <th>0</th>\n      <td>STANDING</td>\n    </tr>\n    <tr>\n      <th>1</th>\n      <td>STANDING</td>\n    </tr>\n    <tr>\n      <th>2</th>\n      <td>STANDING</td>\n    </tr>\n    <tr>\n      <th>3</th>\n      <td>STANDING</td>\n    </tr>\n    <tr>\n      <th>4</th>\n      <td>STANDING</td>\n    </tr>\n  </tbody>\n</table>\n</div>"
     },
     "execution_count": 15,
     "metadata": {},
     "output_type": "execute_result"
    }
   ],
   "source": [
    "for i in activities['ID']:\n",
    "    activity = activities[activities['ID'] == i]['Activity'] \n",
    "    y_all = y_all.replace({i: activity.iloc[0]})\n",
    "    \n",
    "y_all.columns = ['Activity']\n",
    "y_all.head()"
   ]
  },
  {
   "cell_type": "code",
   "execution_count": 16,
   "metadata": {},
   "outputs": [
    {
     "data": {
      "text/plain": "               Activity\n10294  WALKING_UPSTAIRS\n10295  WALKING_UPSTAIRS\n10296  WALKING_UPSTAIRS\n10297  WALKING_UPSTAIRS\n10298  WALKING_UPSTAIRS",
      "text/html": "<div>\n<style scoped>\n    .dataframe tbody tr th:only-of-type {\n        vertical-align: middle;\n    }\n\n    .dataframe tbody tr th {\n        vertical-align: top;\n    }\n\n    .dataframe thead th {\n        text-align: right;\n    }\n</style>\n<table border=\"1\" class=\"dataframe\">\n  <thead>\n    <tr style=\"text-align: right;\">\n      <th></th>\n      <th>Activity</th>\n    </tr>\n  </thead>\n  <tbody>\n    <tr>\n      <th>10294</th>\n      <td>WALKING_UPSTAIRS</td>\n    </tr>\n    <tr>\n      <th>10295</th>\n      <td>WALKING_UPSTAIRS</td>\n    </tr>\n    <tr>\n      <th>10296</th>\n      <td>WALKING_UPSTAIRS</td>\n    </tr>\n    <tr>\n      <th>10297</th>\n      <td>WALKING_UPSTAIRS</td>\n    </tr>\n    <tr>\n      <th>10298</th>\n      <td>WALKING_UPSTAIRS</td>\n    </tr>\n  </tbody>\n</table>\n</div>"
     },
     "execution_count": 16,
     "metadata": {},
     "output_type": "execute_result"
    }
   ],
   "source": [
    "y_all.tail()"
   ]
  },
  {
   "cell_type": "markdown",
   "metadata": {},
   "source": [
    "##### Juntar tudo num único DataFrame e guardar num CSV"
   ]
  },
  {
   "cell_type": "code",
   "execution_count": 23,
   "metadata": {},
   "outputs": [
    {
     "name": "stdout",
     "output_type": "stream",
     "text": [
      "(10299, 563)\n"
     ]
    }
   ],
   "source": [
    "x_all = pd.concat([x_all, subjects_all], axis=1)\n",
    "allXy = pd.concat([x_all, y_all], axis=1)\n",
    "print(allXy.shape)\n",
    "\n",
    "allXy.to_csv(\"HAR_clean.csv\")"
   ]
  },
  {
   "cell_type": "markdown",
   "metadata": {},
   "source": [
    "##### Agregação dos dados para um dataset mais pequeno (por indivíduo e por atividade)"
   ]
  },
  {
   "cell_type": "code",
   "execution_count": 28,
   "metadata": {},
   "outputs": [
    {
     "name": "stdout",
     "output_type": "stream",
     "text": [
      "(180, 561)\n"
     ]
    }
   ],
   "source": [
    "import numpy as np\n",
    "grouped = allXy.groupby(['SubjectID', 'Activity']).aggregate(np.mean)\n",
    "\n",
    "print(grouped.shape)\n",
    "grouped.head()\n",
    "\n",
    "grouped.to_csv(\"HAR_grouped.csv\")"
   ]
  },
  {
   "cell_type": "markdown",
   "metadata": {},
   "source": [
    "### Exploração do conjunto de dados"
   ]
  },
  {
   "cell_type": "markdown",
   "metadata": {},
   "source": [
    "Caraterizar as distribuições de valores das variáveis de entrada"
   ]
  },
  {
   "cell_type": "code",
   "execution_count": 17,
   "metadata": {},
   "outputs": [],
   "source": [
    "input_data = allXy.iloc[:,:-2]\n",
    "#..."
   ]
  },
  {
   "cell_type": "markdown",
   "metadata": {},
   "source": [
    "Caraterizar a distribuição de valores da variável de saída"
   ]
  },
  {
   "cell_type": "code",
   "execution_count": 18,
   "metadata": {},
   "outputs": [],
   "source": [
    "output_data = allXy.iloc[:,-1]\n",
    "# ..."
   ]
  },
  {
   "cell_type": "markdown",
   "metadata": {},
   "source": [
    "Verificar se existem valores nulos"
   ]
  },
  {
   "cell_type": "code",
   "execution_count": null,
   "metadata": {},
   "outputs": [],
   "source": []
  },
  {
   "cell_type": "markdown",
   "metadata": {},
   "source": [
    "Standardizar os dados de entrada"
   ]
  },
  {
   "cell_type": "code",
   "execution_count": null,
   "metadata": {},
   "outputs": [],
   "source": [
    "from sklearn import preprocessing\n",
    "# sc_input = ..."
   ]
  },
  {
   "cell_type": "markdown",
   "metadata": {},
   "source": [
    "### Análise não supervisionada"
   ]
  },
  {
   "cell_type": "markdown",
   "metadata": {},
   "source": [
    "Realizar um processo de PCA que explique pelo menos 80% da variabilidade"
   ]
  },
  {
   "cell_type": "code",
   "execution_count": null,
   "metadata": {},
   "outputs": [],
   "source": []
  },
  {
   "cell_type": "markdown",
   "metadata": {},
   "source": [
    "Represente a variância explicada por cada uma das primeiras 10 PCs usando um gráfico apropriado"
   ]
  },
  {
   "cell_type": "code",
   "execution_count": null,
   "metadata": {},
   "outputs": [],
   "source": []
  },
  {
   "cell_type": "markdown",
   "metadata": {},
   "source": [
    "Construir scores plot com os resultados do PCA e comparar com variável *Activity*"
   ]
  },
  {
   "cell_type": "code",
   "execution_count": null,
   "metadata": {},
   "outputs": [],
   "source": []
  },
  {
   "cell_type": "markdown",
   "metadata": {},
   "source": [
    "Correr clustering k-means; comparar clusters com variável *Activity*"
   ]
  },
  {
   "cell_type": "code",
   "execution_count": null,
   "metadata": {},
   "outputs": [],
   "source": []
  },
  {
   "cell_type": "markdown",
   "metadata": {},
   "source": [
    "Correr clustering hierárquico usando os dados agregados e visualizar árvore resultante colorindo folhas com variável *Activity*"
   ]
  },
  {
   "cell_type": "code",
   "execution_count": null,
   "metadata": {},
   "outputs": [],
   "source": []
  },
  {
   "cell_type": "markdown",
   "metadata": {},
   "source": [
    "### Aprendizagem máquina - modelos supervisionados"
   ]
  },
  {
   "cell_type": "markdown",
   "metadata": {},
   "source": [
    "Dividir dados em partição de treino e teste (mantendo 30% no test set); verificar distribuição nas labels no training e test set"
   ]
  },
  {
   "cell_type": "code",
   "execution_count": null,
   "metadata": {},
   "outputs": [],
   "source": []
  },
  {
   "cell_type": "markdown",
   "metadata": {},
   "source": [
    "Treinar modelos de base com vários classificadores no conjunto de dados de treino. Avaliar cada um destes modelos com validação cruzada."
   ]
  },
  {
   "cell_type": "code",
   "execution_count": null,
   "metadata": {},
   "outputs": [],
   "source": []
  },
  {
   "cell_type": "markdown",
   "metadata": {},
   "source": [
    "Considerando o modelo mais prometedor, experimentar a seleção de atributos baseadas em testes estatísticos univariados (ANOVA), considerando uma redução para metade do número de variáveis."
   ]
  },
  {
   "cell_type": "code",
   "execution_count": null,
   "metadata": {},
   "outputs": [],
   "source": []
  },
  {
   "cell_type": "markdown",
   "metadata": {},
   "source": [
    "Considerando o modelo mais prometedor fazer um processo de otimização de hiperparâmetros"
   ]
  },
  {
   "cell_type": "code",
   "execution_count": null,
   "metadata": {},
   "outputs": [],
   "source": []
  },
  {
   "cell_type": "markdown",
   "metadata": {},
   "source": [
    "Criar um modelo ensemble com base nos 3 melhores modelos que experimentou e avaliá-lo."
   ]
  },
  {
   "cell_type": "code",
   "execution_count": null,
   "metadata": {},
   "outputs": [],
   "source": []
  },
  {
   "cell_type": "markdown",
   "metadata": {},
   "source": [
    "Estime o erro do melhor modelo obtido no test set."
   ]
  },
  {
   "cell_type": "code",
   "execution_count": null,
   "metadata": {},
   "outputs": [],
   "source": []
  },
  {
   "cell_type": "markdown",
   "metadata": {},
   "source": [
    "Treinar o modelo final da forma mais adequada"
   ]
  },
  {
   "cell_type": "code",
   "execution_count": null,
   "metadata": {},
   "outputs": [],
   "source": []
  }
 ],
 "metadata": {
  "kernelspec": {
   "display_name": "Python 3",
   "language": "python",
   "name": "python3"
  },
  "language_info": {
   "codemirror_mode": {
    "name": "ipython",
    "version": 3
   },
   "file_extension": ".py",
   "mimetype": "text/x-python",
   "name": "python",
   "nbconvert_exporter": "python",
   "pygments_lexer": "ipython3",
   "version": "3.8.5"
  }
 },
 "nbformat": 4,
 "nbformat_minor": 4
}
