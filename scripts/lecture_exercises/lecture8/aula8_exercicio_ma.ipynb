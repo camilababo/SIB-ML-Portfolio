{
 "cells": [
  {
   "cell_type": "markdown",
   "id": "c4858b3d",
   "metadata": {},
   "source": [
    "## ML Exercise"
   ]
  },
  {
   "cell_type": "markdown",
   "id": "252600b8",
   "metadata": {},
   "source": [
    "The following dataset was extracted from the paper: \"Deep Neural Nets as a Method for Quantitative Structure–Activity Relationships\" (https://pubs.acs.org/doi/10.1021/ci500747n) and the code presented imports the dataset and performs pre-processing operations to make sure that the training and testing dataset have the same features."
   ]
  },
  {
   "cell_type": "code",
   "execution_count": 2,
   "outputs": [],
   "source": [
    "# The used datasets are relative to inhibition of HIV integrase in a cell based assay (−log(IC50) M)"
   ],
   "metadata": {
    "collapsed": false
   }
  },
  {
   "cell_type": "code",
   "execution_count": 3,
   "id": "acacf907",
   "metadata": {},
   "outputs": [
    {
     "name": "stdout",
     "output_type": "stream",
     "text": [
      "Original dataset size (train and test):\n",
      "(1815, 4188)\n",
      "(598, 2952)\n",
      "Dataset size with equal features (train and test):\n",
      "(1815, 2832)\n",
      "(598, 2832)\n",
      "Final dataset size (train and test): \n",
      "(1815, 2830) (1815,)\n",
      "(598, 2830) (598,)\n"
     ]
    }
   ],
   "source": [
    "## Import dataset with the defined train and test partitions\n",
    "\n",
    "import pandas as pd\n",
    "dataset_training = pd.read_csv(\"HIVINT_training_disguised.csv\")\n",
    "print(\"Original dataset size (train and test):\")\n",
    "print(dataset_training.shape)\n",
    "\n",
    "dataset_test = pd.read_csv(\"HIVINT_test_disguised.csv\")\n",
    "print(dataset_test.shape)\n",
    "\n",
    "## filter datasets to contain only mutual features\n",
    "common_cols = list(set(dataset_training.columns) & set(dataset_test.columns))\n",
    "\n",
    "dataset_training_eq, dataset_test_eq = dataset_training[common_cols], dataset_test[common_cols]\n",
    "\n",
    "print(\"Dataset size with equal features (train and test):\")\n",
    "print(dataset_training_eq.shape)\n",
    "print(dataset_test_eq.shape)\n",
    "\n",
    "## Set the molecule ID as index\n",
    "dataset_training_eq.set_index('MOLECULE', inplace=True)\n",
    "dataset_test_eq.set_index('MOLECULE', inplace=True)\n",
    "\n",
    "## Separate training and testing dataset as input and output\n",
    "## inputs (X) are the descriptors and outputs (Y) are the activity values\n",
    "x_train, y_train = dataset_training_eq.loc[:,dataset_training_eq.columns != \"Act\"], dataset_training_eq[\"Act\"]\n",
    "x_test, y_test = dataset_test_eq.loc[:,dataset_test_eq.columns != \"Act\"], dataset_test_eq[\"Act\"]\n",
    "\n",
    "print(\"Final dataset size (train and test): \")\n",
    "print(x_train.shape,y_train.shape)\n",
    "print(x_test.shape,y_test.shape)"
   ]
  },
  {
   "cell_type": "markdown",
   "id": "00b4ef75",
   "metadata": {},
   "source": [
    "The output variable (Y) measures the compound activity and, as such is numeric. The input variables are calculated from the compund descriptors (fingerprints). The goals of the exercise is to obtain the best possible model for the dataset."
   ]
  },
  {
   "cell_type": "code",
   "execution_count": 4,
   "outputs": [],
   "source": [
    "# imports\n",
    "from sklearn.preprocessing import StandardScaler\n",
    "from sklearn.feature_selection import VarianceThreshold\n",
    "from sklearn.model_selection import cross_val_score\n",
    "from sklearn import preprocessing\n",
    "from sklearn.ensemble import RandomForestClassifier\n",
    "from sklearn import svm\n",
    "from sklearn.neighbors import KNeighborsClassifier\n",
    "import numpy as np\n",
    "from sklearn.model_selection import GridSearchCV"
   ],
   "metadata": {
    "collapsed": false
   }
  },
  {
   "cell_type": "code",
   "execution_count": 5,
   "outputs": [],
   "source": [
    "# The output variable is continuous and needs to be categorical."
   ],
   "metadata": {
    "collapsed": false
   }
  },
  {
   "cell_type": "code",
   "execution_count": 6,
   "outputs": [],
   "source": [
    "#convert y values to categorical values\n",
    "label_encoder = preprocessing.LabelEncoder()\n",
    "y_test_categorical = label_encoder.fit_transform(y_test)\n",
    "y_train_categorical = label_encoder.fit_transform(y_train)\n",
    "\n",
    "#print(y_test_categorical)\n",
    "#print(y_train_categorical)"
   ],
   "metadata": {
    "collapsed": false
   }
  },
  {
   "cell_type": "markdown",
   "source": [
    "#### Data Standardization\n",
    "Standardize input variables (descriptors)."
   ],
   "metadata": {
    "collapsed": false
   }
  },
  {
   "cell_type": "code",
   "execution_count": 7,
   "outputs": [],
   "source": [
    "scaler = StandardScaler()\n",
    "scaler.fit(x_train)\n",
    "sc_x_train = scaler.transform(x_train)\n",
    "sc_x_test = scaler.transform(x_test)"
   ],
   "metadata": {
    "collapsed": false
   }
  },
  {
   "cell_type": "markdown",
   "source": [
    "#### Test different models"
   ],
   "metadata": {
    "collapsed": false
   }
  },
  {
   "cell_type": "code",
   "execution_count": 8,
   "outputs": [],
   "source": [
    "# The article cited RF and SVM as the most predictive model for QSAR problems and RFM as the gold standard."
   ],
   "metadata": {
    "collapsed": false
   }
  },
  {
   "cell_type": "code",
   "execution_count": 9,
   "outputs": [
    {
     "name": "stderr",
     "output_type": "stream",
     "text": [
      "C:\\Users\\anaca\\Documents\\GitHub\\SIB-ML-Portfolio\\venv\\lib\\site-packages\\sklearn\\model_selection\\_split.py:684: UserWarning: The least populated class in y has only 1 members, which is less than n_splits=5.\n",
      "  warnings.warn(\n"
     ]
    },
    {
     "data": {
      "text/plain": "0.06446280991735537"
     },
     "execution_count": 9,
     "metadata": {},
     "output_type": "execute_result"
    }
   ],
   "source": [
    "#Random Forest Classifier\n",
    "rf_model = RandomForestClassifier()\n",
    "\n",
    "scores_rf = cross_val_score(rf_model, sc_x_train, y_train_categorical, cv = 5).mean()\n",
    "scores_rf"
   ],
   "metadata": {
    "collapsed": false
   }
  },
  {
   "cell_type": "code",
   "execution_count": 10,
   "outputs": [
    {
     "name": "stderr",
     "output_type": "stream",
     "text": [
      "C:\\Users\\anaca\\Documents\\GitHub\\SIB-ML-Portfolio\\venv\\lib\\site-packages\\sklearn\\model_selection\\_split.py:684: UserWarning: The least populated class in y has only 1 members, which is less than n_splits=5.\n",
      "  warnings.warn(\n"
     ]
    },
    {
     "data": {
      "text/plain": "0.08650137741046833"
     },
     "execution_count": 10,
     "metadata": {},
     "output_type": "execute_result"
    }
   ],
   "source": [
    "#Support Vector Classifier\n",
    "svm_model = svm.SVC()\n",
    "\n",
    "scores_svm = cross_val_score(svm_model, sc_x_train, y_train_categorical, cv=5).mean()\n",
    "scores_svm"
   ],
   "metadata": {
    "collapsed": false
   }
  },
  {
   "cell_type": "code",
   "execution_count": 11,
   "outputs": [
    {
     "name": "stderr",
     "output_type": "stream",
     "text": [
      "C:\\Users\\anaca\\Documents\\GitHub\\SIB-ML-Portfolio\\venv\\lib\\site-packages\\sklearn\\model_selection\\_split.py:684: UserWarning: The least populated class in y has only 1 members, which is less than n_splits=5.\n",
      "  warnings.warn(\n"
     ]
    },
    {
     "data": {
      "text/plain": "0.061157024793388436"
     },
     "execution_count": 11,
     "metadata": {},
     "output_type": "execute_result"
    }
   ],
   "source": [
    "# KNeighbors Classifiers\n",
    "knn_model = KNeighborsClassifier()\n",
    "\n",
    "scores_knn = cross_val_score(knn_model, sc_x_train, y_train_categorical, cv = 5).mean()\n",
    "scores_knn"
   ],
   "metadata": {
    "collapsed": false
   }
  },
  {
   "cell_type": "markdown",
   "source": [
    "#### Feature Selection"
   ],
   "metadata": {
    "collapsed": false
   }
  },
  {
   "cell_type": "code",
   "execution_count": 12,
   "outputs": [
    {
     "name": "stdout",
     "output_type": "stream",
     "text": [
      "(1815, 2830) (598, 2830)\n",
      "(1815, 1280)\n"
     ]
    }
   ],
   "source": [
    "selector = VarianceThreshold(threshold=0.1)\n",
    "filter_feat = selector.fit_transform(x_train, y_train_categorical)\n",
    "\n",
    "print(sc_x_train.shape, sc_x_test.shape)\n",
    "print(filter_feat.shape)"
   ],
   "metadata": {
    "collapsed": false
   }
  },
  {
   "cell_type": "code",
   "execution_count": 13,
   "outputs": [
    {
     "name": "stderr",
     "output_type": "stream",
     "text": [
      "C:\\Users\\anaca\\Documents\\GitHub\\SIB-ML-Portfolio\\venv\\lib\\site-packages\\sklearn\\model_selection\\_split.py:684: UserWarning: The least populated class in y has only 1 members, which is less than n_splits=5.\n",
      "  warnings.warn(\n"
     ]
    },
    {
     "data": {
      "text/plain": "0.08429752066115703"
     },
     "execution_count": 13,
     "metadata": {},
     "output_type": "execute_result"
    }
   ],
   "source": [
    "best_model_score = cross_val_score(svm_model, filter_feat, y_train_categorical, cv=5).mean()\n",
    "best_model_score"
   ],
   "metadata": {
    "collapsed": false
   }
  },
  {
   "cell_type": "code",
   "execution_count": 14,
   "outputs": [],
   "source": [
    "# Lowered score with the filtered features."
   ],
   "metadata": {
    "collapsed": false
   }
  },
  {
   "cell_type": "markdown",
   "source": [
    "#### Hyperparameter Optimization"
   ],
   "metadata": {
    "collapsed": false
   }
  },
  {
   "cell_type": "code",
   "execution_count": 15,
   "outputs": [
    {
     "name": "stderr",
     "output_type": "stream",
     "text": [
      "C:\\Users\\anaca\\Documents\\GitHub\\SIB-ML-Portfolio\\venv\\lib\\site-packages\\sklearn\\model_selection\\_split.py:684: UserWarning: The least populated class in y has only 1 members, which is less than n_splits=3.\n",
      "  warnings.warn(\n"
     ]
    },
    {
     "name": "stdout",
     "output_type": "stream",
     "text": [
      "SVC(C=2, gamma=0.1)\n"
     ]
    }
   ],
   "source": [
    "grid_list = {\"C\": np.arange(2, 10, 2),\n",
    "             \"gamma\": np.arange(0.1, 1, 0.2)}\n",
    "\n",
    "opt_model = GridSearchCV(svm_model, param_grid = grid_list, n_jobs = 4, cv = 3)\n",
    "opt_model.fit(sc_x_train, y_train_categorical)\n",
    "opt_model.cv_results_\n",
    "\n",
    "print(opt_model.best_estimator_)"
   ],
   "metadata": {
    "collapsed": false
   }
  },
  {
   "cell_type": "code",
   "execution_count": 16,
   "outputs": [
    {
     "name": "stderr",
     "output_type": "stream",
     "text": [
      "C:\\Users\\anaca\\Documents\\GitHub\\SIB-ML-Portfolio\\venv\\lib\\site-packages\\sklearn\\model_selection\\_split.py:684: UserWarning: The least populated class in y has only 1 members, which is less than n_splits=5.\n",
      "  warnings.warn(\n",
      "C:\\Users\\anaca\\Documents\\GitHub\\SIB-ML-Portfolio\\venv\\lib\\site-packages\\sklearn\\model_selection\\_split.py:684: UserWarning: The least populated class in y has only 1 members, which is less than n_splits=3.\n",
      "  warnings.warn(\n",
      "C:\\Users\\anaca\\Documents\\GitHub\\SIB-ML-Portfolio\\venv\\lib\\site-packages\\sklearn\\model_selection\\_split.py:684: UserWarning: The least populated class in y has only 1 members, which is less than n_splits=3.\n",
      "  warnings.warn(\n",
      "C:\\Users\\anaca\\Documents\\GitHub\\SIB-ML-Portfolio\\venv\\lib\\site-packages\\sklearn\\model_selection\\_split.py:684: UserWarning: The least populated class in y has only 1 members, which is less than n_splits=3.\n",
      "  warnings.warn(\n",
      "C:\\Users\\anaca\\Documents\\GitHub\\SIB-ML-Portfolio\\venv\\lib\\site-packages\\sklearn\\model_selection\\_split.py:684: UserWarning: The least populated class in y has only 1 members, which is less than n_splits=3.\n",
      "  warnings.warn(\n",
      "C:\\Users\\anaca\\Documents\\GitHub\\SIB-ML-Portfolio\\venv\\lib\\site-packages\\sklearn\\model_selection\\_split.py:684: UserWarning: The least populated class in y has only 1 members, which is less than n_splits=3.\n",
      "  warnings.warn(\n"
     ]
    },
    {
     "name": "stdout",
     "output_type": "stream",
     "text": [
      "0.07988980716253444\n"
     ]
    }
   ],
   "source": [
    "opt_model_score  = cross_val_score(opt_model, filter_feat,  y_train_categorical, cv = 5).mean()\n",
    "print(opt_model_score)"
   ],
   "metadata": {
    "collapsed": false
   }
  },
  {
   "cell_type": "markdown",
   "source": [
    "#### Train and test model with the best score"
   ],
   "metadata": {
    "collapsed": false
   }
  },
  {
   "cell_type": "code",
   "execution_count": 17,
   "outputs": [
    {
     "data": {
      "text/plain": "0.0016722408026755853"
     },
     "execution_count": 17,
     "metadata": {},
     "output_type": "execute_result"
    }
   ],
   "source": [
    "svm_model.fit(sc_x_train, y_train_categorical)\n",
    "\n",
    "svm_model.score(sc_x_test, y_test_categorical)"
   ],
   "metadata": {
    "collapsed": false
   }
  }
 ],
 "metadata": {
  "kernelspec": {
   "display_name": "Python 3 (ipykernel)",
   "language": "python",
   "name": "python3"
  },
  "language_info": {
   "codemirror_mode": {
    "name": "ipython",
    "version": 3
   },
   "file_extension": ".py",
   "mimetype": "text/x-python",
   "name": "python",
   "nbconvert_exporter": "python",
   "pygments_lexer": "ipython3",
   "version": "3.9.7"
  }
 },
 "nbformat": 4,
 "nbformat_minor": 5
}
